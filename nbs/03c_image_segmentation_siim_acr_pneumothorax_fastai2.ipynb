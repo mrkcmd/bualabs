{
  "nbformat": 4,
  "nbformat_minor": 0,
  "metadata": {
    "colab": {
      "name": "03c-image-segmentation-siim-acr-pneumothorax-fastai2.ipynb",
      "provenance": [],
      "toc_visible": true,
      "machine_shape": "hm"
    },
    "kernelspec": {
      "name": "python3",
      "display_name": "Python 3"
    },
    "accelerator": "GPU"
  },
  "cells": [
    {
      "cell_type": "markdown",
      "metadata": {
        "colab_type": "text",
        "id": "vWywWSJfI28W"
      },
      "source": [
        "จาก ep ที่แล้ว ที่เราพัฒนาโปรแกรม [AI การแพทย์ วินิจฉัยภาวะปอดรั่ว Pneumothorax](https://www.bualabs.com/archives/2856/ai-diagnose-pneumothorax-read-chest-x-ray-radiograph-image-collapsed-lung-radiologist-triage-patient-classification-segment-medical-image-segmentation-ep-2/) ได้ผลดีพอสมควร ใน ep นี้เราจะปรับปรุงโมเดล ด้วยเทคนิคใหม่ ๆ เช่น [fastai2](https://www.bualabs.com/archives/4102/tutorial-fastai2-oxford-pets-dog-cat-37-class-machine-learning-deep-neural-networks-image-classification-ep-7/), [Data Echoing](https://www.bualabs.com/archives/4157/data-echoing-faster-neural-network-training-with-data-echoing-machine-learning-data-echoing-preprocessing-ep-6/), [Focal Loss](https://www.bualabs.com/archives/4227/what-is-focal-loss-loss-function-ep-4/), และ Ranger Optimizer แบบใหม่ ว่าจะได้ผลเป็นอย่างไร"
      ]
    },
    {
      "cell_type": "markdown",
      "metadata": {
        "colab_type": "text",
        "id": "Y7QjHJiKRD9N"
      },
      "source": [
        "# 0. Install"
      ]
    },
    {
      "cell_type": "code",
      "metadata": {
        "id": "ipk-J8p-Yna_",
        "colab_type": "code",
        "outputId": "cc1f0a47-5bea-4a47-c949-a3f250977f12",
        "colab": {
          "base_uri": "https://localhost:8080/",
          "height": 357
        }
      },
      "source": [
        "! nvidia-smi"
      ],
      "execution_count": 1,
      "outputs": [
        {
          "output_type": "stream",
          "text": [
            "Sat Jun 13 06:53:23 2020       \n",
            "+-----------------------------------------------------------------------------+\n",
            "| NVIDIA-SMI 450.36.06    Driver Version: 418.67       CUDA Version: 10.1     |\n",
            "|-------------------------------+----------------------+----------------------+\n",
            "| GPU  Name        Persistence-M| Bus-Id        Disp.A | Volatile Uncorr. ECC |\n",
            "| Fan  Temp  Perf  Pwr:Usage/Cap|         Memory-Usage | GPU-Util  Compute M. |\n",
            "|                               |                      |               MIG M. |\n",
            "|===============================+======================+======================|\n",
            "|   0  Tesla P100-PCIE...  Off  | 00000000:00:04.0 Off |                    0 |\n",
            "| N/A   31C    P0    25W / 250W |      0MiB / 16280MiB |      0%      Default |\n",
            "|                               |                      |                 ERR! |\n",
            "+-------------------------------+----------------------+----------------------+\n",
            "                                                                               \n",
            "+-----------------------------------------------------------------------------+\n",
            "| Processes:                                                                  |\n",
            "|  GPU   GI   CI        PID   Type   Process name                  GPU Memory |\n",
            "|        ID   ID                                                   Usage      |\n",
            "|=============================================================================|\n",
            "|  No running processes found                                                 |\n",
            "+-----------------------------------------------------------------------------+\n"
          ],
          "name": "stdout"
        }
      ]
    },
    {
      "cell_type": "code",
      "metadata": {
        "id": "Z2BIeJmOeNVk",
        "colab_type": "code",
        "colab": {}
      },
      "source": [
        "%reload_ext autoreload\n",
        "%autoreload 2\n",
        "%matplotlib inline"
      ],
      "execution_count": 0,
      "outputs": []
    },
    {
      "cell_type": "markdown",
      "metadata": {
        "colab_type": "text",
        "id": "_qxIXpQqTmzD"
      },
      "source": [
        "เราจะต้อง Install kaggle เพื่อ Download Dataset"
      ]
    },
    {
      "cell_type": "code",
      "metadata": {
        "colab_type": "code",
        "id": "rnpSo4UOwmES",
        "colab": {
          "base_uri": "https://localhost:8080/",
          "height": 68
        },
        "outputId": "16844a0e-0b98-4756-ca6b-8e76548d01df"
      },
      "source": [
        "# # Colab\n",
        "# ! pip install fastai2 -q\n",
        "# ! pip install kaggle --upgrade -q\n",
        "# ! pip install pydicom -q\n",
        "\n",
        "# ! pip install kornia -q"
      ],
      "execution_count": 3,
      "outputs": [
        {
          "output_type": "stream",
          "text": [
            "\u001b[K     |████████████████████████████████| 194kB 2.8MB/s \n",
            "\u001b[K     |████████████████████████████████| 35.5MB 89kB/s \n",
            "\u001b[K     |████████████████████████████████| 163kB 2.8MB/s \n",
            "\u001b[?25h"
          ],
          "name": "stdout"
        }
      ]
    },
    {
      "cell_type": "markdown",
      "metadata": {
        "colab_type": "text",
        "id": "eIhjYw2SRB31"
      },
      "source": [
        "# 1. Import Library"
      ]
    },
    {
      "cell_type": "markdown",
      "metadata": {
        "colab_type": "text",
        "id": "EYelaC8QUiuP"
      },
      "source": [
        "Import pydicom สำหรับเปิดไฟล์ภาพเอ็กซ์เรย์ DICOM นามสกุล dcm และ Libray อื่น ๆ ที่เราต้องการใช้"
      ]
    },
    {
      "cell_type": "code",
      "metadata": {
        "colab_type": "code",
        "id": "mQfGtLVJwJL8",
        "colab": {}
      },
      "source": [
        "import math\n",
        "import numpy as np\n",
        "import pandas as pd\n",
        "\n",
        "import os\n",
        "import gc\n",
        "import glob\n",
        "import PIL \n",
        "\n",
        "import pydicom\n",
        "\n",
        "from pathlib import Path\n",
        "from matplotlib import cm\n",
        "from matplotlib import pyplot as plt\n",
        "\n",
        "from fastai2.basics import *\n",
        "from fastai2.vision.all import *\n",
        "from fastai2.callback.all import *\n",
        "from fastai2.metrics import *\n",
        "\n",
        "from IPython.core.debugger import set_trace\n",
        "\n",
        "import kornia"
      ],
      "execution_count": 0,
      "outputs": []
    },
    {
      "cell_type": "code",
      "metadata": {
        "id": "LN7nb3-PBGnZ",
        "colab_type": "code",
        "colab": {}
      },
      "source": [
        "set_seed(1234)"
      ],
      "execution_count": 0,
      "outputs": []
    },
    {
      "cell_type": "markdown",
      "metadata": {
        "colab_type": "text",
        "id": "hZBm5maPRLmi"
      },
      "source": [
        "# 2. เตรียม Path สำหรับดาวน์โหลดข้อมูล"
      ]
    },
    {
      "cell_type": "markdown",
      "metadata": {
        "colab_type": "text",
        "id": "9DBiIhGYT6VU"
      },
      "source": [
        "กำหนด path ของ Config File และ Dataset ว่าจะอยู่ใน Google Drive ถ้าเราใช้ [Google Colab](https://www.bualabs.com/archives/1687/what-is-colab-open-jupyter-notebook-in-github-on-google-colab-create-open-in-colab-button-colab-ep-1/) หรือ อยู่ใน HOME ถ้าเราใช้ VM ธรรมดา และกำหนด Environment Variable ไปยังโฟลเดอร์ที่เก็บ kaggle.json"
      ]
    },
    {
      "cell_type": "markdown",
      "metadata": {
        "colab_type": "text",
        "id": "3xwILAZXUBx-"
      },
      "source": [
        "ในกรณีใช้ Colab ให้ Mount Google Drive เพื่อดึง Config File มาจาก Google Drive ส่วนตัวของเรา เมื่อเรารัน Cell ด้านล่างจะมีลิงค์ปรากฎขึ้นมาให้เรา Login กด Approve แล้ว Copy Authorization Code มาใส่ในช่องด้านล่าง แล้วกด Enter"
      ]
    },
    {
      "cell_type": "markdown",
      "metadata": {
        "id": "6g0fCwF8f0Lu",
        "colab_type": "text"
      },
      "source": [
        "ในเคสนี้เราจะดึงข้อมูลจากหลาย Dataset เนื่องจากเราจะใช้การเทรนแบบ Progressive Resizing ใช้รูปหลายขนาดในการเทรน "
      ]
    },
    {
      "cell_type": "code",
      "metadata": {
        "colab_type": "code",
        "id": "N7_7Mxaw8jfO",
        "outputId": "2194e1ae-3db8-4924-910b-9163a3c01309",
        "colab": {
          "base_uri": "https://localhost:8080/",
          "height": 122
        }
      },
      "source": [
        "dataset = 'siim-acr-pneumothorax-segmentation'\n",
        "dataset2 = 'jesperdramsch/siim-acr-pneumothorax-segmentation-data'\n",
        "dataset3 = 'iafoss/siimacr-pneumothorax-segmentation-data-128'\n",
        "dataset4 = 'iafoss/siimacr-pneumothorax-segmentation-data-256'\n",
        "dataset5 = 'iafoss/siimacr-pneumothorax-segmentation-data-512'\n",
        "dataset6 = 'iafoss/siimacr-pneumothorax-segmentation-data-1024'\n",
        "dataset_test = 'ivanzhovannik/siim_stage2_png'\n",
        "\n",
        "# Google Colab\n",
        "config_path = Path('/content/drive')\n",
        "learner_path = config_path/\"My Drive\"\n",
        "data_path_base = Path('/content/datasets/')\n",
        "\n",
        "data_path = data_path_base/dataset\n",
        "data_path2 = data_path_base/dataset2\n",
        "data_path3 = data_path_base/dataset3\n",
        "data_path4 = data_path_base/dataset4\n",
        "data_path5 = data_path_base/dataset5\n",
        "data_path6 = data_path_base/dataset6\n",
        "data_path_test = data_path_base/dataset_test\n",
        "\n",
        "from google.colab import drive\n",
        "drive.mount(str(config_path))\n",
        "os.environ['KAGGLE_CONFIG_DIR'] = f\"{config_path}/My Drive/.kaggle\"\n",
        "\n",
        "# # VM\n",
        "# config_path = Path(os.getenv(\"HOME\"))\n",
        "# learner_path = config_path\n",
        "# data_path = config_path/\"datasets\"/dataset\n",
        "# data_path2 = config_path/\"datasets\"/dataset2\n",
        "# data_path3 = config_path/\"datasets\"/dataset3\n",
        "# data_path4 = config_path/\"datasets\"/dataset4\n",
        "# data_path5 = config_path/\"datasets\"/dataset5\n",
        "# data_path6 = config_path/\"datasets\"/dataset6\n",
        "# data_path_test = config_path/\"datasets\"/dataset_test\n",
        "\n",
        "# data_path.mkdir(parents=True, exist_ok=True)\n",
        "# os.environ['KAGGLE_CONFIG_DIR'] = f\"{config_path}/.kaggle\""
      ],
      "execution_count": 6,
      "outputs": [
        {
          "output_type": "stream",
          "text": [
            "Go to this URL in a browser: https://accounts.google.com/o/oauth2/auth?client_id=947318989803-6bn6qk8qdgf4n4g3pfee6491hc0brc4i.apps.googleusercontent.com&redirect_uri=urn%3aietf%3awg%3aoauth%3a2.0%3aoob&response_type=code&scope=email%20https%3a%2f%2fwww.googleapis.com%2fauth%2fdocs.test%20https%3a%2f%2fwww.googleapis.com%2fauth%2fdrive%20https%3a%2f%2fwww.googleapis.com%2fauth%2fdrive.photos.readonly%20https%3a%2f%2fwww.googleapis.com%2fauth%2fpeopleapi.readonly\n",
            "\n",
            "Enter your authorization code:\n",
            "··········\n",
            "Mounted at /content/drive\n"
          ],
          "name": "stdout"
        }
      ]
    },
    {
      "cell_type": "markdown",
      "metadata": {
        "colab_type": "text",
        "id": "fjX_JnMaRRaM"
      },
      "source": [
        "# 3. Dataset"
      ]
    },
    {
      "cell_type": "markdown",
      "metadata": {
        "colab_type": "text",
        "id": "MhsZxRECNHv_"
      },
      "source": [
        "ในเคสนี้ เราจะ Download ข้อมูล Dataset ที่เกี่ยวข้องทั้งหมดมาเก็บไว้ แบ่งเป็นรูปฟิล์ม X-Ray ขนาดต่าง ๆ ข้อมูลต้นฉบับ ข้อมูล Test Set, etc."
      ]
    },
    {
      "cell_type": "markdown",
      "metadata": {
        "colab_type": "text",
        "id": "Mtf3SFWCUYpu"
      },
      "source": [
        "Dataset เราจะดึงจาก Kaggle วิธี Download kaggle.json ให้ดูจาก ep ที่แล้ว\n",
        "\n",
        "เมื่อได้ kaggle.json มาแล้ว ในกรณีใช้ Google Colab ให้นำมาใส่ไว้ในโฟลเดอร์ My Drive/.kaggle ใน Google Drive ของเรา เป็น My Drive/.kaggle/kaggle.json ถ้าใช้ VM ให้ใส่ใน HOME/.kaggle/\n",
        "\n",
        "สั่งดาวน์โหลด Dataset จาก Kaggle พร้อมทั้ง unzip ไว้ใน data_path"
      ]
    },
    {
      "cell_type": "code",
      "metadata": {
        "colab_type": "code",
        "id": "DWVg-d8V4kRq",
        "colab": {
          "base_uri": "https://localhost:8080/",
          "height": 1000
        },
        "outputId": "19cb63c7-e970-4cca-b5c8-8133817796a2"
      },
      "source": [
        "# !kaggle competitions download -c {dataset} -p \"{data_path}\"\n",
        "# !kaggle datasets download {dataset2} -p \"{data_path2}\" --unzip\n",
        "# !kaggle datasets download {dataset3} -p \"{data_path3}\" --unzip\n",
        "# !kaggle datasets download {dataset4} -p \"{data_path4}\" --unzip\n",
        "# !kaggle datasets download {dataset5} -p \"{data_path5}\" --unzip\n",
        "# ## !kaggle datasets download {dataset6} -p \"{data_path6}\" --unzip\n",
        "# !kaggle datasets download {dataset_test} -p \"{data_path_test}\" --unzip"
      ],
      "execution_count": 0,
      "outputs": [
        {
          "output_type": "stream",
          "text": [
            "Warning: Looks like you're using an outdated API Version, please consider updating (server 1.5.6 / client 1.5.4)\n",
            "Downloading ID_003206608.dcm to /content/datasets/siim-acr-pneumothorax-segmentation\n",
            "  0% 0.00/148k [00:00<?, ?B/s]\n",
            "100% 148k/148k [00:00<00:00, 57.8MB/s]\n",
            "Downloading ID_01fe90211.dcm to /content/datasets/siim-acr-pneumothorax-segmentation\n",
            "  0% 0.00/155k [00:00<?, ?B/s]\n",
            "100% 155k/155k [00:00<00:00, 47.9MB/s]\n",
            "Downloading ID_00593ac6d.dcm to /content/datasets/siim-acr-pneumothorax-segmentation\n",
            "  0% 0.00/151k [00:00<?, ?B/s]\n",
            "100% 151k/151k [00:00<00:00, 50.5MB/s]\n",
            "Downloading ID_01c754b4a.dcm to /content/datasets/siim-acr-pneumothorax-segmentation\n",
            "  0% 0.00/130k [00:00<?, ?B/s]\n",
            "100% 130k/130k [00:00<00:00, 43.0MB/s]\n",
            "Downloading ID_00b0e5a9f.dcm to /content/datasets/siim-acr-pneumothorax-segmentation\n",
            "  0% 0.00/159k [00:00<?, ?B/s]\n",
            "100% 159k/159k [00:00<00:00, 49.2MB/s]\n",
            "Downloading ID_0194bdd5a.dcm to /content/datasets/siim-acr-pneumothorax-segmentation\n",
            "  0% 0.00/97.3k [00:00<?, ?B/s]\n",
            "100% 97.3k/97.3k [00:00<00:00, 89.3MB/s]\n",
            "Downloading ID_00528aa0e.dcm to /content/datasets/siim-acr-pneumothorax-segmentation\n",
            "  0% 0.00/110k [00:00<?, ?B/s]\n",
            "100% 110k/110k [00:00<00:00, 98.5MB/s]\n",
            "Downloading ID_004d72c54.dcm to /content/datasets/siim-acr-pneumothorax-segmentation\n",
            "  0% 0.00/106k [00:00<?, ?B/s]\n",
            "100% 106k/106k [00:00<00:00, 106MB/s]\n",
            "Downloading ID_01bbf9032.dcm to /content/datasets/siim-acr-pneumothorax-segmentation\n",
            "  0% 0.00/131k [00:00<?, ?B/s]\n",
            "100% 131k/131k [00:00<00:00, 128MB/s]\n",
            "Downloading ID_017bd788a.dcm to /content/datasets/siim-acr-pneumothorax-segmentation\n",
            "  0% 0.00/125k [00:00<?, ?B/s]\n",
            "100% 125k/125k [00:00<00:00, 128MB/s]\n",
            "Downloading ID_00f04769e.dcm to /content/datasets/siim-acr-pneumothorax-segmentation\n",
            "  0% 0.00/153k [00:00<?, ?B/s]\n",
            "100% 153k/153k [00:00<00:00, 50.0MB/s]\n",
            "Downloading ID_004d6fbb6.dcm to /content/datasets/siim-acr-pneumothorax-segmentation\n",
            "  0% 0.00/140k [00:00<?, ?B/s]\n",
            "100% 140k/140k [00:00<00:00, 143MB/s]\n",
            "Downloading ID_00d054471.dcm to /content/datasets/siim-acr-pneumothorax-segmentation\n",
            "  0% 0.00/130k [00:00<?, ?B/s]\n",
            "100% 130k/130k [00:00<00:00, 126MB/s]\n",
            "Downloading ID_00f715288.dcm to /content/datasets/siim-acr-pneumothorax-segmentation\n",
            "  0% 0.00/111k [00:00<?, ?B/s]\n",
            "100% 111k/111k [00:00<00:00, 114MB/s]\n",
            "Downloading ID_010566ba9.dcm to /content/datasets/siim-acr-pneumothorax-segmentation\n",
            "  0% 0.00/113k [00:00<?, ?B/s]\n",
            "100% 113k/113k [00:00<00:00, 98.0MB/s]\n",
            "Downloading ID_0159b1d59.dcm to /content/datasets/siim-acr-pneumothorax-segmentation\n",
            "  0% 0.00/153k [00:00<?, ?B/s]\n",
            "100% 153k/153k [00:00<00:00, 127MB/s]\n",
            "Downloading ID_01a3312da.dcm to /content/datasets/siim-acr-pneumothorax-segmentation\n",
            "  0% 0.00/150k [00:00<?, ?B/s]\n",
            "100% 150k/150k [00:00<00:00, 136MB/s]\n",
            "Downloading ID_0011fe81e.dcm to /content/datasets/siim-acr-pneumothorax-segmentation\n",
            "  0% 0.00/138k [00:00<?, ?B/s]\n",
            "100% 138k/138k [00:00<00:00, 142MB/s]\n",
            "Downloading ID_00b115bfe.dcm to /content/datasets/siim-acr-pneumothorax-segmentation\n",
            "  0% 0.00/114k [00:00<?, ?B/s]\n",
            "100% 114k/114k [00:00<00:00, 111MB/s]\n",
            "Downloading ID_018f96b48.dcm to /content/datasets/siim-acr-pneumothorax-segmentation\n",
            "  0% 0.00/89.8k [00:00<?, ?B/s]\n",
            "100% 89.8k/89.8k [00:00<00:00, 90.1MB/s]\n",
            "Downloading stage_2_sample_submission.csv to /content/datasets/siim-acr-pneumothorax-segmentation\n",
            "  0% 0.00/50.1k [00:00<?, ?B/s]\n",
            "100% 50.1k/50.1k [00:00<00:00, 50.4MB/s]\n",
            "Downloading download_images.py to /content/datasets/siim-acr-pneumothorax-segmentation\n",
            "  0% 0.00/3.61k [00:00<?, ?B/s]\n",
            "100% 3.61k/3.61k [00:00<00:00, 3.78MB/s]\n",
            "Downloading stage_2_train.csv.zip to /content/datasets/siim-acr-pneumothorax-segmentation\n",
            "  0% 0.00/1.17M [00:00<?, ?B/s]\n",
            "100% 1.17M/1.17M [00:00<00:00, 79.0MB/s]\n",
            "Downloading mask_functions.py to /content/datasets/siim-acr-pneumothorax-segmentation\n",
            "  0% 0.00/1.19k [00:00<?, ?B/s]\n",
            "100% 1.19k/1.19k [00:00<00:00, 1.23MB/s]\n",
            "Downloading siim-acr-pneumothorax-segmentation-data.zip to /content/datasets/jesperdramsch/siim-acr-pneumothorax-segmentation-data\n",
            " 26% 801M/3.03G [00:19<00:41, 57.7MB/s]"
          ],
          "name": "stdout"
        }
      ]
    },
    {
      "cell_type": "markdown",
      "metadata": {
        "id": "EDFVn8bAhS12",
        "colab_type": "text"
      },
      "source": [
        "Unzip ไฟล์ที่ดาวน์โหลดจาก Kaggle Competition"
      ]
    },
    {
      "cell_type": "code",
      "metadata": {
        "colab_type": "code",
        "id": "6h-wCah2MIGV",
        "colab": {}
      },
      "source": [
        "# ! unzip -q {data_path}/siim-acr-pneumothorax-segmentation.zip -d {data_path}\n",
        "# ! unzip -q {data_path}/stage_2_images.zip -d {data_path}/stage_2_images\n",
        "# ! unzip -q {data_path}/stage_2_train.csv.zip -d {data_path}"
      ],
      "execution_count": 0,
      "outputs": []
    },
    {
      "cell_type": "markdown",
      "metadata": {
        "colab_type": "text",
        "id": "0fG8KJ3U6zpr"
      },
      "source": [
        "Import ฟังก์ชันสำหรับแปลงข้อมูล Label ที่อยู่ในรูปแบบ Run-length encoding (RLE) to Mask ที่ให้มากับ Dataset"
      ]
    },
    {
      "cell_type": "code",
      "metadata": {
        "colab_type": "code",
        "id": "pFujJZV2Ll_3",
        "colab": {}
      },
      "source": [
        "import sys\n",
        "sys.path.insert(0, str(data_path))\n",
        "\n",
        "from mask_functions import *"
      ],
      "execution_count": 0,
      "outputs": []
    },
    {
      "cell_type": "markdown",
      "metadata": {
        "colab_type": "text",
        "id": "-9a3w3CN4Zbr"
      },
      "source": [
        "# 4. Data"
      ]
    },
    {
      "cell_type": "markdown",
      "metadata": {
        "colab_type": "text",
        "id": "a0_3gwnTXGrj"
      },
      "source": [
        "## 4.1 DICOM Image"
      ]
    },
    {
      "cell_type": "markdown",
      "metadata": {
        "colab_type": "text",
        "id": "swuLfdY9O66A"
      },
      "source": [
        "เปิดดูข้อมูลฟิล์มเอ็กซ์เรย์"
      ]
    },
    {
      "cell_type": "code",
      "metadata": {
        "colab_type": "code",
        "id": "Z2Trpv1kOt33",
        "colab": {}
      },
      "source": [
        "def show_dcm_info(dataset):\n",
        "    print(\"Filename.........:\", file_path)\n",
        "    print(\"Storage type.....:\", dataset.SOPClassUID)\n",
        "    print()\n",
        "\n",
        "    pat_name = dataset.PatientName\n",
        "    display_name = pat_name.family_name + \", \" + pat_name.given_name\n",
        "    print(\"Patient's name......:\", display_name)\n",
        "    print(\"Patient id..........:\", dataset.PatientID)\n",
        "    print(\"Patient's Age.......:\", dataset.PatientAge)\n",
        "    print(\"Patient's Sex.......:\", dataset.PatientSex)\n",
        "    print(\"Modality............:\", dataset.Modality)\n",
        "    print(\"Body Part Examined..:\", dataset.BodyPartExamined)\n",
        "    print(\"View Position.......:\", dataset.ViewPosition)\n",
        "    \n",
        "    if 'PixelData' in dataset:\n",
        "        rows = int(dataset.Rows)\n",
        "        cols = int(dataset.Columns)\n",
        "        print(\"Image size.......: {rows:d} x {cols:d}, {size:d} bytes\".format(\n",
        "            rows=rows, cols=cols, size=len(dataset.PixelData)))\n",
        "        if 'PixelSpacing' in dataset:\n",
        "            print(\"Pixel spacing....:\", dataset.PixelSpacing)\n",
        "\n",
        "def plot_pixel_array(dataset, figsize=(10,10)):\n",
        "    plt.figure(figsize=figsize)\n",
        "    plt.imshow(dataset.pixel_array, cmap=plt.cm.bone)\n",
        "    plt.show()\n"
      ],
      "execution_count": 0,
      "outputs": []
    },
    {
      "cell_type": "markdown",
      "metadata": {
        "id": "G5rjEqiYhuFq",
        "colab_type": "text"
      },
      "source": [
        "วนลูปเปิดดูไฟล์ DICOM ที่จะมีทั้งรูป และ Metadata ข้อมูลประกอบ อยู่ในไฟล์เดียวกัน"
      ]
    },
    {
      "cell_type": "code",
      "metadata": {
        "colab_type": "code",
        "id": "AfarZadkOwNz",
        "colab": {}
      },
      "source": [
        "for file_path in glob.glob(str(data_path2/'pneumothorax/dicom-images-train/*/*/*.dcm')):\n",
        "    dataset = pydicom.dcmread(file_path)\n",
        "    show_dcm_info(dataset)\n",
        "    plot_pixel_array(dataset)\n",
        "    break # Comment this out to see all"
      ],
      "execution_count": 0,
      "outputs": []
    },
    {
      "cell_type": "markdown",
      "metadata": {
        "id": "mwCYVzoWh8h8",
        "colab_type": "text"
      },
      "source": [
        "ลองดูทีละหลาย ๆ ไฟล์"
      ]
    },
    {
      "cell_type": "code",
      "metadata": {
        "colab_type": "code",
        "id": "fbGL9jZLOwXs",
        "colab": {}
      },
      "source": [
        "start = 22   # Starting index of images\n",
        "num_img = 3 # Total number of images to show\n",
        "\n",
        "fig, ax = plt.subplots(nrows=1, ncols=num_img, sharey=True, figsize=(num_img*5,5))\n",
        "for q, file_path in enumerate(glob.glob(str(data_path2/'pneumothorax/dicom-images-train/*/*/*.dcm'))[start:start+num_img]):\n",
        "    dataset = pydicom.dcmread(file_path)\n",
        "    #show_dcm_info(dataset)\n",
        "    \n",
        "    ax[q].imshow(dataset.pixel_array, cmap=plt.cm.bone)\n"
      ],
      "execution_count": 0,
      "outputs": []
    },
    {
      "cell_type": "markdown",
      "metadata": {
        "id": "psyOQ8_UiBxt",
        "colab_type": "text"
      },
      "source": [
        "ดู Label ที่มาในรูปแบบ Run-length encoding (RLE) ดังที่เห็นใน Column EncodedPixels \n",
        "\n",
        "-1 หมายถึง ปอดปกติ"
      ]
    },
    {
      "cell_type": "code",
      "metadata": {
        "colab_type": "code",
        "id": "cWDjbLB5Owcb",
        "colab": {}
      },
      "source": [
        "df = pd.read_csv(data_path2/'train-rle.csv', index_col=0)\n",
        "df.head()"
      ],
      "execution_count": 0,
      "outputs": []
    },
    {
      "cell_type": "code",
      "metadata": {
        "colab_type": "code",
        "id": "eV4hRTe8dyYH",
        "colab": {}
      },
      "source": [
        "df.shape"
      ],
      "execution_count": 0,
      "outputs": []
    },
    {
      "cell_type": "markdown",
      "metadata": {
        "colab_type": "text",
        "id": "jaIocGLj5-Av"
      },
      "source": [
        "## 4.2 Mask"
      ]
    },
    {
      "cell_type": "markdown",
      "metadata": {
        "id": "_mIVIKnriN_h",
        "colab_type": "text"
      },
      "source": [
        "ใช้ฟังก์ชันที่ได้มา แปลง RLE เป็น Mask ขนาด 1024 x 1024"
      ]
    },
    {
      "cell_type": "code",
      "metadata": {
        "colab_type": "code",
        "id": "gLgzxl9_O08d",
        "colab": {}
      },
      "source": [
        "mask = rle2mask(df.loc['1.2.276.0.7230010.3.1.4.8323329.4904.1517875185.355709'][0].strip(), 1024, 1024).T\n",
        "# a = mask.sum(axis=1)\n",
        "# a = mask.sum(axis=0)\n",
        "# a.argmax()\n",
        "\n",
        "mask[105:115, 300:310]"
      ],
      "execution_count": 0,
      "outputs": []
    },
    {
      "cell_type": "markdown",
      "metadata": {
        "id": "8eiK1tZFidtV",
        "colab_type": "text"
      },
      "source": [
        "เพื่อให้เห็นชัด ๆ เราจะแปลงเป็น Transparent ไว้สำหรับ Overlay กับภาพฟิล์ม X-Ray"
      ]
    },
    {
      "cell_type": "code",
      "metadata": {
        "colab_type": "code",
        "id": "mGI0ZX9fO1Cn",
        "colab": {}
      },
      "source": [
        "mask_rgba = mask/255\n",
        "mask_rgba = np.repeat(mask_rgba[:, :, np.newaxis], 4, axis=2)\n",
        "mask_rgba[:, :, [1,2]] = 0\n",
        "mask_rgba[:, :, 3] = mask_rgba[:, :, 3]*0.7\n",
        "\n",
        "mask_rgba[105:115, 300:310, 0]"
      ],
      "execution_count": 0,
      "outputs": []
    },
    {
      "cell_type": "markdown",
      "metadata": {
        "id": "UiQf9yo4ioAc",
        "colab_type": "text"
      },
      "source": [
        "ลองแสดง Mask เป็นรูป"
      ]
    },
    {
      "cell_type": "code",
      "metadata": {
        "colab_type": "code",
        "id": "Ygi-i9xFO1IH",
        "colab": {}
      },
      "source": [
        "plt.imshow(mask_rgba)"
      ],
      "execution_count": 0,
      "outputs": []
    },
    {
      "cell_type": "markdown",
      "metadata": {
        "colab_type": "text",
        "id": "BpydhwJ46I5x"
      },
      "source": [
        "## 4.3 DICOM Image and Mask"
      ]
    },
    {
      "cell_type": "markdown",
      "metadata": {
        "id": "pD79l8iyi5nj",
        "colab_type": "text"
      },
      "source": [
        "แสดงฟิล์ม X-Ray พร้อมระบายสี Pneumothorax ด้วย Mask สีแดง"
      ]
    },
    {
      "cell_type": "code",
      "metadata": {
        "colab_type": "code",
        "id": "iSyA7jchOwhG",
        "colab": {}
      },
      "source": [
        "start = 44   # Starting index of images\n",
        "num_img = 3 # Total number of images to show"
      ],
      "execution_count": 0,
      "outputs": []
    },
    {
      "cell_type": "code",
      "metadata": {
        "colab_type": "code",
        "id": "UfLQT7GTX5XN",
        "colab": {}
      },
      "source": [
        "fig, ax = plt.subplots(nrows=1, ncols=num_img, sharey=True, figsize=(num_img*5,5))\n",
        "for q, file_path in enumerate(glob.glob(str(data_path2/'pneumothorax/dicom-images-train/*/*/*.dcm'))[start:start+num_img]):\n",
        "    dataset = pydicom.dcmread(file_path)\n",
        "    print(file_path.split('/')[-1])\n",
        "    ax[q].imshow(dataset.pixel_array, cmap=plt.cm.bone)\n",
        "    fn = file_path.split('/')[-1][:-4]\n",
        "    rle = df.loc[fn][0].strip()\n",
        "    # print(rle)\n",
        "    if rle != '-1':\n",
        "        print('See Marker')\n",
        "        mask = rle2mask(rle, 1024, 1024).T\n",
        "        ax[q].set_title('See Marker')\n",
        "#         # Normal Mask\n",
        "#         ax[q].imshow(mask, alpha=0.3, cmap=\"rainbow\")\n",
        "        \n",
        "        # Make alpha mask\n",
        "        mask_rgba = mask/255\n",
        "        mask_rgba = np.repeat(mask_rgba[:, :, np.newaxis], 4, axis=2)\n",
        "        mask_rgba[:, :, [1,2]] = 0\n",
        "        mask_rgba[:, :, 3] = mask_rgba[:, :, 3]*0.4\n",
        "\n",
        "        ax[q].imshow(mask_rgba)\n",
        "    else:\n",
        "        print('Nothing to see')\n",
        "        ax[q].set_title('Nothing to see')\n"
      ],
      "execution_count": 0,
      "outputs": []
    },
    {
      "cell_type": "markdown",
      "metadata": {
        "colab_type": "text",
        "id": "9KZpQn4a5QZW"
      },
      "source": [
        "# 5. Data Pipeline"
      ]
    },
    {
      "cell_type": "markdown",
      "metadata": {
        "colab_type": "text",
        "id": "pb3NsWGw6_y6"
      },
      "source": [
        "เมื่อเราได้รูปด้านบนมาแล้ว เพื่อความสำดวก เราจะแปลงทั้งหมดเป็นไฟล์รูป .png เนื่องจาก Lossless แล้ว Resize เป็นขนาดต่าง ๆ ใส่ไว้ใน Folder ที่กำหนด ซึ่งมีคนทำไว้ให้เราแล้ว เราก็ไป Download มาใน Dataset 3, 4, 5, 6"
      ]
    },
    {
      "cell_type": "markdown",
      "metadata": {
        "id": "H_U2VKEgjiDO",
        "colab_type": "text"
      },
      "source": [
        "กำหนด [Batch Size](https://www.bualabs.com/archives/729/what-is-batch-size-in-deep-neural-networks-how-to-adjust-machine-learning-model-accuracy-deep-learning-hyperparameter-tuning-ep-2/), ขนาดของรูปที่จะเทรน และ Path ที่เก็บรูป"
      ]
    },
    {
      "cell_type": "code",
      "metadata": {
        "colab_type": "code",
        "id": "18K7usf0QCwz",
        "colab": {}
      },
      "source": [
        "bs=64\n",
        "e=2\n",
        "SZ = 128\n",
        "path = data_path3"
      ],
      "execution_count": 0,
      "outputs": []
    },
    {
      "cell_type": "markdown",
      "metadata": {
        "id": "C8OW-G_ejvn-",
        "colab_type": "text"
      },
      "source": [
        "ใช้ [Data Echoing](https://www.bualabs.com/archives/4157/data-echoing-faster-neural-network-training-with-data-echoing-machine-learning-data-echoing-preprocessing-ep-6/)"
      ]
    },
    {
      "cell_type": "code",
      "metadata": {
        "colab_type": "code",
        "id": "kkvzVgFWXTmK",
        "colab": {}
      },
      "source": [
        "class EchoingTransform(ItemTransform):\n",
        "    order = 2\n",
        "    split_idx = 0\n",
        "    def __init__(self, e): self.e = e\n",
        "    def encodes(self, x):\n",
        "        img, lbl = x\n",
        "        if self.e > 1:\n",
        "            img = img.repeat(self.e, 1, 1, 1)\n",
        "            lbl = lbl.repeat(self.e, 1, 1)\n",
        "        # print(img.shape)\n",
        "        # print(lbl.shape)\n",
        "        return img, lbl"
      ],
      "execution_count": 0,
      "outputs": []
    },
    {
      "cell_type": "markdown",
      "metadata": {
        "id": "BiznotOaKOnF",
        "colab_type": "text"
      },
      "source": [
        "เนื่องจาก mask อยู่ใน format ที่ไม่ได้เป็น 0, 1 แต่เป็นไล่สีขาวดำ 0, 64, \n",
        "128, 191, 255 เราจะต้องปรับให้เป็น class 0, 1"
      ]
    },
    {
      "cell_type": "code",
      "metadata": {
        "id": "1byvpqrTgrmd",
        "colab_type": "code",
        "colab": {}
      },
      "source": [
        "def label_func(fn): return str(fn).replace('train', 'masks')"
      ],
      "execution_count": 0,
      "outputs": []
    },
    {
      "cell_type": "code",
      "metadata": {
        "id": "uL-9U6ipJ9YY",
        "colab_type": "code",
        "colab": {}
      },
      "source": [
        "fn = get_image_files(path/'train')[11]\n",
        "msk_fn = label_func(fn)\n",
        "msk = PILMask.create(msk_fn)\n",
        "msk"
      ],
      "execution_count": 0,
      "outputs": []
    },
    {
      "cell_type": "code",
      "metadata": {
        "id": "YzplyFg2LJDG",
        "colab_type": "code",
        "colab": {}
      },
      "source": [
        "tensor(msk)[25:35, 15:25]"
      ],
      "execution_count": 0,
      "outputs": []
    },
    {
      "cell_type": "code",
      "metadata": {
        "id": "J-FnDYqtErSc",
        "colab_type": "code",
        "colab": {}
      },
      "source": [
        "def get_msk(fn):\n",
        "\n",
        "  msk_fn = label_func(fn)\n",
        "  msk = np.array(PILMask.create(msk_fn))\n",
        "  \n",
        "  msk[msk!=0] = 1\n",
        "  return PILMask.create(msk)"
      ],
      "execution_count": 0,
      "outputs": []
    },
    {
      "cell_type": "markdown",
      "metadata": {
        "id": "tN2fNENMQrzp",
        "colab_type": "text"
      },
      "source": [
        "ลองดู Mask หลังจากแปลงเรียบร้อยแล้ว"
      ]
    },
    {
      "cell_type": "code",
      "metadata": {
        "id": "5h2IssZKLohc",
        "colab_type": "code",
        "colab": {}
      },
      "source": [
        "msk2 = get_msk(fn)\n",
        "tensor(msk2)[95:105, 95:105]"
      ],
      "execution_count": 0,
      "outputs": []
    },
    {
      "cell_type": "code",
      "metadata": {
        "id": "2ycTdrGVGkwF",
        "colab_type": "code",
        "colab": {}
      },
      "source": [
        "get_y = lambda o: get_msk(o)"
      ],
      "execution_count": 0,
      "outputs": []
    },
    {
      "cell_type": "markdown",
      "metadata": {
        "id": "n2x6lWPckBEC",
        "colab_type": "text"
      },
      "source": [
        "ใช้ [DataBlock API](https://www.bualabs.com/archives/2693/data-block-api-data-pipeline-machine-learning-supervised-learning-preprocessing-ep-5/) สร้าง [DataBunch](https://www.bualabs.com/archives/2318/databunch-learner-refactor-neural-network-training-loop-neural-network-ep-9/) เตรียมส่งให้ Model สำหรับเทรน โดย [Train/Validation Split](https://www.bualabs.com/archives/532/what-is-training-set-why-train-test-split-training-set-validation-set-test-set/) 80/20, แต่ละ Pixel เป็น Binary Classification 0/1 , ทำ [Data Augmentation](https://www.bualabs.com/archives/1170/what-is-data-augmentation-benefits-data-augmentaion-deep-learning-training-model-deep-neural-network-regularization-ep-1/) ทุกอย่างยกเว้น Flip Vertical แล้ว [Normalize](https://www.bualabs.com/archives/2100/what-is-normalization-feature-scaling-rescaling-normalization-standardization-feedforward-train-machine-learning-preprocessing-ep-2/) ด้วย imagenet_stats"
      ]
    },
    {
      "cell_type": "code",
      "metadata": {
        "id": "AUo2ov5ug07h",
        "colab_type": "code",
        "colab": {}
      },
      "source": [
        "codes = np.array([\"Normal\", \"Pneumothorax\"])"
      ],
      "execution_count": 0,
      "outputs": []
    },
    {
      "cell_type": "code",
      "metadata": {
        "id": "XO45tQ_h3HIp",
        "colab_type": "code",
        "colab": {}
      },
      "source": [
        "def getDataBlock(size, e):\n",
        "  return DataBlock(blocks=(ImageBlock, MaskBlock(codes)),\n",
        "                  get_items = get_image_files,\n",
        "                  get_y = get_y,\n",
        "                  splitter=RandomSplitter(), \n",
        "                  item_tfms=RandomResizedCrop(size, min_scale=0.9, ratio=(1, 1)), \n",
        "                  batch_tfms = [EchoingTransform(e), *aug_transforms(do_flip=False), Normalize()])"
      ],
      "execution_count": 0,
      "outputs": []
    },
    {
      "cell_type": "code",
      "metadata": {
        "id": "e3AWmSP-ggzm",
        "colab_type": "code",
        "colab": {}
      },
      "source": [
        "data = getDataBlock(SZ, e)"
      ],
      "execution_count": 0,
      "outputs": []
    },
    {
      "cell_type": "code",
      "metadata": {
        "id": "hyOhp7u4W0nc",
        "colab_type": "code",
        "colab": {}
      },
      "source": [
        "# path = data_path4\n",
        "# data.summary(path/'train')"
      ],
      "execution_count": 0,
      "outputs": []
    },
    {
      "cell_type": "code",
      "metadata": {
        "id": "ZVadBmFEhOYh",
        "colab_type": "code",
        "colab": {}
      },
      "source": [
        "dls = data.dataloaders(path/'train', bs=bs)"
      ],
      "execution_count": 0,
      "outputs": []
    },
    {
      "cell_type": "markdown",
      "metadata": {
        "id": "sNtqQFMYl9Uw",
        "colab_type": "text"
      },
      "source": [
        "ได้ Traing Set และ Validation Set จำนวนดังนี้"
      ]
    },
    {
      "cell_type": "code",
      "metadata": {
        "colab_type": "code",
        "id": "v4XxAU6gYsSR",
        "colab": {}
      },
      "source": [
        "len(dls.train_ds), len(dls.valid_ds)"
      ],
      "execution_count": 0,
      "outputs": []
    },
    {
      "cell_type": "markdown",
      "metadata": {
        "id": "a-k0mmFfmETs",
        "colab_type": "text"
      },
      "source": [
        "ดูข้อมูล 1 Batch "
      ]
    },
    {
      "cell_type": "code",
      "metadata": {
        "colab_type": "code",
        "id": "bKYUtAISXTx6",
        "colab": {}
      },
      "source": [
        "dls.show_batch(max_n=9, vmin=0, vmax=1, cmap='Reds', figsize=(12, 12))"
      ],
      "execution_count": 0,
      "outputs": []
    },
    {
      "cell_type": "markdown",
      "metadata": {
        "colab_type": "text",
        "id": "lGlyq8S9ZxY_"
      },
      "source": [
        "# 6. Model"
      ]
    },
    {
      "cell_type": "markdown",
      "metadata": {
        "colab_type": "text",
        "id": "sH8rxch_hvCt"
      },
      "source": [
        "## 6.1 Dice Metric"
      ]
    },
    {
      "cell_type": "markdown",
      "metadata": {
        "id": "g5hlFnzsh0Fb",
        "colab_type": "text"
      },
      "source": [
        "Dice หรือ Sørensen–Dice coefficient เป็นการคำนวนสถิติที่ใช้วัดค่าความเหมือนกัน ของ 2 ข้อมูลตัวอย่าง ดังสมการด้านล่าง รายละเอียดเพิ่มเติมใน ep [Metrics / Confusion Matrix](https://www.bualabs.com/archives/1968/what-is-metrics-confusion-matrix-accuracy-precision-recall-f1-score-difference-metrics-ep-1/)"
      ]
    },
    {
      "cell_type": "markdown",
      "metadata": {
        "id": "rFo68XOoCg_F",
        "colab_type": "text"
      },
      "source": [
        "$$DSC =  \\frac{2 |X \\cap Y|}{|X|+ |Y|} = \\frac{2 TP}{2 TP + FP + FN} $$"
      ]
    },
    {
      "cell_type": "markdown",
      "metadata": {
        "colab_type": "text",
        "id": "Fdgtw2pNhmkU"
      },
      "source": [
        "## 6.2 U-Net and ResNet34"
      ]
    },
    {
      "cell_type": "markdown",
      "metadata": {
        "id": "v1HTNYN4h0op",
        "colab_type": "text"
      },
      "source": [
        "เราจะใช้ [Model Architecture](https://www.bualabs.com/archives/2703/how-to-read-model-convolutional-neural-network-shape-activation-map-model-architecture-convnet-ep-7/) เหมือน ep ที่แล้ว คือ U-Net และ ResNet34 แปลงโมเดลเป็นแบบ Mixed Precision Training และใช้ [Focal Loss](https://www.bualabs.com/archives/4227/what-is-focal-loss-loss-function-ep-4/) แทน Cross Entropy Loss ตามปกติ"
      ]
    },
    {
      "cell_type": "code",
      "metadata": {
        "id": "K6UnWuOhLOVs",
        "colab_type": "code",
        "colab": {}
      },
      "source": [
        "class XFocalLoss(kornia.losses.FocalLoss):\n",
        "    y_int = True\n",
        "    def __init__(self, alpha: float, gamma: float = 2.0,\n",
        "                 reduction: str = 'none') -> None:\n",
        "        super(XFocalLoss, self).__init__(alpha, gamma, reduction)\n",
        "\n",
        "    def forward(  # type: ignore\n",
        "            self,\n",
        "            input: torch.Tensor,\n",
        "            target: torch.Tensor) -> torch.Tensor:       \n",
        "\n",
        "        # set_trace()\n",
        "        # print(input.shape)\n",
        "        # print(target.shape)\n",
        "        return super().forward(input, target)      \n",
        "\n",
        "    def decodes(self, x):    return x.argmax(dim=1)\n",
        "    def activation(self, x): return F.softmax(x, dim=1)               "
      ],
      "execution_count": 0,
      "outputs": []
    },
    {
      "cell_type": "code",
      "metadata": {
        "id": "ohl98QVceB1D",
        "colab_type": "code",
        "colab": {}
      },
      "source": [
        "# kwargs = {\"alpha\": 0.5, \"gamma\": 2.0, \"reduction\": 'mean'}\n",
        "# loss_func = CustomFocalLoss(**kwargs)\n",
        "\n",
        "# loss_func = kornia.losses.FocalLoss(alpha= 0.5, gamma=2.0, reduction='mean')\n",
        "\n",
        "# loss_func = LabelSmoothingCrossEntropy()\n",
        "\n",
        "# loss_func = CrossEntropyLossFlat(weight=weights, axis=1)\n",
        "\n",
        "# loss_func = CrossEntropyLossFlat(axis=1)\n",
        "\n",
        "loss_func = XFocalLoss(alpha=1.0, gamma=2.0, reduction='mean')"
      ],
      "execution_count": 0,
      "outputs": []
    },
    {
      "cell_type": "code",
      "metadata": {
        "id": "jzbmX9CXqixl",
        "colab_type": "code",
        "colab": {}
      },
      "source": [
        "metrics = [foreground_acc, Dice()]\n",
        "config = unet_config(self_attention=True, blur=True, act_cls=Mish)\n",
        "# config = unet_config(self_attention=True, blur=True)\n",
        "\n",
        "opt_func = ranger"
      ],
      "execution_count": 0,
      "outputs": []
    },
    {
      "cell_type": "code",
      "metadata": {
        "id": "AekfyYiz8xtv",
        "colab_type": "code",
        "colab": {}
      },
      "source": [
        "def getLearner(dls):\n",
        "    return unet_learner(dls, resnet34, metrics=metrics, config=config,\n",
        "                     loss_func=loss_func, \n",
        "                     pretrained=True,                      \n",
        "                     path=learner_path, \n",
        "                     opt_func=opt_func, \n",
        "                     cbs=[ShowGraphCallback]).to_fp16()"
      ],
      "execution_count": 0,
      "outputs": []
    },
    {
      "cell_type": "code",
      "metadata": {
        "colab_type": "code",
        "id": "NTShRTV9XT2W",
        "colab": {}
      },
      "source": [
        "learn = getLearner(dls)"
      ],
      "execution_count": 0,
      "outputs": []
    },
    {
      "cell_type": "code",
      "metadata": {
        "colab_type": "code",
        "id": "HY9IHqJgUQDZ",
        "colab": {}
      },
      "source": [
        "# learn.summary()"
      ],
      "execution_count": 0,
      "outputs": []
    },
    {
      "cell_type": "markdown",
      "metadata": {
        "colab_type": "text",
        "id": "W8-ixE5MZ1Xi"
      },
      "source": [
        "# 7. Train"
      ]
    },
    {
      "cell_type": "markdown",
      "metadata": {
        "id": "DWooUfiLqknj",
        "colab_type": "text"
      },
      "source": [
        "เราจะใช้ Progressive Resizing ข้อมูลตัวอย่างที่ป้อนให้กับโมเดล เหมือนใน [Image Segmentation ep.1](https://www.bualabs.com/archives/835/image-segmentation-semantic-segmentation-camvid-machine-learning-unet-deep-learning-image-segmentation-ep-1/) เริ่มต้น จาก 128, 256, 512 ไปจนถึง 1024 ที่เป็นขนาดต้นฉบับ "
      ]
    },
    {
      "cell_type": "markdown",
      "metadata": {
        "colab_type": "text",
        "id": "dRw-kJnOZ3s9"
      },
      "source": [
        "## 7.1 Train 128"
      ]
    },
    {
      "cell_type": "code",
      "metadata": {
        "id": "fs2KK3o0a-zt",
        "colab_type": "code",
        "colab": {}
      },
      "source": [
        "learn.freeze()"
      ],
      "execution_count": 0,
      "outputs": []
    },
    {
      "cell_type": "code",
      "metadata": {
        "id": "9e6grQYCpez0",
        "colab_type": "code",
        "colab": {}
      },
      "source": [
        "# learn.lr_find()"
      ],
      "execution_count": 0,
      "outputs": []
    },
    {
      "cell_type": "code",
      "metadata": {
        "id": "bcTl-o_bhLHT",
        "colab_type": "code",
        "outputId": "d13f20d4-a69b-4c98-df20-e6aee491a693",
        "colab": {
          "base_uri": "https://localhost:8080/",
          "height": 607
        }
      },
      "source": [
        "learn.fit_flat_cos(10, lr=slice(1e-3))"
      ],
      "execution_count": 43,
      "outputs": [
        {
          "output_type": "display_data",
          "data": {
            "text/html": [
              "<table border=\"1\" class=\"dataframe\">\n",
              "  <thead>\n",
              "    <tr style=\"text-align: left;\">\n",
              "      <th>epoch</th>\n",
              "      <th>train_loss</th>\n",
              "      <th>valid_loss</th>\n",
              "      <th>foreground_acc</th>\n",
              "      <th>dice</th>\n",
              "      <th>time</th>\n",
              "    </tr>\n",
              "  </thead>\n",
              "  <tbody>\n",
              "    <tr>\n",
              "      <td>0</td>\n",
              "      <td>0.009487</td>\n",
              "      <td>0.006447</td>\n",
              "      <td>0.000379</td>\n",
              "      <td>0.000752</td>\n",
              "      <td>02:20</td>\n",
              "    </tr>\n",
              "    <tr>\n",
              "      <td>1</td>\n",
              "      <td>0.005078</td>\n",
              "      <td>0.005738</td>\n",
              "      <td>0.000839</td>\n",
              "      <td>0.001573</td>\n",
              "      <td>02:09</td>\n",
              "    </tr>\n",
              "    <tr>\n",
              "      <td>2</td>\n",
              "      <td>0.004093</td>\n",
              "      <td>0.005419</td>\n",
              "      <td>0.155287</td>\n",
              "      <td>0.218400</td>\n",
              "      <td>02:09</td>\n",
              "    </tr>\n",
              "    <tr>\n",
              "      <td>3</td>\n",
              "      <td>0.003952</td>\n",
              "      <td>0.005301</td>\n",
              "      <td>0.000249</td>\n",
              "      <td>0.000616</td>\n",
              "      <td>02:09</td>\n",
              "    </tr>\n",
              "    <tr>\n",
              "      <td>4</td>\n",
              "      <td>0.003599</td>\n",
              "      <td>0.005062</td>\n",
              "      <td>0.015627</td>\n",
              "      <td>0.031300</td>\n",
              "      <td>02:09</td>\n",
              "    </tr>\n",
              "    <tr>\n",
              "      <td>5</td>\n",
              "      <td>0.003238</td>\n",
              "      <td>0.004839</td>\n",
              "      <td>0.189636</td>\n",
              "      <td>0.273303</td>\n",
              "      <td>02:09</td>\n",
              "    </tr>\n",
              "    <tr>\n",
              "      <td>6</td>\n",
              "      <td>0.003059</td>\n",
              "      <td>0.005537</td>\n",
              "      <td>0.116094</td>\n",
              "      <td>0.198652</td>\n",
              "      <td>02:09</td>\n",
              "    </tr>\n",
              "    <tr>\n",
              "      <td>7</td>\n",
              "      <td>0.002962</td>\n",
              "      <td>0.004768</td>\n",
              "      <td>0.094674</td>\n",
              "      <td>0.173013</td>\n",
              "      <td>02:09</td>\n",
              "    </tr>\n",
              "    <tr>\n",
              "      <td>8</td>\n",
              "      <td>0.002496</td>\n",
              "      <td>0.005041</td>\n",
              "      <td>0.226146</td>\n",
              "      <td>0.320338</td>\n",
              "      <td>02:09</td>\n",
              "    </tr>\n",
              "    <tr>\n",
              "      <td>9</td>\n",
              "      <td>0.002172</td>\n",
              "      <td>0.005097</td>\n",
              "      <td>0.185413</td>\n",
              "      <td>0.287171</td>\n",
              "      <td>02:09</td>\n",
              "    </tr>\n",
              "  </tbody>\n",
              "</table>"
            ],
            "text/plain": [
              "<IPython.core.display.HTML object>"
            ]
          },
          "metadata": {
            "tags": []
          }
        },
        {
          "output_type": "display_data",
          "data": {
            "image/png": "[encoded data removed]",
            "text/plain": [
              "<Figure size 432x288 with 1 Axes>"
            ]
          },
          "metadata": {
            "tags": []
          }
        }
      ]
    },
    {
      "cell_type": "code",
      "metadata": {
        "id": "h2NSq0iP0H7I",
        "colab_type": "code",
        "colab": {}
      },
      "source": [
        "learn.save('03c-unet-resnet34-128-1')"
      ],
      "execution_count": 0,
      "outputs": []
    },
    {
      "cell_type": "code",
      "metadata": {
        "id": "AjQgKizYt_Wu",
        "colab_type": "code",
        "colab": {}
      },
      "source": [
        "# learn.load('03c-unet-resnet34-128-1');"
      ],
      "execution_count": 0,
      "outputs": []
    },
    {
      "cell_type": "code",
      "metadata": {
        "id": "Qfe2NjpV2C0M",
        "colab_type": "code",
        "colab": {}
      },
      "source": [
        "learn.unfreeze()"
      ],
      "execution_count": 0,
      "outputs": []
    },
    {
      "cell_type": "code",
      "metadata": {
        "id": "8xdyQWRyThQJ",
        "colab_type": "code",
        "colab": {}
      },
      "source": [
        "# learn.lr_find()"
      ],
      "execution_count": 0,
      "outputs": []
    },
    {
      "cell_type": "code",
      "metadata": {
        "colab_type": "code",
        "outputId": "7c12fc6e-d99d-494d-9648-09ae2356a3fd",
        "id": "zZ4MyG3_2Hq3",
        "colab": {
          "base_uri": "https://localhost:8080/",
          "height": 359
        }
      },
      "source": [
        "learn.fit_flat_cos(2, lr=slice(1e-6, 1e-4))"
      ],
      "execution_count": 48,
      "outputs": [
        {
          "output_type": "display_data",
          "data": {
            "text/html": [
              "<table border=\"1\" class=\"dataframe\">\n",
              "  <thead>\n",
              "    <tr style=\"text-align: left;\">\n",
              "      <th>epoch</th>\n",
              "      <th>train_loss</th>\n",
              "      <th>valid_loss</th>\n",
              "      <th>foreground_acc</th>\n",
              "      <th>dice</th>\n",
              "      <th>time</th>\n",
              "    </tr>\n",
              "  </thead>\n",
              "  <tbody>\n",
              "    <tr>\n",
              "      <td>0</td>\n",
              "      <td>0.002030</td>\n",
              "      <td>0.005129</td>\n",
              "      <td>0.190209</td>\n",
              "      <td>0.294119</td>\n",
              "      <td>02:15</td>\n",
              "    </tr>\n",
              "    <tr>\n",
              "      <td>1</td>\n",
              "      <td>0.001984</td>\n",
              "      <td>0.005237</td>\n",
              "      <td>0.203440</td>\n",
              "      <td>0.308681</td>\n",
              "      <td>02:15</td>\n",
              "    </tr>\n",
              "  </tbody>\n",
              "</table>"
            ],
            "text/plain": [
              "<IPython.core.display.HTML object>"
            ]
          },
          "metadata": {
            "tags": []
          }
        },
        {
          "output_type": "display_data",
          "data": {
            "image/png": "[encoded data removed]",
            "text/plain": [
              "<Figure size 432x288 with 1 Axes>"
            ]
          },
          "metadata": {
            "tags": []
          }
        }
      ]
    },
    {
      "cell_type": "code",
      "metadata": {
        "colab_type": "code",
        "id": "_oIaZgWf2Hq-",
        "colab": {}
      },
      "source": [
        "learn.save('03c-unet-resnet34-128-2')"
      ],
      "execution_count": 0,
      "outputs": []
    },
    {
      "cell_type": "code",
      "metadata": {
        "colab_type": "code",
        "id": "YtOaCer1_Nwx",
        "colab": {}
      },
      "source": [
        "# learn.show_results(max_n=9, vmin=0, vmax=1, cmap='Reds', figsize=(12, 12))"
      ],
      "execution_count": 0,
      "outputs": []
    },
    {
      "cell_type": "markdown",
      "metadata": {
        "colab_type": "text",
        "id": "wAT7pYRz4TC5"
      },
      "source": [
        "## 7.2 Increase Image size to 256 and Train Last Layer"
      ]
    },
    {
      "cell_type": "code",
      "metadata": {
        "id": "YdBfEJLgcHz4",
        "colab_type": "code",
        "colab": {}
      },
      "source": [
        "learn = None\n",
        "dls = None\n",
        "gc.collect()\n",
        "torch.cuda.empty_cache()"
      ],
      "execution_count": 0,
      "outputs": []
    },
    {
      "cell_type": "code",
      "metadata": {
        "colab_type": "code",
        "id": "p72G4ujm6Jes",
        "colab": {}
      },
      "source": [
        "bs = 26\n",
        "e = 2\n",
        "SZ = 256\n",
        "path = data_path4"
      ],
      "execution_count": 0,
      "outputs": []
    },
    {
      "cell_type": "code",
      "metadata": {
        "id": "U_J9ePol3a4J",
        "colab_type": "code",
        "colab": {}
      },
      "source": [
        "data = getDataBlock(SZ, e)"
      ],
      "execution_count": 0,
      "outputs": []
    },
    {
      "cell_type": "code",
      "metadata": {
        "colab_type": "code",
        "id": "LMVljWbg5w3f",
        "colab": {}
      },
      "source": [
        "dls = data.dataloaders(path/'train', bs=bs)"
      ],
      "execution_count": 0,
      "outputs": []
    },
    {
      "cell_type": "code",
      "metadata": {
        "id": "qvOwWOQ18ulw",
        "colab_type": "code",
        "colab": {}
      },
      "source": [
        "# dls.show_batch()"
      ],
      "execution_count": 0,
      "outputs": []
    },
    {
      "cell_type": "code",
      "metadata": {
        "colab_type": "code",
        "id": "8OsmmpGk5w-6",
        "colab": {}
      },
      "source": [
        "learn = getLearner(dls)"
      ],
      "execution_count": 0,
      "outputs": []
    },
    {
      "cell_type": "code",
      "metadata": {
        "id": "8i9CP0pdb-el",
        "colab_type": "code",
        "colab": {}
      },
      "source": [
        "learn.load('03c-unet-resnet34-128-2')\n",
        "learn.freeze()"
      ],
      "execution_count": 0,
      "outputs": []
    },
    {
      "cell_type": "code",
      "metadata": {
        "id": "kDMIb2BD01UJ",
        "colab_type": "code",
        "colab": {}
      },
      "source": [
        "# learn.lr_find()"
      ],
      "execution_count": 0,
      "outputs": []
    },
    {
      "cell_type": "code",
      "metadata": {
        "colab_type": "code",
        "outputId": "fcfa8276-9263-400e-b953-b797de88c441",
        "id": "yy0Phovw1AmR",
        "colab": {
          "base_uri": "https://localhost:8080/",
          "height": 487
        }
      },
      "source": [
        "learn.fit_flat_cos(6, lr=slice(2e-4))"
      ],
      "execution_count": 59,
      "outputs": [
        {
          "output_type": "display_data",
          "data": {
            "text/html": [
              "<table border=\"1\" class=\"dataframe\">\n",
              "  <thead>\n",
              "    <tr style=\"text-align: left;\">\n",
              "      <th>epoch</th>\n",
              "      <th>train_loss</th>\n",
              "      <th>valid_loss</th>\n",
              "      <th>foreground_acc</th>\n",
              "      <th>dice</th>\n",
              "      <th>time</th>\n",
              "    </tr>\n",
              "  </thead>\n",
              "  <tbody>\n",
              "    <tr>\n",
              "      <td>0</td>\n",
              "      <td>0.003620</td>\n",
              "      <td>0.003893</td>\n",
              "      <td>0.105175</td>\n",
              "      <td>0.192571</td>\n",
              "      <td>09:07</td>\n",
              "    </tr>\n",
              "    <tr>\n",
              "      <td>1</td>\n",
              "      <td>0.003130</td>\n",
              "      <td>0.003661</td>\n",
              "      <td>0.186059</td>\n",
              "      <td>0.304104</td>\n",
              "      <td>08:49</td>\n",
              "    </tr>\n",
              "    <tr>\n",
              "      <td>2</td>\n",
              "      <td>0.002802</td>\n",
              "      <td>0.003433</td>\n",
              "      <td>0.179521</td>\n",
              "      <td>0.316114</td>\n",
              "      <td>08:49</td>\n",
              "    </tr>\n",
              "    <tr>\n",
              "      <td>3</td>\n",
              "      <td>0.002657</td>\n",
              "      <td>0.003777</td>\n",
              "      <td>0.135450</td>\n",
              "      <td>0.258728</td>\n",
              "      <td>08:50</td>\n",
              "    </tr>\n",
              "    <tr>\n",
              "      <td>4</td>\n",
              "      <td>0.002325</td>\n",
              "      <td>0.003699</td>\n",
              "      <td>0.209489</td>\n",
              "      <td>0.352086</td>\n",
              "      <td>08:49</td>\n",
              "    </tr>\n",
              "    <tr>\n",
              "      <td>5</td>\n",
              "      <td>0.002025</td>\n",
              "      <td>0.003771</td>\n",
              "      <td>0.225371</td>\n",
              "      <td>0.368869</td>\n",
              "      <td>08:49</td>\n",
              "    </tr>\n",
              "  </tbody>\n",
              "</table>"
            ],
            "text/plain": [
              "<IPython.core.display.HTML object>"
            ]
          },
          "metadata": {
            "tags": []
          }
        },
        {
          "output_type": "display_data",
          "data": {
            "image/png": "[encoded data removed]",
            "text/plain": [
              "<Figure size 432x288 with 1 Axes>"
            ]
          },
          "metadata": {
            "tags": []
          }
        }
      ]
    },
    {
      "cell_type": "code",
      "metadata": {
        "colab_type": "code",
        "id": "aF2WWs0M1AmZ",
        "colab": {}
      },
      "source": [
        "learn.save('03c-unet-resnet34-256-1')"
      ],
      "execution_count": 0,
      "outputs": []
    },
    {
      "cell_type": "code",
      "metadata": {
        "colab_type": "code",
        "id": "Kad4RY_z1Amd",
        "colab": {}
      },
      "source": [
        "learn.load('03c-unet-resnet34-256-1');"
      ],
      "execution_count": 0,
      "outputs": []
    },
    {
      "cell_type": "code",
      "metadata": {
        "colab_type": "code",
        "id": "PjnelohR1Amt",
        "colab": {}
      },
      "source": [
        "learn.unfreeze()"
      ],
      "execution_count": 0,
      "outputs": []
    },
    {
      "cell_type": "code",
      "metadata": {
        "id": "pTmuTqVgwCi4",
        "colab_type": "code",
        "colab": {}
      },
      "source": [
        "# learn.lr_find()"
      ],
      "execution_count": 0,
      "outputs": []
    },
    {
      "cell_type": "code",
      "metadata": {
        "colab_type": "code",
        "id": "d7q1O-QU1Amx",
        "outputId": "68efbd55-1c39-439d-92d5-d2ac99e8bfa3",
        "colab": {
          "base_uri": "https://localhost:8080/",
          "height": 421
        }
      },
      "source": [
        "learn.fit_flat_cos(4, lr=slice(1e-6, 1e-4))"
      ],
      "execution_count": 64,
      "outputs": [
        {
          "output_type": "display_data",
          "data": {
            "text/html": [
              "<table border=\"1\" class=\"dataframe\">\n",
              "  <thead>\n",
              "    <tr style=\"text-align: left;\">\n",
              "      <th>epoch</th>\n",
              "      <th>train_loss</th>\n",
              "      <th>valid_loss</th>\n",
              "      <th>foreground_acc</th>\n",
              "      <th>dice</th>\n",
              "      <th>time</th>\n",
              "    </tr>\n",
              "  </thead>\n",
              "  <tbody>\n",
              "    <tr>\n",
              "      <td>0</td>\n",
              "      <td>0.001987</td>\n",
              "      <td>0.003639</td>\n",
              "      <td>0.232814</td>\n",
              "      <td>0.376171</td>\n",
              "      <td>09:12</td>\n",
              "    </tr>\n",
              "    <tr>\n",
              "      <td>1</td>\n",
              "      <td>0.001705</td>\n",
              "      <td>0.004032</td>\n",
              "      <td>0.203716</td>\n",
              "      <td>0.351210</td>\n",
              "      <td>09:12</td>\n",
              "    </tr>\n",
              "    <tr>\n",
              "      <td>2</td>\n",
              "      <td>0.001649</td>\n",
              "      <td>0.004445</td>\n",
              "      <td>0.202544</td>\n",
              "      <td>0.345463</td>\n",
              "      <td>09:12</td>\n",
              "    </tr>\n",
              "    <tr>\n",
              "      <td>3</td>\n",
              "      <td>0.001553</td>\n",
              "      <td>0.004127</td>\n",
              "      <td>0.262883</td>\n",
              "      <td>0.408131</td>\n",
              "      <td>09:12</td>\n",
              "    </tr>\n",
              "  </tbody>\n",
              "</table>"
            ],
            "text/plain": [
              "<IPython.core.display.HTML object>"
            ]
          },
          "metadata": {
            "tags": []
          }
        },
        {
          "output_type": "display_data",
          "data": {
            "image/png": "[encoded data removed]",
            "text/plain": [
              "<Figure size 432x288 with 1 Axes>"
            ]
          },
          "metadata": {
            "tags": []
          }
        }
      ]
    },
    {
      "cell_type": "code",
      "metadata": {
        "colab_type": "code",
        "id": "fHdTTEfK1Am0",
        "colab": {}
      },
      "source": [
        "learn.save('03c-unet-resnet34-256-2')"
      ],
      "execution_count": 0,
      "outputs": []
    },
    {
      "cell_type": "code",
      "metadata": {
        "id": "zf6UJTQO0_m_",
        "colab_type": "code",
        "colab": {}
      },
      "source": [
        "# learn.load('03c-unet-resnet34-256-2');"
      ],
      "execution_count": 0,
      "outputs": []
    },
    {
      "cell_type": "code",
      "metadata": {
        "colab_type": "code",
        "id": "itBsqT8u9LvL",
        "colab": {}
      },
      "source": [
        "# learn.show_results(max_n=9, vmin=0, vmax=1, cmap='Reds', figsize=(12, 12))"
      ],
      "execution_count": 0,
      "outputs": []
    },
    {
      "cell_type": "markdown",
      "metadata": {
        "colab_type": "text",
        "id": "MEOK4-6ETki9"
      },
      "source": [
        "## 7.3 Increase Image size to 384 and Train Last Layer"
      ]
    },
    {
      "cell_type": "code",
      "metadata": {
        "colab_type": "code",
        "id": "MybCauuhTkjI",
        "colab": {}
      },
      "source": [
        "learn = None\n",
        "dls = None\n",
        "gc.collect()\n",
        "torch.cuda.empty_cache()"
      ],
      "execution_count": 0,
      "outputs": []
    },
    {
      "cell_type": "code",
      "metadata": {
        "colab_type": "code",
        "id": "7TuWRx2rTkjN",
        "colab": {}
      },
      "source": [
        "bs=12\n",
        "e=1\n",
        "SZ = 384\n",
        "path = data_path5"
      ],
      "execution_count": 0,
      "outputs": []
    },
    {
      "cell_type": "code",
      "metadata": {
        "colab_type": "code",
        "id": "0XCwfQXxTkjQ",
        "colab": {}
      },
      "source": [
        "data = getDataBlock(SZ, e)"
      ],
      "execution_count": 0,
      "outputs": []
    },
    {
      "cell_type": "code",
      "metadata": {
        "colab_type": "code",
        "id": "rUDC1GeETkjT",
        "colab": {}
      },
      "source": [
        "dls = data.dataloaders(path/'train', bs=bs)"
      ],
      "execution_count": 0,
      "outputs": []
    },
    {
      "cell_type": "code",
      "metadata": {
        "colab_type": "code",
        "id": "RvM3a1ZpTkjV",
        "colab": {}
      },
      "source": [
        "# dls.show_batch()"
      ],
      "execution_count": 0,
      "outputs": []
    },
    {
      "cell_type": "code",
      "metadata": {
        "colab_type": "code",
        "id": "HmvQUHfITkjY",
        "colab": {}
      },
      "source": [
        "learn = getLearner(dls)"
      ],
      "execution_count": 0,
      "outputs": []
    },
    {
      "cell_type": "code",
      "metadata": {
        "colab_type": "code",
        "id": "DEXjjpVyTkjb",
        "colab": {}
      },
      "source": [
        "learn.load('03c-unet-resnet34-256-2')\n",
        "learn.freeze()"
      ],
      "execution_count": 0,
      "outputs": []
    },
    {
      "cell_type": "code",
      "metadata": {
        "colab_type": "code",
        "id": "zOLAqKZVTkjd",
        "colab": {}
      },
      "source": [
        "# learn.lr_find()"
      ],
      "execution_count": 0,
      "outputs": []
    },
    {
      "cell_type": "code",
      "metadata": {
        "colab_type": "code",
        "outputId": "a9914288-72a5-49c1-dfa5-90144aed9fda",
        "id": "laeTraVRTkji",
        "colab": {
          "base_uri": "https://localhost:8080/",
          "height": 359
        }
      },
      "source": [
        "learn.fit_flat_cos(4, lr=slice(3e-4))"
      ],
      "execution_count": 76,
      "outputs": [
        {
          "output_type": "display_data",
          "data": {
            "text/html": [
              "<table border=\"1\" class=\"dataframe\">\n",
              "  <thead>\n",
              "    <tr style=\"text-align: left;\">\n",
              "      <th>epoch</th>\n",
              "      <th>train_loss</th>\n",
              "      <th>valid_loss</th>\n",
              "      <th>foreground_acc</th>\n",
              "      <th>dice</th>\n",
              "      <th>time</th>\n",
              "    </tr>\n",
              "  </thead>\n",
              "  <tbody>\n",
              "    <tr>\n",
              "      <td>0</td>\n",
              "      <td>0.002921</td>\n",
              "      <td>0.003384</td>\n",
              "      <td>nan</td>\n",
              "      <td>0.356474</td>\n",
              "      <td>11:31</td>\n",
              "    </tr>\n",
              "    <tr>\n",
              "      <td>1</td>\n",
              "      <td>0.002322</td>\n",
              "      <td>0.003209</td>\n",
              "      <td>nan</td>\n",
              "      <td>0.434555</td>\n",
              "      <td>11:21</td>\n",
              "    </tr>\n",
              "  </tbody>\n",
              "</table>"
            ],
            "text/plain": [
              "<IPython.core.display.HTML object>"
            ]
          },
          "metadata": {
            "tags": []
          }
        },
        {
          "output_type": "display_data",
          "data": {
            "image/png": "[encoded data removed]",
            "text/plain": [
              "<Figure size 432x288 with 1 Axes>"
            ]
          },
          "metadata": {
            "tags": []
          }
        }
      ]
    },
    {
      "cell_type": "code",
      "metadata": {
        "colab_type": "code",
        "id": "hIPx3GuwTkjl",
        "colab": {}
      },
      "source": [
        "learn.save('03c-unet-resnet34-384-1')"
      ],
      "execution_count": 0,
      "outputs": []
    },
    {
      "cell_type": "code",
      "metadata": {
        "colab_type": "code",
        "id": "QdHplZNNTkjo",
        "colab": {}
      },
      "source": [
        "# learn.load('03c-unet-resnet34-384-1');"
      ],
      "execution_count": 0,
      "outputs": []
    },
    {
      "cell_type": "code",
      "metadata": {
        "colab_type": "code",
        "id": "LFlJFj2FTkjq",
        "colab": {}
      },
      "source": [
        "learn.unfreeze()"
      ],
      "execution_count": 0,
      "outputs": []
    },
    {
      "cell_type": "code",
      "metadata": {
        "colab_type": "code",
        "id": "fdUMep7ZTkjt",
        "colab": {}
      },
      "source": [
        "# learn.lr_find()"
      ],
      "execution_count": 0,
      "outputs": []
    },
    {
      "cell_type": "code",
      "metadata": {
        "colab_type": "code",
        "outputId": "01df0a0a-d240-48e1-cc85-ce45ed7fce69",
        "id": "beepYniPTkjv",
        "colab": {
          "base_uri": "https://localhost:8080/",
          "height": 328
        }
      },
      "source": [
        "learn.fit_flat_cos(1, lr=slice(1e-6, 1e-4))"
      ],
      "execution_count": 81,
      "outputs": [
        {
          "output_type": "display_data",
          "data": {
            "text/html": [
              "<table border=\"1\" class=\"dataframe\">\n",
              "  <thead>\n",
              "    <tr style=\"text-align: left;\">\n",
              "      <th>epoch</th>\n",
              "      <th>train_loss</th>\n",
              "      <th>valid_loss</th>\n",
              "      <th>foreground_acc</th>\n",
              "      <th>dice</th>\n",
              "      <th>time</th>\n",
              "    </tr>\n",
              "  </thead>\n",
              "  <tbody>\n",
              "    <tr>\n",
              "      <td>0</td>\n",
              "      <td>0.001879</td>\n",
              "      <td>0.003333</td>\n",
              "      <td>nan</td>\n",
              "      <td>0.435769</td>\n",
              "      <td>11:50</td>\n",
              "    </tr>\n",
              "  </tbody>\n",
              "</table>"
            ],
            "text/plain": [
              "<IPython.core.display.HTML object>"
            ]
          },
          "metadata": {
            "tags": []
          }
        },
        {
          "output_type": "display_data",
          "data": {
            "image/png": "[encoded data removed]",
            "text/plain": [
              "<Figure size 432x288 with 1 Axes>"
            ]
          },
          "metadata": {
            "tags": []
          }
        }
      ]
    },
    {
      "cell_type": "code",
      "metadata": {
        "colab_type": "code",
        "id": "s6mNgeJVTkjy",
        "colab": {}
      },
      "source": [
        "learn.save('03c-unet-resnet34-384-2')"
      ],
      "execution_count": 0,
      "outputs": []
    },
    {
      "cell_type": "code",
      "metadata": {
        "colab_type": "code",
        "id": "piewBAe_Tkj0",
        "colab": {}
      },
      "source": [
        "# learn.show_results(max_n=9, vmin=0, vmax=1, cmap='Reds', figsize=(12, 12))"
      ],
      "execution_count": 0,
      "outputs": []
    },
    {
      "cell_type": "markdown",
      "metadata": {
        "colab_type": "text",
        "id": "N_dHlPpdG3qU"
      },
      "source": [
        "## 7.4 Increase Image size to 512 and Train Last Layer"
      ]
    },
    {
      "cell_type": "code",
      "metadata": {
        "id": "sj_OAB9RIlF-",
        "colab_type": "code",
        "colab": {}
      },
      "source": [
        "learn = None\n",
        "dls = None\n",
        "gc.collect()\n",
        "torch.cuda.empty_cache()"
      ],
      "execution_count": 0,
      "outputs": []
    },
    {
      "cell_type": "code",
      "metadata": {
        "colab_type": "code",
        "id": "u6DBGizKG3qf",
        "colab": {}
      },
      "source": [
        "bs=8\n",
        "e=1\n",
        "SZ = 512\n",
        "path = data_path5"
      ],
      "execution_count": 0,
      "outputs": []
    },
    {
      "cell_type": "code",
      "metadata": {
        "colab_type": "code",
        "id": "AgkhjN_MdNIq",
        "colab": {}
      },
      "source": [
        "data = getDataBlock(SZ, e)"
      ],
      "execution_count": 0,
      "outputs": []
    },
    {
      "cell_type": "code",
      "metadata": {
        "colab_type": "code",
        "id": "fFefex37dNIw",
        "colab": {}
      },
      "source": [
        "dls = data.dataloaders(path/'train', bs=bs)"
      ],
      "execution_count": 0,
      "outputs": []
    },
    {
      "cell_type": "code",
      "metadata": {
        "colab_type": "code",
        "id": "B2HZODwAdNI0",
        "colab": {}
      },
      "source": [
        "# dls.show_batch()"
      ],
      "execution_count": 0,
      "outputs": []
    },
    {
      "cell_type": "code",
      "metadata": {
        "colab_type": "code",
        "id": "ukgN_di0dNJM",
        "colab": {}
      },
      "source": [
        "learn = getLearner(dls)"
      ],
      "execution_count": 0,
      "outputs": []
    },
    {
      "cell_type": "code",
      "metadata": {
        "colab_type": "code",
        "id": "oXiJ6J-UdNJQ",
        "colab": {}
      },
      "source": [
        "learn.load('03c-unet-resnet34-384-2')\n",
        "learn.freeze()"
      ],
      "execution_count": 0,
      "outputs": []
    },
    {
      "cell_type": "code",
      "metadata": {
        "colab_type": "code",
        "id": "QnTykW4JdNJU",
        "colab": {}
      },
      "source": [
        "# learn.lr_find()"
      ],
      "execution_count": 0,
      "outputs": []
    },
    {
      "cell_type": "code",
      "metadata": {
        "colab_type": "code",
        "id": "zqSiDztmdNJa",
        "outputId": "1e9f436f-c596-4116-bd90-232ab233a331",
        "colab": {
          "base_uri": "https://localhost:8080/",
          "height": 359
        }
      },
      "source": [
        "learn.fit_flat_cos(4, lr=slice(1e-4))"
      ],
      "execution_count": 92,
      "outputs": [
        {
          "output_type": "display_data",
          "data": {
            "text/html": [
              "<table border=\"1\" class=\"dataframe\">\n",
              "  <thead>\n",
              "    <tr style=\"text-align: left;\">\n",
              "      <th>epoch</th>\n",
              "      <th>train_loss</th>\n",
              "      <th>valid_loss</th>\n",
              "      <th>foreground_acc</th>\n",
              "      <th>dice</th>\n",
              "      <th>time</th>\n",
              "    </tr>\n",
              "  </thead>\n",
              "  <tbody>\n",
              "    <tr>\n",
              "      <td>0</td>\n",
              "      <td>0.002679</td>\n",
              "      <td>0.003454</td>\n",
              "      <td>nan</td>\n",
              "      <td>0.338035</td>\n",
              "      <td>21:25</td>\n",
              "    </tr>\n",
              "    <tr>\n",
              "      <td>1</td>\n",
              "      <td>0.001929</td>\n",
              "      <td>0.002994</td>\n",
              "      <td>nan</td>\n",
              "      <td>0.466721</td>\n",
              "      <td>21:13</td>\n",
              "    </tr>\n",
              "  </tbody>\n",
              "</table>"
            ],
            "text/plain": [
              "<IPython.core.display.HTML object>"
            ]
          },
          "metadata": {
            "tags": []
          }
        },
        {
          "output_type": "display_data",
          "data": {
            "image/png": "[encoded data removed]",
            "text/plain": [
              "<Figure size 432x288 with 1 Axes>"
            ]
          },
          "metadata": {
            "tags": []
          }
        }
      ]
    },
    {
      "cell_type": "code",
      "metadata": {
        "colab_type": "code",
        "id": "QXkBv_JfdNJd",
        "colab": {}
      },
      "source": [
        "learn.save('03c-unet-resnet34-512-1')"
      ],
      "execution_count": 0,
      "outputs": []
    },
    {
      "cell_type": "code",
      "metadata": {
        "colab_type": "code",
        "id": "2fBBlhfddNJg",
        "colab": {}
      },
      "source": [
        "learn.load('03c-unet-resnet34-512-1');"
      ],
      "execution_count": 0,
      "outputs": []
    },
    {
      "cell_type": "code",
      "metadata": {
        "colab_type": "code",
        "id": "vnQC8ZpQdNJw",
        "colab": {}
      },
      "source": [
        "learn.unfreeze()"
      ],
      "execution_count": 0,
      "outputs": []
    },
    {
      "cell_type": "code",
      "metadata": {
        "id": "mPxpdDFQ8jTC",
        "colab_type": "code",
        "colab": {}
      },
      "source": [
        "# learn.lr_find()"
      ],
      "execution_count": 0,
      "outputs": []
    },
    {
      "cell_type": "code",
      "metadata": {
        "colab_type": "code",
        "id": "f_fQJ2XddNJz",
        "outputId": "715a082e-656c-496a-8256-4b3ede26f800",
        "colab": {
          "base_uri": "https://localhost:8080/",
          "height": 328
        }
      },
      "source": [
        "learn.fit_flat_cos(2, lr=slice(1e-6, 1e-4))"
      ],
      "execution_count": 97,
      "outputs": [
        {
          "output_type": "display_data",
          "data": {
            "text/html": [
              "<table border=\"1\" class=\"dataframe\">\n",
              "  <thead>\n",
              "    <tr style=\"text-align: left;\">\n",
              "      <th>epoch</th>\n",
              "      <th>train_loss</th>\n",
              "      <th>valid_loss</th>\n",
              "      <th>foreground_acc</th>\n",
              "      <th>dice</th>\n",
              "      <th>time</th>\n",
              "    </tr>\n",
              "  </thead>\n",
              "  <tbody>\n",
              "    <tr>\n",
              "      <td>0</td>\n",
              "      <td>0.001946</td>\n",
              "      <td>0.003105</td>\n",
              "      <td>nan</td>\n",
              "      <td>0.490645</td>\n",
              "      <td>22:01</td>\n",
              "    </tr>\n",
              "  </tbody>\n",
              "</table>"
            ],
            "text/plain": [
              "<IPython.core.display.HTML object>"
            ]
          },
          "metadata": {
            "tags": []
          }
        },
        {
          "output_type": "display_data",
          "data": {
            "image/png": "[encoded data removed]",
            "text/plain": [
              "<Figure size 432x288 with 1 Axes>"
            ]
          },
          "metadata": {
            "tags": []
          }
        }
      ]
    },
    {
      "cell_type": "code",
      "metadata": {
        "colab_type": "code",
        "id": "yCE7VaGfdNJ2",
        "colab": {}
      },
      "source": [
        "learn.save('03c-unet-resnet34-512-2')"
      ],
      "execution_count": 0,
      "outputs": []
    },
    {
      "cell_type": "code",
      "metadata": {
        "colab_type": "code",
        "id": "T1VjdfvidNJ8",
        "colab": {}
      },
      "source": [
        "# learn.show_results(max_n=9, vmin=0, vmax=1, cmap='Reds', figsize=(12, 12))"
      ],
      "execution_count": 0,
      "outputs": []
    },
    {
      "cell_type": "markdown",
      "metadata": {
        "colab_type": "text",
        "id": "Wxcd2CqdK_2J"
      },
      "source": [
        "## 7.5 Data Augmentation Annealing"
      ]
    },
    {
      "cell_type": "markdown",
      "metadata": {
        "id": "RM4fxbhzrKbV",
        "colab_type": "text"
      },
      "source": [
        "ก่อน Infer เราจะเทรนด้วยข้อมูลที่ไม่ได้ทำ [Data Augmentation](https://www.bualabs.com/archives/1170/what-is-data-augmentation-benefits-data-augmentaion-deep-learning-training-model-deep-neural-network-regularization-ep-1/) ตบท้าย"
      ]
    },
    {
      "cell_type": "code",
      "metadata": {
        "id": "Jse9p6eiIoCO",
        "colab_type": "code",
        "colab": {}
      },
      "source": [
        "learn = None\n",
        "dls = None\n",
        "gc.collect()\n",
        "torch.cuda.empty_cache()"
      ],
      "execution_count": 0,
      "outputs": []
    },
    {
      "cell_type": "code",
      "metadata": {
        "colab_type": "code",
        "id": "hXwHx268Tr9Y",
        "colab": {}
      },
      "source": [
        "bs=8\n",
        "e=1\n",
        "SZ = 512\n",
        "path = data_path5"
      ],
      "execution_count": 0,
      "outputs": []
    },
    {
      "cell_type": "code",
      "metadata": {
        "colab_type": "code",
        "id": "-DWvH6vCTr9Z",
        "colab": {}
      },
      "source": [
        "# path.ls()"
      ],
      "execution_count": 0,
      "outputs": []
    },
    {
      "cell_type": "code",
      "metadata": {
        "id": "oih9x9bLeAGK",
        "colab_type": "code",
        "colab": {}
      },
      "source": [
        "data = DataBlock(blocks=(ImageBlock, MaskBlock(codes)),\n",
        "                  get_items = get_image_files,\n",
        "                  get_y = get_y,\n",
        "                  splitter=RandomSplitter(0.03), \n",
        "                  item_tfms=RandomResizedCrop(SZ, min_scale=0.9, ratio=(1, 1)), \n",
        "                  batch_tfms = [Normalize()])"
      ],
      "execution_count": 0,
      "outputs": []
    },
    {
      "cell_type": "code",
      "metadata": {
        "id": "4clnabNpeK87",
        "colab_type": "code",
        "colab": {}
      },
      "source": [
        "dls = data.dataloaders(path/'train', bs=bs)"
      ],
      "execution_count": 0,
      "outputs": []
    },
    {
      "cell_type": "code",
      "metadata": {
        "colab_type": "code",
        "id": "_IkhnewKTr9c",
        "colab": {}
      },
      "source": [
        "learn = getLearner(dls)"
      ],
      "execution_count": 0,
      "outputs": []
    },
    {
      "cell_type": "code",
      "metadata": {
        "colab_type": "code",
        "id": "5vXCfqYKTr9e",
        "colab": {}
      },
      "source": [
        "learn.load('03c-unet-resnet34-512-2');"
      ],
      "execution_count": 0,
      "outputs": []
    },
    {
      "cell_type": "code",
      "metadata": {
        "id": "-kJfxrzvTr9g",
        "colab_type": "code",
        "colab": {}
      },
      "source": [
        "learn.unfreeze()"
      ],
      "execution_count": 0,
      "outputs": []
    },
    {
      "cell_type": "code",
      "metadata": {
        "colab_type": "code",
        "id": "m9LfnUM7Tr9h",
        "colab": {}
      },
      "source": [
        "# learn.lr_find()"
      ],
      "execution_count": 0,
      "outputs": []
    },
    {
      "cell_type": "code",
      "metadata": {
        "colab_type": "code",
        "id": "LvLCR5EVTr9k",
        "colab": {
          "base_uri": "https://localhost:8080/",
          "height": 95
        },
        "outputId": "fe14a85a-305f-4d8b-f79d-617314b6ed39"
      },
      "source": [
        "learn.fit_flat_cos(1, lr=slice(3e-7, 3e-5))"
      ],
      "execution_count": 0,
      "outputs": [
        {
          "output_type": "display_data",
          "data": {
            "text/html": [
              "\n",
              "    <div>\n",
              "        <style>\n",
              "            /* Turns off some styling */\n",
              "            progress {\n",
              "                /* gets rid of default border in Firefox and Opera. */\n",
              "                border: none;\n",
              "                /* Needs to be in here for Safari polyfill so background images work as expected. */\n",
              "                background-size: auto;\n",
              "            }\n",
              "            .progress-bar-interrupted, .progress-bar-interrupted::-webkit-progress-bar {\n",
              "                background: #F44336;\n",
              "            }\n",
              "        </style>\n",
              "      <progress value='0' class='' max='1' style='width:300px; height:20px; vertical-align: middle;'></progress>\n",
              "      0.00% [0/1 00:00<00:00]\n",
              "    </div>\n",
              "    \n",
              "<table border=\"1\" class=\"dataframe\">\n",
              "  <thead>\n",
              "    <tr style=\"text-align: left;\">\n",
              "      <th>epoch</th>\n",
              "      <th>train_loss</th>\n",
              "      <th>valid_loss</th>\n",
              "      <th>foreground_acc</th>\n",
              "      <th>dice</th>\n",
              "      <th>time</th>\n",
              "    </tr>\n",
              "  </thead>\n",
              "  <tbody>\n",
              "  </tbody>\n",
              "</table><p>\n",
              "\n",
              "    <div>\n",
              "        <style>\n",
              "            /* Turns off some styling */\n",
              "            progress {\n",
              "                /* gets rid of default border in Firefox and Opera. */\n",
              "                border: none;\n",
              "                /* Needs to be in here for Safari polyfill so background images work as expected. */\n",
              "                background-size: auto;\n",
              "            }\n",
              "            .progress-bar-interrupted, .progress-bar-interrupted::-webkit-progress-bar {\n",
              "                background: #F44336;\n",
              "            }\n",
              "        </style>\n",
              "      <progress value='330' class='' max='1460' style='width:300px; height:20px; vertical-align: middle;'></progress>\n",
              "      22.60% [330/1460 05:30<18:52 0.0015]\n",
              "    </div>\n",
              "    "
            ],
            "text/plain": [
              "<IPython.core.display.HTML object>"
            ]
          },
          "metadata": {
            "tags": []
          }
        }
      ]
    },
    {
      "cell_type": "code",
      "metadata": {
        "colab_type": "code",
        "id": "Axrsn_JYTr9m",
        "colab": {}
      },
      "source": [
        "learn.save('03c-unet-resnet34-512-3')"
      ],
      "execution_count": 0,
      "outputs": []
    },
    {
      "cell_type": "code",
      "metadata": {
        "colab_type": "code",
        "id": "6IsIOjWQTr9o",
        "colab": {}
      },
      "source": [
        "learn.load('03c-unet-resnet34-512-3');"
      ],
      "execution_count": 0,
      "outputs": []
    },
    {
      "cell_type": "code",
      "metadata": {
        "id": "TrScNklCOAgq",
        "colab_type": "code",
        "colab": {}
      },
      "source": [
        "# # to shuffle validation set for show_results\n",
        "# data.valid_dl = data.valid_dl.new(shuffle=True)\n",
        "# # to not shuffle validation set\n",
        "# data.valid_dl = data.valid_dl.new(shuffle=False)"
      ],
      "execution_count": 0,
      "outputs": []
    },
    {
      "cell_type": "code",
      "metadata": {
        "id": "zauZirLmeS-C",
        "colab_type": "code",
        "colab": {}
      },
      "source": [
        "learn.show_results(max_n=9, vmin=0, vmax=1, cmap='Reds', figsize=(12, 12))"
      ],
      "execution_count": 0,
      "outputs": []
    },
    {
      "cell_type": "markdown",
      "metadata": {
        "colab_type": "text",
        "id": "HYHi1hIMakZ1"
      },
      "source": [
        "# 8. Make a Prediction"
      ]
    },
    {
      "cell_type": "markdown",
      "metadata": {
        "id": "ePfci9bhreUk",
        "colab_type": "text"
      },
      "source": [
        "เทรนเสร็จแล้ว เราจะใช้โมเดลมาทำนายวินิจฉัย Pneumothorax หรือ ภาวะปอดรั่ว จากฟิล์ม X-Ray ใน Validation Set ที่เราแบ่งไว้ตอนแรก 20% ว่าจะตรงไหม"
      ]
    },
    {
      "cell_type": "code",
      "metadata": {
        "id": "dNeVJRTG4q4F",
        "colab_type": "code",
        "colab": {}
      },
      "source": [
        "gc.collect()\n",
        "torch.cuda.empty_cache()"
      ],
      "execution_count": 0,
      "outputs": []
    },
    {
      "cell_type": "code",
      "metadata": {
        "colab_type": "code",
        "id": "6e6dyyCladId",
        "colab": {}
      },
      "source": [
        "# Predictions for the test set\n",
        "preds, ys = learn.get_preds()\n",
        "preds.shape, ys.shape"
      ],
      "execution_count": 0,
      "outputs": []
    },
    {
      "cell_type": "code",
      "metadata": {
        "id": "FOVbDGuWBazf",
        "colab_type": "code",
        "colab": {}
      },
      "source": [
        "preds = preds[:,1,...]\n",
        "ys = ys.squeeze()"
      ],
      "execution_count": 0,
      "outputs": []
    },
    {
      "cell_type": "code",
      "metadata": {
        "colab_type": "code",
        "id": "m8-g8oswYenE",
        "colab": {}
      },
      "source": [
        "preds.shape, ys.shape"
      ],
      "execution_count": 0,
      "outputs": []
    },
    {
      "cell_type": "code",
      "metadata": {
        "colab_type": "code",
        "id": "pEQf6Qh0adRa",
        "colab": {}
      },
      "source": [
        "def dice_overall(preds, targs):\n",
        "    n = preds.shape[0]\n",
        "    preds = preds.view(n, -1)\n",
        "    targs = targs.view(n, -1)\n",
        "    intersect = (preds * targs).sum(-1).float()\n",
        "    union = (preds+targs).sum(-1).float()\n",
        "    u0 = union==0\n",
        "    intersect[u0] = 1\n",
        "    union[u0] = 2\n",
        "    return (2. * intersect / union)"
      ],
      "execution_count": 0,
      "outputs": []
    },
    {
      "cell_type": "markdown",
      "metadata": {
        "id": "yquwj6xxr-uI",
        "colab_type": "text"
      },
      "source": [
        "หา Threshold ให้ได้ ค่า Dice ที่ดีที่สุด"
      ]
    },
    {
      "cell_type": "code",
      "metadata": {
        "colab_type": "code",
        "id": "MHRC0AQgadXv",
        "colab": {}
      },
      "source": [
        "# Find optimal threshold\n",
        "dices = []\n",
        "thrs = np.arange(0.01, 1, 0.01)\n",
        "for i in progress_bar(thrs):\n",
        "    preds_m = (preds>i).long()\n",
        "    dices.append(dice_overall(preds_m, ys).mean())\n",
        "dices = np.array(dices)"
      ],
      "execution_count": 0,
      "outputs": []
    },
    {
      "cell_type": "code",
      "metadata": {
        "colab_type": "code",
        "id": "_JM8o1JBafMx",
        "colab": {}
      },
      "source": [
        "best_dice = dices.max()\n",
        "best_thr = thrs[dices.argmax()]\n",
        "\n",
        "plt.figure(figsize=(8,4))\n",
        "plt.plot(thrs, dices)\n",
        "plt.vlines(x=best_thr, ymin=dices.min(), ymax=dices.max())\n",
        "plt.text(best_thr+0.03, best_dice-0.01, f'DICE = {best_dice:.3f}', fontsize=14);\n",
        "plt.show()"
      ],
      "execution_count": 0,
      "outputs": []
    },
    {
      "cell_type": "markdown",
      "metadata": {
        "id": "9O3FUURLsWsM",
        "colab_type": "text"
      },
      "source": [
        "ดูผลลัพธ์ในการวิจิฉัยภาวะปอดรั่ว (Pneumothorax) จะเห็นเป็น Image Segmentation เป็นสีเหลืองเขียว บริเวณปอดที่มีภาวะปอดรั่ว (Pneumothorax) เทียบกับ Label จากข้อมูลตัวอย่างใน Dataset\n",
        "\n",
        "จะเห็นว่าโมเดลของเราวินิจฉัยได้อย่างแม่นยำ "
      ]
    },
    {
      "cell_type": "code",
      "metadata": {
        "colab_type": "code",
        "id": "oye2Shq5afZ9",
        "colab": {}
      },
      "source": [
        "# Plot some samples\n",
        "rows = 5\n",
        "plot_idx = ys.sum((1,2)).sort(descending=True).indices[:rows]\n",
        "for idx in plot_idx:\n",
        "    fig, (ax0, ax1, ax2) = plt.subplots(ncols=3, figsize=(12, 4))\n",
        "    ax0.imshow(dls.valid_ds[idx][0])\n",
        "    ax1.imshow(ys[idx], vmin=0, vmax=1)\n",
        "    ax2.imshow(preds[idx], vmin=0, vmax=1)\n",
        "    ax1.set_title('Targets')\n",
        "    ax2.set_title('Predictions')"
      ],
      "execution_count": 0,
      "outputs": []
    },
    {
      "cell_type": "markdown",
      "metadata": {
        "colab_type": "text",
        "id": "bwe7WZPEa7Qu"
      },
      "source": [
        "# 10. Submit Predictions to Kaggle"
      ]
    },
    {
      "cell_type": "markdown",
      "metadata": {
        "colab_type": "text",
        "id": "j4hFAHD-afmR"
      },
      "source": [
        "ส่งผลการวินิจฉัยฟิล์ม X-Ray ใน Test Set ไปให้ Kaggle ตรวจ"
      ]
    },
    {
      "cell_type": "code",
      "metadata": {
        "id": "f_ysbSY9EmnZ",
        "colab_type": "code",
        "colab": {}
      },
      "source": [
        "dl = learn.dls.test_dl(get_image_files(data_path_test))"
      ],
      "execution_count": 0,
      "outputs": []
    },
    {
      "cell_type": "code",
      "metadata": {
        "id": "6bcK6H_qGLO3",
        "colab_type": "code",
        "colab": {}
      },
      "source": [
        "# dl.show_batch()"
      ],
      "execution_count": 0,
      "outputs": []
    },
    {
      "cell_type": "code",
      "metadata": {
        "colab_type": "code",
        "id": "_IKgpP5Rafx_",
        "colab": {}
      },
      "source": [
        "# Predictions for test set\n",
        "preds, _ = learn.get_preds(dl=dl)\n",
        "preds = (preds[:,1,...]>best_thr).long().numpy()\n",
        "print(preds.sum())"
      ],
      "execution_count": 0,
      "outputs": []
    },
    {
      "cell_type": "code",
      "metadata": {
        "colab_type": "code",
        "id": "NWG4XGi5af-l",
        "colab": {}
      },
      "source": [
        "# Generate rle encodings (images are first converted to the original size)\n",
        "rles = []\n",
        "for p in progress_bar(preds):\n",
        "    im = PIL.Image.fromarray((p.T*255).astype(np.uint8)).resize((1024,1024))\n",
        "    im = np.asarray(im)\n",
        "    rles.append(mask2rle(im, 1024, 1024))"
      ],
      "execution_count": 0,
      "outputs": []
    },
    {
      "cell_type": "markdown",
      "metadata": {
        "id": "GiADP4mW_Jhe",
        "colab_type": "text"
      },
      "source": [
        "แปลงจากรูป เป็น RLE เหมือนเดิม"
      ]
    },
    {
      "cell_type": "code",
      "metadata": {
        "colab_type": "code",
        "id": "Rs9yJBgLagJ8",
        "colab": {}
      },
      "source": [
        "ids = [o.stem for o in dl.items]\n",
        "sub_df = pd.DataFrame({'ImageId': ids, 'EncodedPixels': rles})\n",
        "sub_df.loc[sub_df.EncodedPixels=='', 'EncodedPixels'] = '-1'\n",
        "sub_df.head()"
      ],
      "execution_count": 0,
      "outputs": []
    },
    {
      "cell_type": "code",
      "metadata": {
        "colab_type": "code",
        "id": "rRaNDTjcauJU",
        "colab": {}
      },
      "source": [
        "sub_df.shape"
      ],
      "execution_count": 0,
      "outputs": []
    },
    {
      "cell_type": "code",
      "metadata": {
        "colab_type": "code",
        "id": "uvtMu-R4a3CE",
        "colab": {}
      },
      "source": [
        "sub_df.to_csv('submission.csv', index=False)"
      ],
      "execution_count": 0,
      "outputs": []
    },
    {
      "cell_type": "code",
      "metadata": {
        "colab_type": "code",
        "id": "MH8eXgO7a3Nn",
        "colab": {}
      },
      "source": [
        "# ! kaggle competitions submit siim-acr-pneumothorax-segmentation -f {'submission.csv'} -m \"My submission Focal Loss Mish Ranger 03\""
      ],
      "execution_count": 0,
      "outputs": []
    },
    {
      "cell_type": "markdown",
      "metadata": {
        "id": "q1wGFX8m2XPm",
        "colab_type": "text"
      },
      "source": [
        "\n",
        "\n",
        "| Name           | Submitted    | Wait time | Execution time | Score   |\n",
        "|----------------|--------------|-----------|----------------|---------|\n",
        "| submission.csv | a day ago    | 0 seconds | 1 seconds      | 0.9060  |\n"
      ]
    },
    {
      "cell_type": "markdown",
      "metadata": {
        "id": "q2b1z-PL_5OR",
        "colab_type": "text"
      },
      "source": [
        "เราได้ Public Leaderboard 0.9060, Private Leaderboard 0.8104 อยู่ที่อันดับ 280 จาก 1475 ดังตารางด้านล่าง = Top 20%"
      ]
    },
    {
      "cell_type": "markdown",
      "metadata": {
        "id": "Zy-3oRUJy0oa",
        "colab_type": "text"
      },
      "source": [
        "| #   \t| Team Name      \t| Score  \t| Last \t|\n",
        "|-----\t|----------------\t|--------\t|------\t|\n",
        "| 278 \t| UWRad          \t| 0.8113 \t| 2mo  \t|\n",
        "| 279 \t| Mitul          \t| 0.8105 \t| 2mo  \t|\n",
        "| 280 \t| diCELLa        \t| 0.8096 \t| 2mo  \t|\n",
        "| 281 \t| lucaskg        \t| 0.8094 \t| 2mo  \t|\n",
        "| 282 \t| Insaf Ashrapov \t| 0.8091 \t| 2mo  \t|\n"
      ]
    },
    {
      "cell_type": "markdown",
      "metadata": {
        "id": "CYjRTOZS2YcH",
        "colab_type": "text"
      },
      "source": [
        "\n",
        "Top 10 ใน Private Leaderboard คือ อันดับที่ 147 จาก 1475 ทีม Dice = 0.8320 "
      ]
    },
    {
      "cell_type": "markdown",
      "metadata": {
        "id": "h-THOAoNtbNJ",
        "colab_type": "text"
      },
      "source": [
        "# สรุป"
      ]
    },
    {
      "cell_type": "markdown",
      "metadata": {
        "id": "WuU7Ve1wtauj",
        "colab_type": "text"
      },
      "source": [
        "* เราได้สร้าง AI วิจิฉัยภาวะปอดรั่ว (Pneumothorax) ที่ทำงานได้อย่าง อย่างแม่นยำพอสมควร ด้วยการเทรนโมเดล ด้วย GPU ไม่ถึง 24 ชั่วโมง\n",
        "* แทนที่จะใช้รูป PNG จาก Dataset ที่คนทำไว้ให้แล้ว เราสามารถแปลงไฟล์เองจากไฟล์ DICOM ต้นฉบับ เลือก Window ข้อมูลที่เราต้องการ เพื่อปรับปรุ่งความแม่นยำให้มากขึ้น\n",
        "* เราสามารถเพิ่มความซับซ้อนของโมเดล, รูปขนาดใหญ่ขึ้น, Loss Function, Multi-Head และใช้ GPU รุ่นใหม่ขึ้นในการเทรน ให้ได้ผลลัพธ์ที่แม่นยำมากขึ้น รวดเร็วขึ้นไปอีก\n",
        "* เราสามารถประยุกต์ใช้โมเดลนี้ กับโรคที่คล้าย ๆ กันอีกหลายโรค ที่ต้องวินิจฉัยโดย Radiologist (แพทย์รังสีวิทยา) อ่านฟิล์ม X-Ray"
      ]
    },
    {
      "cell_type": "markdown",
      "metadata": {
        "colab_type": "text",
        "id": "D2Q2fi5RXT6-"
      },
      "source": [
        "# Credit"
      ]
    },
    {
      "cell_type": "markdown",
      "metadata": {
        "colab_type": "text",
        "id": "OkeIgX03XT_g"
      },
      "source": [
        "* https://www.kaggle.com/c/siim-acr-pneumothorax-segmentation/\n",
        "* https://siim.org/\n",
        "* https://www.bualabs.com/archives/2856/ai-diagnose-pneumothorax-read-chest-x-ray-radiograph-image-collapsed-lung-radiologist-triage-patient-classification-segment-medical-image-segmentation-ep-2/\n",
        "* https://www.bualabs.com/archives/835/image-segmentation-semantic-segmentation-camvid-machine-learning-unet-deep-learning-image-segmentation-ep-1/\n",
        "* https://en.wikipedia.org/wiki/Pneumothorax\n",
        "* https://www.kaggle.com/schlerp/getting-to-know-dicom-and-the-data/\n",
        "* https://www.kaggle.com/jesperdramsch/intro-chest-xray-dicom-viz-u-nets-full-data\n",
        "* https://www.kaggle.com/jesperdramsch/siim-acr-pneumothorax-segmentation-data\n",
        "* https://www.kaggle.com/iafoss/hypercolumns-pneumothorax-fastai-0-831-lb\n",
        "* https://www.kaggle.com/iafoss/siimacr-pneumothorax-segmentation-data-128\n",
        "* https://www.kaggle.com/iafoss/siimacr-pneumothorax-segmentation-data-256\n",
        "* https://www.kaggle.com/iafoss/siimacr-pneumothorax-segmentation-data-512\n",
        "* https://www.kaggle.com/iafoss/siimacr-pneumothorax-segmentation-data-1024\n",
        "* https://www.kaggle.com/mnpinto/pneumothorax-fastai-u-net\n",
        "* https://www.kaggle.com/c/rsna-pneumonia-detection-challenge\n",
        "* https://www.kaggle.com/meaninglesslives/unet-with-efficientnet-encoder-in-keras\n",
        "* https://pydicom.github.io/pydicom/stable/getting_started.html\n",
        "* https://docs.python.org/2/library/glob.html\n",
        "* https://arxiv.org/abs/1505.04597\n",
        "* https://stackoverflow.com/questions/48750199/google-colaboratory-misleading-information-about-its-gpu-only-5-ram-available\n",
        "* https://github.com/muellerzr/Practical-Deep-Learning-for-Coders-2.0/blob/master/Computer%20Vision/04_Segmentation.ipynb\n",
        "* https://kornia.readthedocs.io/en/latest/_modules/kornia/losses/focal.html"
      ]
    },
    {
      "cell_type": "code",
      "metadata": {
        "id": "6GTyjtg1116b",
        "colab_type": "code",
        "colab": {}
      },
      "source": [
        ""
      ],
      "execution_count": 0,
      "outputs": []
    }
  ]
}