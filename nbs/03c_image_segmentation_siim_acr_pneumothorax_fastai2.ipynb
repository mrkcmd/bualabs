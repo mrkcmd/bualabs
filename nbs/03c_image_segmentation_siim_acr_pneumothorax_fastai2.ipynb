{
  "nbformat": 4,
  "nbformat_minor": 0,
  "metadata": {
    "colab": {
      "name": "03c-image-segmentation-siim-acr-pneumothorax-fastai2.ipynb",
      "provenance": [],
      "machine_shape": "hm"
    },
    "kernelspec": {
      "name": "python3",
      "display_name": "Python 3"
    },
    "accelerator": "GPU"
  },
  "cells": [
    {
      "cell_type": "markdown",
      "metadata": {
        "colab_type": "text",
        "id": "vWywWSJfI28W"
      },
      "source": [
        "จาก ep ที่แล้ว ที่เราพัฒนาโปรแกรม [AI การแพทย์ วินิจฉัยภาวะปอดรั่ว Pneumothorax](https://www.bualabs.com/archives/2856/ai-diagnose-pneumothorax-read-chest-x-ray-radiograph-image-collapsed-lung-radiologist-triage-patient-classification-segment-medical-image-segmentation-ep-2/) ได้ผลดีพอสมควร ใน ep นี้เราจะปรับปรุงโมเดล ด้วยเทคนิคใหม่ ๆ เช่น [fastai2](https://www.bualabs.com/archives/4102/tutorial-fastai2-oxford-pets-dog-cat-37-class-machine-learning-deep-neural-networks-image-classification-ep-7/), [Data Echoing](https://www.bualabs.com/archives/4157/data-echoing-faster-neural-network-training-with-data-echoing-machine-learning-data-echoing-preprocessing-ep-6/), [Focal Loss](https://www.bualabs.com/archives/4227/what-is-focal-loss-loss-function-ep-4/), และ Ranger Optimizer แบบใหม่ ว่าจะได้ผลเป็นอย่างไร"
      ]
    },
    {
      "cell_type": "markdown",
      "metadata": {
        "colab_type": "text",
        "id": "Y7QjHJiKRD9N"
      },
      "source": [
        "# 0. Install"
      ]
    },
    {
      "cell_type": "code",
      "metadata": {
        "id": "ipk-J8p-Yna_",
        "colab_type": "code",
        "colab": {}
      },
      "source": [
        "! nvidia-smi"
      ],
      "execution_count": null,
      "outputs": []
    },
    {
      "cell_type": "code",
      "metadata": {
        "id": "Z2BIeJmOeNVk",
        "colab_type": "code",
        "colab": {}
      },
      "source": [
        "%reload_ext autoreload\n",
        "%autoreload 2\n",
        "%matplotlib inline"
      ],
      "execution_count": null,
      "outputs": []
    },
    {
      "cell_type": "markdown",
      "metadata": {
        "colab_type": "text",
        "id": "_qxIXpQqTmzD"
      },
      "source": [
        "เราจะต้อง Install kaggle เพื่อ Download Dataset"
      ]
    },
    {
      "cell_type": "code",
      "metadata": {
        "colab_type": "code",
        "id": "rnpSo4UOwmES",
        "colab": {}
      },
      "source": [
        "# ## Colab\n",
        "# ! pip install fastai2 pydicom kornia kaggle -q"
      ],
      "execution_count": null,
      "outputs": []
    },
    {
      "cell_type": "code",
      "metadata": {
        "id": "6nO2lVpZBfEG",
        "colab_type": "code",
        "colab": {}
      },
      "source": [
        "# ## Colab\n",
        "\n",
        "# !pip install torch-geometric \\\n",
        "#   torch-sparse==latest+cu101 \\\n",
        "#   torch-scatter==latest+cu101 \\\n",
        "#   torch-cluster==latest+cu101 \\\n",
        "#   -f https://pytorch-geometric.com/whl/torch-1.4.0.html "
      ],
      "execution_count": null,
      "outputs": []
    },
    {
      "cell_type": "markdown",
      "metadata": {
        "colab_type": "text",
        "id": "eIhjYw2SRB31"
      },
      "source": [
        "# 1. Import Library"
      ]
    },
    {
      "cell_type": "markdown",
      "metadata": {
        "colab_type": "text",
        "id": "EYelaC8QUiuP"
      },
      "source": [
        "Import pydicom สำหรับเปิดไฟล์ภาพเอ็กซ์เรย์ DICOM นามสกุล dcm และ Libray อื่น ๆ ที่เราต้องการใช้"
      ]
    },
    {
      "cell_type": "code",
      "metadata": {
        "colab_type": "code",
        "id": "mQfGtLVJwJL8",
        "colab": {}
      },
      "source": [
        "import math\n",
        "import numpy as np\n",
        "import pandas as pd\n",
        "\n",
        "import os\n",
        "import gc\n",
        "import glob\n",
        "import PIL \n",
        "\n",
        "import pydicom\n",
        "\n",
        "from pathlib import Path\n",
        "from matplotlib import cm\n",
        "from matplotlib import pyplot as plt\n",
        "\n",
        "from fastai2.basics import *\n",
        "from fastai2.vision.all import *\n",
        "from fastai2.callback.all import *\n",
        "from fastai2.metrics import *\n",
        "from fastai2.medical.imaging import *\n",
        "\n",
        "from IPython.core.debugger import set_trace\n",
        "\n",
        "import kornia"
      ],
      "execution_count": null,
      "outputs": []
    },
    {
      "cell_type": "code",
      "metadata": {
        "id": "LN7nb3-PBGnZ",
        "colab_type": "code",
        "colab": {}
      },
      "source": [
        "set_seed(1234)"
      ],
      "execution_count": null,
      "outputs": []
    },
    {
      "cell_type": "markdown",
      "metadata": {
        "colab_type": "text",
        "id": "hZBm5maPRLmi"
      },
      "source": [
        "# 2. เตรียม Path สำหรับดาวน์โหลดข้อมูล"
      ]
    },
    {
      "cell_type": "markdown",
      "metadata": {
        "colab_type": "text",
        "id": "9DBiIhGYT6VU"
      },
      "source": [
        "กำหนด path ของ Config File และ Dataset ว่าจะอยู่ใน Google Drive ถ้าเราใช้ [Google Colab](https://www.bualabs.com/archives/1687/what-is-colab-open-jupyter-notebook-in-github-on-google-colab-create-open-in-colab-button-colab-ep-1/) หรือ อยู่ใน HOME ถ้าเราใช้ VM ธรรมดา และกำหนด Environment Variable ไปยังโฟลเดอร์ที่เก็บ kaggle.json"
      ]
    },
    {
      "cell_type": "markdown",
      "metadata": {
        "colab_type": "text",
        "id": "3xwILAZXUBx-"
      },
      "source": [
        "ในกรณีใช้ Colab ให้ Mount Google Drive เพื่อดึง Config File มาจาก Google Drive ส่วนตัวของเรา เมื่อเรารัน Cell ด้านล่างจะมีลิงค์ปรากฎขึ้นมาให้เรา Login กด Approve แล้ว Copy Authorization Code มาใส่ในช่องด้านล่าง แล้วกด Enter"
      ]
    },
    {
      "cell_type": "markdown",
      "metadata": {
        "id": "6g0fCwF8f0Lu",
        "colab_type": "text"
      },
      "source": [
        "ในเคสนี้เราจะดึงข้อมูลจากหลาย Dataset เนื่องจากเราจะใช้การเทรนแบบ Progressive Resizing ใช้รูปหลายขนาดในการเทรน "
      ]
    },
    {
      "cell_type": "code",
      "metadata": {
        "colab_type": "code",
        "id": "N7_7Mxaw8jfO",
        "colab": {}
      },
      "source": [
        "dataset = 'siim-acr-pneumothorax-segmentation'\n",
        "dataset2 = 'jesperdramsch/siim-acr-pneumothorax-segmentation-data'\n",
        "# dataset3 = 'iafoss/siimacr-pneumothorax-segmentation-data-128'\n",
        "# dataset4 = 'iafoss/siimacr-pneumothorax-segmentation-data-256'\n",
        "# dataset5 = 'iafoss/siimacr-pneumothorax-segmentation-data-512'\n",
        "dataset6 = 'iafoss/siimacr-pneumothorax-segmentation-data-1024'\n",
        "dataset_test = 'ivanzhovannik/siim_stage2_png'\n",
        "\n",
        "# Google Colab\n",
        "config_path = Path('/content/drive')\n",
        "learner_path = config_path/\"My Drive\"\n",
        "data_path_base = Path('/content/datasets/')\n",
        "\n",
        "data_path = data_path_base/dataset\n",
        "data_path2 = data_path_base/dataset2\n",
        "# data_path3 = data_path_base/dataset3\n",
        "# data_path4 = data_path_base/dataset4\n",
        "# data_path5 = data_path_base/dataset5\n",
        "data_path6 = data_path_base/dataset6\n",
        "data_path_test = data_path_base/dataset_test\n",
        "\n",
        "from google.colab import drive\n",
        "drive.mount(str(config_path))\n",
        "os.environ['KAGGLE_CONFIG_DIR'] = f\"{config_path}/My Drive/.kaggle\"\n",
        "\n",
        "# # VM\n",
        "# config_path = Path(os.getenv(\"HOME\"))\n",
        "# learner_path = config_path\n",
        "# data_path = config_path/\"datasets\"/dataset\n",
        "# data_path2 = config_path/\"datasets\"/dataset2\n",
        "# data_path3 = config_path/\"datasets\"/dataset3\n",
        "# data_path4 = config_path/\"datasets\"/dataset4\n",
        "# data_path5 = config_path/\"datasets\"/dataset5\n",
        "# data_path6 = config_path/\"datasets\"/dataset6\n",
        "# data_path_test = config_path/\"datasets\"/dataset_test\n",
        "\n",
        "# data_path.mkdir(parents=True, exist_ok=True)\n",
        "# os.environ['KAGGLE_CONFIG_DIR'] = f\"{config_path}/.kaggle\""
      ],
      "execution_count": null,
      "outputs": []
    },
    {
      "cell_type": "markdown",
      "metadata": {
        "colab_type": "text",
        "id": "fjX_JnMaRRaM"
      },
      "source": [
        "# 3. Dataset"
      ]
    },
    {
      "cell_type": "markdown",
      "metadata": {
        "colab_type": "text",
        "id": "MhsZxRECNHv_"
      },
      "source": [
        "ในเคสนี้ เราจะ Download ข้อมูล Dataset ที่เกี่ยวข้องทั้งหมดมาเก็บไว้ แบ่งเป็นรูปฟิล์ม X-Ray ขนาดต่าง ๆ ข้อมูลต้นฉบับ ข้อมูล Test Set, etc."
      ]
    },
    {
      "cell_type": "markdown",
      "metadata": {
        "colab_type": "text",
        "id": "Mtf3SFWCUYpu"
      },
      "source": [
        "Dataset เราจะดึงจาก Kaggle วิธี Download kaggle.json ให้ดูจาก ep ที่แล้ว\n",
        "\n",
        "เมื่อได้ kaggle.json มาแล้ว ในกรณีใช้ Google Colab ให้นำมาใส่ไว้ในโฟลเดอร์ My Drive/.kaggle ใน Google Drive ของเรา เป็น My Drive/.kaggle/kaggle.json ถ้าใช้ VM ให้ใส่ใน HOME/.kaggle/\n",
        "\n",
        "สั่งดาวน์โหลด Dataset จาก Kaggle พร้อมทั้ง unzip ไว้ใน data_path"
      ]
    },
    {
      "cell_type": "code",
      "metadata": {
        "colab_type": "code",
        "id": "DWVg-d8V4kRq",
        "colab": {}
      },
      "source": [
        "# !kaggle competitions download -c {dataset} -p \"{data_path}\"\n",
        "# !kaggle datasets download {dataset2} -p \"{data_path2}\" --unzip\n",
        "# ## !kaggle datasets download {dataset3} -p \"{data_path3}\" --unzip\n",
        "# ## !kaggle datasets download {dataset4} -p \"{data_path4}\" --unzip\n",
        "# ## !kaggle datasets download {dataset5} -p \"{data_path5}\" --unzip\n",
        "# !kaggle datasets download {dataset6} -p \"{data_path6}\" --unzip\n",
        "# !kaggle datasets download {dataset_test} -p \"{data_path_test}\" --unzip"
      ],
      "execution_count": null,
      "outputs": []
    },
    {
      "cell_type": "markdown",
      "metadata": {
        "id": "EDFVn8bAhS12",
        "colab_type": "text"
      },
      "source": [
        "Unzip ไฟล์ที่ดาวน์โหลดจาก Kaggle Competition"
      ]
    },
    {
      "cell_type": "code",
      "metadata": {
        "colab_type": "code",
        "id": "6h-wCah2MIGV",
        "colab": {}
      },
      "source": [
        "# ! unzip -q {data_path}/siim-acr-pneumothorax-segmentation.zip -d {data_path}\n",
        "# ! unzip -q {data_path}/stage_2_images.zip -d {data_path}/stage_2_images\n",
        "# ! unzip -q {data_path}/stage_2_train.csv.zip -d {data_path}"
      ],
      "execution_count": null,
      "outputs": []
    },
    {
      "cell_type": "markdown",
      "metadata": {
        "colab_type": "text",
        "id": "0fG8KJ3U6zpr"
      },
      "source": [
        "Import ฟังก์ชันสำหรับแปลงข้อมูล Label ที่อยู่ในรูปแบบ Run-length encoding (RLE) to Mask ที่ให้มากับ Dataset"
      ]
    },
    {
      "cell_type": "code",
      "metadata": {
        "colab_type": "code",
        "id": "pFujJZV2Ll_3",
        "colab": {}
      },
      "source": [
        "import sys\n",
        "sys.path.insert(0, str(data_path))\n",
        "\n",
        "from mask_functions import *"
      ],
      "execution_count": null,
      "outputs": []
    },
    {
      "cell_type": "markdown",
      "metadata": {
        "colab_type": "text",
        "id": "-9a3w3CN4Zbr"
      },
      "source": [
        "# 4. Data"
      ]
    },
    {
      "cell_type": "markdown",
      "metadata": {
        "colab_type": "text",
        "id": "a0_3gwnTXGrj"
      },
      "source": [
        "## 4.1 DICOM Image"
      ]
    },
    {
      "cell_type": "markdown",
      "metadata": {
        "colab_type": "text",
        "id": "swuLfdY9O66A"
      },
      "source": [
        "เปิดดูข้อมูลฟิล์มเอ็กซ์เรย์"
      ]
    },
    {
      "cell_type": "code",
      "metadata": {
        "colab_type": "code",
        "id": "Z2Trpv1kOt33",
        "colab": {}
      },
      "source": [
        "def show_dcm_info(dataset):\n",
        "    print(\"Filename.........:\", file_path)\n",
        "    print(\"Storage type.....:\", dataset.SOPClassUID)\n",
        "    print()\n",
        "\n",
        "    pat_name = dataset.PatientName\n",
        "    display_name = pat_name.family_name + \", \" + pat_name.given_name\n",
        "    print(\"Patient's name......:\", display_name)\n",
        "    print(\"Patient id..........:\", dataset.PatientID)\n",
        "    print(\"Patient's Age.......:\", dataset.PatientAge)\n",
        "    print(\"Patient's Sex.......:\", dataset.PatientSex)\n",
        "    print(\"Modality............:\", dataset.Modality)\n",
        "    print(\"Body Part Examined..:\", dataset.BodyPartExamined)\n",
        "    print(\"View Position.......:\", dataset.ViewPosition)\n",
        "    \n",
        "    if 'PixelData' in dataset:\n",
        "        rows = int(dataset.Rows)\n",
        "        cols = int(dataset.Columns)\n",
        "        print(\"Image size.......: {rows:d} x {cols:d}, {size:d} bytes\".format(\n",
        "            rows=rows, cols=cols, size=len(dataset.PixelData)))\n",
        "        if 'PixelSpacing' in dataset:\n",
        "            print(\"Pixel spacing....:\", dataset.PixelSpacing)\n",
        "\n",
        "def plot_pixel_array(dataset, figsize=(10,10)):\n",
        "    plt.figure(figsize=figsize)\n",
        "    plt.imshow(dataset.pixel_array, cmap=plt.cm.bone)\n",
        "    plt.show()\n"
      ],
      "execution_count": null,
      "outputs": []
    },
    {
      "cell_type": "markdown",
      "metadata": {
        "id": "G5rjEqiYhuFq",
        "colab_type": "text"
      },
      "source": [
        "วนลูปเปิดดูไฟล์ DICOM ที่จะมีทั้งรูป และ Metadata ข้อมูลประกอบ อยู่ในไฟล์เดียวกัน"
      ]
    },
    {
      "cell_type": "code",
      "metadata": {
        "colab_type": "code",
        "id": "AfarZadkOwNz",
        "colab": {}
      },
      "source": [
        "for file_path in glob.glob(str(data_path2/'pneumothorax/dicom-images-train/*/*/*.dcm')):\n",
        "    dataset = pydicom.dcmread(file_path)\n",
        "    show_dcm_info(dataset)\n",
        "    plot_pixel_array(dataset)\n",
        "    break # Comment this out to see all"
      ],
      "execution_count": null,
      "outputs": []
    },
    {
      "cell_type": "markdown",
      "metadata": {
        "id": "mwCYVzoWh8h8",
        "colab_type": "text"
      },
      "source": [
        "ลองดูทีละหลาย ๆ ไฟล์"
      ]
    },
    {
      "cell_type": "code",
      "metadata": {
        "colab_type": "code",
        "id": "fbGL9jZLOwXs",
        "colab": {}
      },
      "source": [
        "start = 33   # Starting index of images\n",
        "num_img = 3 # Total number of images to show\n",
        "\n",
        "fig, ax = plt.subplots(nrows=1, ncols=num_img, sharey=True, figsize=(num_img*5,5))\n",
        "for q, file_path in enumerate(glob.glob(str(data_path2/'pneumothorax/dicom-images-train/*/*/*.dcm'))[start:start+num_img]):\n",
        "    dataset = pydicom.dcmread(file_path)\n",
        "    #show_dcm_info(dataset)\n",
        "    \n",
        "    ax[q].imshow(dataset.pixel_array, cmap=plt.cm.bone)\n"
      ],
      "execution_count": null,
      "outputs": []
    },
    {
      "cell_type": "markdown",
      "metadata": {
        "id": "psyOQ8_UiBxt",
        "colab_type": "text"
      },
      "source": [
        "ดู Label ที่มาในรูปแบบ Run-length encoding (RLE) ดังที่เห็นใน Column EncodedPixels \n",
        "\n",
        "-1 หมายถึง ปอดปกติ"
      ]
    },
    {
      "cell_type": "code",
      "metadata": {
        "colab_type": "code",
        "id": "cWDjbLB5Owcb",
        "colab": {}
      },
      "source": [
        "df = pd.read_csv(data_path2/'train-rle.csv', index_col=0)\n",
        "df.head()"
      ],
      "execution_count": null,
      "outputs": []
    },
    {
      "cell_type": "code",
      "metadata": {
        "colab_type": "code",
        "id": "eV4hRTe8dyYH",
        "colab": {}
      },
      "source": [
        "df.shape"
      ],
      "execution_count": null,
      "outputs": []
    },
    {
      "cell_type": "code",
      "metadata": {
        "id": "0AXTJIMOz_eO",
        "colab_type": "code",
        "colab": {}
      },
      "source": [
        "samples_per_cls = [len(df[df[' EncodedPixels']==' -1']), len(df[df[' EncodedPixels']!=' -1'])]\n",
        "samples_per_cls"
      ],
      "execution_count": null,
      "outputs": []
    },
    {
      "cell_type": "markdown",
      "metadata": {
        "colab_type": "text",
        "id": "jaIocGLj5-Av"
      },
      "source": [
        "## 4.2 Mask"
      ]
    },
    {
      "cell_type": "markdown",
      "metadata": {
        "id": "_mIVIKnriN_h",
        "colab_type": "text"
      },
      "source": [
        "ใช้ฟังก์ชันที่ได้มา แปลง RLE เป็น Mask ขนาด 1024 x 1024"
      ]
    },
    {
      "cell_type": "code",
      "metadata": {
        "colab_type": "code",
        "id": "gLgzxl9_O08d",
        "colab": {}
      },
      "source": [
        "mask = rle2mask(df.loc['1.2.276.0.7230010.3.1.4.8323329.4904.1517875185.355709'][0].strip(), 1024, 1024).T\n",
        "# a = mask.sum(axis=1)\n",
        "# a = mask.sum(axis=0)\n",
        "# a.argmax()\n",
        "\n",
        "mask[105:115, 300:310]"
      ],
      "execution_count": null,
      "outputs": []
    },
    {
      "cell_type": "markdown",
      "metadata": {
        "id": "8eiK1tZFidtV",
        "colab_type": "text"
      },
      "source": [
        "เพื่อให้เห็นชัด ๆ เราจะแปลงเป็น Transparent ไว้สำหรับ Overlay กับภาพฟิล์ม X-Ray"
      ]
    },
    {
      "cell_type": "code",
      "metadata": {
        "colab_type": "code",
        "id": "mGI0ZX9fO1Cn",
        "colab": {}
      },
      "source": [
        "mask_rgba = mask/255\n",
        "mask_rgba = np.repeat(mask_rgba[:, :, np.newaxis], 4, axis=2)\n",
        "mask_rgba[:, :, [1,2]] = 0\n",
        "mask_rgba[:, :, 3] = mask_rgba[:, :, 3]*0.7\n",
        "\n",
        "mask_rgba[105:115, 300:310, 0]"
      ],
      "execution_count": null,
      "outputs": []
    },
    {
      "cell_type": "markdown",
      "metadata": {
        "id": "UiQf9yo4ioAc",
        "colab_type": "text"
      },
      "source": [
        "ลองแสดง Mask เป็นรูป"
      ]
    },
    {
      "cell_type": "code",
      "metadata": {
        "colab_type": "code",
        "id": "Ygi-i9xFO1IH",
        "colab": {}
      },
      "source": [
        "plt.imshow(mask_rgba)"
      ],
      "execution_count": null,
      "outputs": []
    },
    {
      "cell_type": "markdown",
      "metadata": {
        "colab_type": "text",
        "id": "BpydhwJ46I5x"
      },
      "source": [
        "## 4.3 DICOM Image and Mask"
      ]
    },
    {
      "cell_type": "markdown",
      "metadata": {
        "id": "pD79l8iyi5nj",
        "colab_type": "text"
      },
      "source": [
        "แสดงฟิล์ม X-Ray พร้อมระบายสี Pneumothorax ด้วย Mask สีแดง"
      ]
    },
    {
      "cell_type": "code",
      "metadata": {
        "colab_type": "code",
        "id": "iSyA7jchOwhG",
        "colab": {}
      },
      "source": [
        "start = 22   # Starting index of images\n",
        "num_img = 3 # Total number of images to show"
      ],
      "execution_count": null,
      "outputs": []
    },
    {
      "cell_type": "code",
      "metadata": {
        "colab_type": "code",
        "id": "UfLQT7GTX5XN",
        "colab": {}
      },
      "source": [
        "fig, ax = plt.subplots(nrows=1, ncols=num_img, sharey=True, figsize=(num_img*5,5))\n",
        "for q, file_path in enumerate(glob.glob(str(data_path2/'pneumothorax/dicom-images-train/*/*/*.dcm'))[start:start+num_img]):\n",
        "    dataset = pydicom.dcmread(file_path)\n",
        "    print(file_path.split('/')[-1])\n",
        "    ax[q].imshow(dataset.pixel_array, cmap=plt.cm.bone)\n",
        "    fn = file_path.split('/')[-1][:-4]\n",
        "    rle = df.loc[fn][0].strip()\n",
        "    # print(rle)\n",
        "    if rle != '-1':\n",
        "        print('See Marker')\n",
        "        mask = rle2mask(rle, 1024, 1024).T\n",
        "        ax[q].set_title('See Marker')\n",
        "#         # Normal Mask\n",
        "#         ax[q].imshow(mask, alpha=0.3, cmap=\"rainbow\")\n",
        "        \n",
        "        # Make alpha mask\n",
        "        mask_rgba = mask/255\n",
        "        mask_rgba = np.repeat(mask_rgba[:, :, np.newaxis], 4, axis=2)\n",
        "        mask_rgba[:, :, [1,2]] = 0\n",
        "        mask_rgba[:, :, 3] = mask_rgba[:, :, 3]*0.4\n",
        "\n",
        "        ax[q].imshow(mask_rgba)\n",
        "    else:\n",
        "        print('Nothing to see')\n",
        "        ax[q].set_title('Nothing to see')\n"
      ],
      "execution_count": null,
      "outputs": []
    },
    {
      "cell_type": "markdown",
      "metadata": {
        "colab_type": "text",
        "id": "9KZpQn4a5QZW"
      },
      "source": [
        "# 5. Data Pipeline"
      ]
    },
    {
      "cell_type": "markdown",
      "metadata": {
        "colab_type": "text",
        "id": "pb3NsWGw6_y6"
      },
      "source": [
        "เมื่อเราได้รูปด้านบนมาแล้ว เพื่อความสำดวก เราจะแปลงทั้งหมดเป็นไฟล์รูป .png เนื่องจาก Lossless แล้ว Resize เป็นขนาดต่าง ๆ ใส่ไว้ใน Folder ที่กำหนด ซึ่งมีคนทำไว้ให้เราแล้ว เราก็ไป Download มาใน Dataset 3, 4, 5, 6"
      ]
    },
    {
      "cell_type": "markdown",
      "metadata": {
        "id": "H_U2VKEgjiDO",
        "colab_type": "text"
      },
      "source": [
        "กำหนด [Batch Size](https://www.bualabs.com/archives/729/what-is-batch-size-in-deep-neural-networks-how-to-adjust-machine-learning-model-accuracy-deep-learning-hyperparameter-tuning-ep-2/), ขนาดของรูปที่จะเทรน และ Path ที่เก็บรูป"
      ]
    },
    {
      "cell_type": "code",
      "metadata": {
        "colab_type": "code",
        "id": "18K7usf0QCwz",
        "colab": {}
      },
      "source": [
        "bs=64\n",
        "e=2\n",
        "SZ = 128\n",
        "# path = data_path3\n",
        "path = data_path6"
      ],
      "execution_count": null,
      "outputs": []
    },
    {
      "cell_type": "markdown",
      "metadata": {
        "id": "C8OW-G_ejvn-",
        "colab_type": "text"
      },
      "source": [
        "ใช้ [Data Echoing](https://www.bualabs.com/archives/4157/data-echoing-faster-neural-network-training-with-data-echoing-machine-learning-data-echoing-preprocessing-ep-6/)"
      ]
    },
    {
      "cell_type": "code",
      "metadata": {
        "colab_type": "code",
        "id": "kkvzVgFWXTmK",
        "colab": {}
      },
      "source": [
        "class EchoingTransform(ItemTransform):\n",
        "    order = 2\n",
        "    split_idx = 0\n",
        "    def __init__(self, e): self.e = e\n",
        "    def encodes(self, x):\n",
        "        img, lbl = x\n",
        "        if self.e > 1:\n",
        "            img = img.repeat(self.e, 1, 1, 1)\n",
        "            lbl = lbl.repeat(self.e, 1, 1)\n",
        "        # print(img.shape)\n",
        "        # print(lbl.shape)\n",
        "        return img, lbl"
      ],
      "execution_count": null,
      "outputs": []
    },
    {
      "cell_type": "markdown",
      "metadata": {
        "id": "BiznotOaKOnF",
        "colab_type": "text"
      },
      "source": [
        "เนื่องจาก mask อยู่ใน format ที่ไม่ได้เป็น 0, 1 แต่เป็นไล่สีขาวดำ 0, 64, \n",
        "128, 191, 255 เราจะต้องปรับให้เป็น class 0, 1"
      ]
    },
    {
      "cell_type": "code",
      "metadata": {
        "id": "1byvpqrTgrmd",
        "colab_type": "code",
        "colab": {}
      },
      "source": [
        "def label_func(fn): return str(fn).replace('train/train', 'masks')"
      ],
      "execution_count": null,
      "outputs": []
    },
    {
      "cell_type": "code",
      "metadata": {
        "id": "uL-9U6ipJ9YY",
        "colab_type": "code",
        "colab": {}
      },
      "source": [
        "fn = get_image_files(path/'train')[111]\n",
        "msk_fn = label_func(fn)\n",
        "msk = PILMask.create(msk_fn)\n",
        "msk"
      ],
      "execution_count": null,
      "outputs": []
    },
    {
      "cell_type": "code",
      "metadata": {
        "id": "YzplyFg2LJDG",
        "colab_type": "code",
        "colab": {}
      },
      "source": [
        "tensor(msk)[120:130, 420:430]"
      ],
      "execution_count": null,
      "outputs": []
    },
    {
      "cell_type": "code",
      "metadata": {
        "id": "J-FnDYqtErSc",
        "colab_type": "code",
        "colab": {}
      },
      "source": [
        "def get_msk(fn):\n",
        "\n",
        "  msk_fn = label_func(fn)\n",
        "  msk = np.array(PILMask.create(msk_fn))\n",
        "  \n",
        "  msk[msk!=0] = 1\n",
        "  return PILMask.create(msk)"
      ],
      "execution_count": null,
      "outputs": []
    },
    {
      "cell_type": "markdown",
      "metadata": {
        "id": "tN2fNENMQrzp",
        "colab_type": "text"
      },
      "source": [
        "ลองดู Mask หลังจากแปลงเรียบร้อยแล้ว"
      ]
    },
    {
      "cell_type": "code",
      "metadata": {
        "id": "5h2IssZKLohc",
        "colab_type": "code",
        "colab": {}
      },
      "source": [
        "msk2 = get_msk(fn)\n",
        "tensor(msk2)[120:130, 420:430]"
      ],
      "execution_count": null,
      "outputs": []
    },
    {
      "cell_type": "code",
      "metadata": {
        "id": "2ycTdrGVGkwF",
        "colab_type": "code",
        "colab": {}
      },
      "source": [
        "get_y = lambda o: get_msk(o)"
      ],
      "execution_count": null,
      "outputs": []
    },
    {
      "cell_type": "markdown",
      "metadata": {
        "id": "n2x6lWPckBEC",
        "colab_type": "text"
      },
      "source": [
        "ใช้ [DataBlock API](https://www.bualabs.com/archives/2693/data-block-api-data-pipeline-machine-learning-supervised-learning-preprocessing-ep-5/) สร้าง [DataBunch](https://www.bualabs.com/archives/2318/databunch-learner-refactor-neural-network-training-loop-neural-network-ep-9/) เตรียมส่งให้ Model สำหรับเทรน โดย [Train/Validation Split](https://www.bualabs.com/archives/532/what-is-training-set-why-train-test-split-training-set-validation-set-test-set/) 80/20, แต่ละ Pixel เป็น Binary Classification 0/1 , ทำ [Data Augmentation](https://www.bualabs.com/archives/1170/what-is-data-augmentation-benefits-data-augmentaion-deep-learning-training-model-deep-neural-network-regularization-ep-1/) ทุกอย่างยกเว้น Flip Vertical แล้ว [Normalize](https://www.bualabs.com/archives/2100/what-is-normalization-feature-scaling-rescaling-normalization-standardization-feedforward-train-machine-learning-preprocessing-ep-2/) ด้วย imagenet_stats"
      ]
    },
    {
      "cell_type": "code",
      "metadata": {
        "id": "AUo2ov5ug07h",
        "colab_type": "code",
        "colab": {}
      },
      "source": [
        "codes = np.array([\"Normal\", \"Pneumothorax\"])"
      ],
      "execution_count": null,
      "outputs": []
    },
    {
      "cell_type": "code",
      "metadata": {
        "id": "iEz7UJEDTVsp",
        "colab_type": "code",
        "colab": {}
      },
      "source": [
        "# aug_transforms??"
      ],
      "execution_count": null,
      "outputs": []
    },
    {
      "cell_type": "code",
      "metadata": {
        "id": "XO45tQ_h3HIp",
        "colab_type": "code",
        "colab": {}
      },
      "source": [
        "def getDataBlock(size, e):\n",
        "  return DataBlock(blocks=(ImageBlock, MaskBlock(codes)),\n",
        "                  get_items = get_image_files,\n",
        "                  get_y = get_y,\n",
        "                  splitter=RandomSplitter(), \n",
        "                  item_tfms=RandomResizedCrop(size, min_scale=0.7, ratio=(1, 1)), \n",
        "                  # item_tfms=RandomResizedCrop(size), \n",
        "                  # batch_tfms = [EchoingTransform(e), *aug_transforms(flip_vert=True, max_rotate=180.0)])\n",
        "                  batch_tfms = [EchoingTransform(e), *aug_transforms(do_flip=False)])\n"
      ],
      "execution_count": null,
      "outputs": []
    },
    {
      "cell_type": "code",
      "metadata": {
        "id": "e3AWmSP-ggzm",
        "colab_type": "code",
        "colab": {}
      },
      "source": [
        "data = getDataBlock(SZ, e)"
      ],
      "execution_count": null,
      "outputs": []
    },
    {
      "cell_type": "code",
      "metadata": {
        "id": "hyOhp7u4W0nc",
        "colab_type": "code",
        "colab": {}
      },
      "source": [
        "# path = data_path6\n",
        "# data.summary(path/'train')"
      ],
      "execution_count": null,
      "outputs": []
    },
    {
      "cell_type": "code",
      "metadata": {
        "id": "ZVadBmFEhOYh",
        "colab_type": "code",
        "colab": {}
      },
      "source": [
        "dls = data.dataloaders(path/'train', bs=bs)"
      ],
      "execution_count": null,
      "outputs": []
    },
    {
      "cell_type": "markdown",
      "metadata": {
        "id": "sNtqQFMYl9Uw",
        "colab_type": "text"
      },
      "source": [
        "ได้ Traing Set และ Validation Set จำนวนดังนี้"
      ]
    },
    {
      "cell_type": "code",
      "metadata": {
        "colab_type": "code",
        "id": "v4XxAU6gYsSR",
        "colab": {}
      },
      "source": [
        "len(dls.train_ds), len(dls.valid_ds)"
      ],
      "execution_count": null,
      "outputs": []
    },
    {
      "cell_type": "markdown",
      "metadata": {
        "id": "a-k0mmFfmETs",
        "colab_type": "text"
      },
      "source": [
        "ดูข้อมูล 1 Batch "
      ]
    },
    {
      "cell_type": "code",
      "metadata": {
        "colab_type": "code",
        "id": "bKYUtAISXTx6",
        "colab": {}
      },
      "source": [
        "dls.show_batch(max_n=9, vmin=0, vmax=1, cmap='Reds', figsize=(12, 12))"
      ],
      "execution_count": null,
      "outputs": []
    },
    {
      "cell_type": "markdown",
      "metadata": {
        "colab_type": "text",
        "id": "lGlyq8S9ZxY_"
      },
      "source": [
        "# 6. Model"
      ]
    },
    {
      "cell_type": "markdown",
      "metadata": {
        "colab_type": "text",
        "id": "sH8rxch_hvCt"
      },
      "source": [
        "## 6.1 Dice Metric"
      ]
    },
    {
      "cell_type": "markdown",
      "metadata": {
        "id": "g5hlFnzsh0Fb",
        "colab_type": "text"
      },
      "source": [
        "Dice หรือ Sørensen–Dice coefficient เป็นการคำนวนสถิติที่ใช้วัดค่าความเหมือนกัน ของ 2 ข้อมูลตัวอย่าง ดังสมการด้านล่าง รายละเอียดเพิ่มเติมใน ep [Metrics / Confusion Matrix](https://www.bualabs.com/archives/1968/what-is-metrics-confusion-matrix-accuracy-precision-recall-f1-score-difference-metrics-ep-1/)"
      ]
    },
    {
      "cell_type": "markdown",
      "metadata": {
        "id": "rFo68XOoCg_F",
        "colab_type": "text"
      },
      "source": [
        "$$DSC =  \\frac{2 |X \\cap Y|}{|X|+ |Y|} = \\frac{2 TP}{2 TP + FP + FN} $$"
      ]
    },
    {
      "cell_type": "markdown",
      "metadata": {
        "colab_type": "text",
        "id": "Fdgtw2pNhmkU"
      },
      "source": [
        "## 6.2 U-Net and ResNet34"
      ]
    },
    {
      "cell_type": "markdown",
      "metadata": {
        "id": "v1HTNYN4h0op",
        "colab_type": "text"
      },
      "source": [
        "เราจะใช้ [Model Architecture](https://www.bualabs.com/archives/2703/how-to-read-model-convolutional-neural-network-shape-activation-map-model-architecture-convnet-ep-7/) เหมือน ep ที่แล้ว คือ U-Net และ ResNet34 แปลงโมเดลเป็นแบบ Mixed Precision Training และใช้ [Focal Loss](https://www.bualabs.com/archives/4227/what-is-focal-loss-loss-function-ep-4/) แทน Cross Entropy Loss ตามปกติ"
      ]
    },
    {
      "cell_type": "code",
      "metadata": {
        "id": "K6UnWuOhLOVs",
        "colab_type": "code",
        "colab": {}
      },
      "source": [
        "class XFocalLoss(kornia.losses.FocalLoss):\n",
        "    y_int = True\n",
        "    def __init__(self, alpha: float, gamma: float = 2.0,\n",
        "                 reduction: str = 'none') -> None:\n",
        "        super(XFocalLoss, self).__init__(alpha, gamma, reduction)\n",
        "\n",
        "    def forward(  # type: ignore\n",
        "            self,\n",
        "            input: torch.Tensor,\n",
        "            target: torch.Tensor) -> torch.Tensor:       \n",
        "\n",
        "        # set_trace()\n",
        "        # print(input.shape)\n",
        "        # print(target.shape)\n",
        "        return super().forward(input, target)      \n",
        "\n",
        "    def decodes(self, x):    return x.argmax(dim=1)\n",
        "    def activation(self, x): return F.softmax(x, dim=1)               \n",
        "\n",
        "class XDiceLoss(kornia.losses.DiceLoss):\n",
        "    y_int = True\n",
        "    def __init__(self) -> None:\n",
        "        super(XDiceLoss, self).__init__()\n",
        "\n",
        "    def forward(  # type: ignore\n",
        "            self,\n",
        "            input: torch.Tensor,\n",
        "            target: torch.Tensor) -> torch.Tensor:       \n",
        "\n",
        "        # set_trace()\n",
        "        # print(input.shape)\n",
        "        # print(target.shape)\n",
        "        return super().forward(input, target)      \n",
        "\n",
        "    def decodes(self, x):    return x.argmax(dim=1)\n",
        "    def activation(self, x): return F.softmax(x, dim=1)                   "
      ],
      "execution_count": null,
      "outputs": []
    },
    {
      "cell_type": "markdown",
      "metadata": {
        "id": "lhsdBXW3xG2O",
        "colab_type": "text"
      },
      "source": [
        "หาสัดส่วนของ Mask ต่อภาพทั้งหมด"
      ]
    },
    {
      "cell_type": "code",
      "metadata": {
        "id": "Xwaibi5dwoc_",
        "colab_type": "code",
        "colab": {}
      },
      "source": [
        "b = dls.one_batch()\n",
        "b[1].shape, b[1].float().mean()"
      ],
      "execution_count": null,
      "outputs": []
    },
    {
      "cell_type": "code",
      "metadata": {
        "id": "ohl98QVceB1D",
        "colab_type": "code",
        "colab": {}
      },
      "source": [
        "# loss_func = kornia.losses.FocalLoss(alpha= 0.5, gamma=2.0, reduction='mean')\n",
        "\n",
        "# loss_func = LabelSmoothingCrossEntropy()\n",
        "\n",
        "# weights = torch.tensor([[0.9]*1 + [1.1]]).cuda()\n",
        "# loss_func = CrossEntropyLossFlat(weight=weights, axis=1)\n",
        "\n",
        "# loss_func = CrossEntropyLossFlat(axis=1)\n",
        "\n",
        "loss_func = XFocalLoss(alpha=100.0, gamma=2.0, reduction='mean')\n",
        "\n",
        "# loss_func = XDiceLoss()\n",
        "\n",
        "# beta = 0.99\n",
        "# no_of_classes = 2\n",
        "# effective_num = 1.0 - np.power(beta, samples_per_cls)\n",
        "# weights = (1.0 - beta) / np.array(effective_num)\n",
        "# weights = weights / np.sum(weights) * no_of_classes\n",
        "# weights = (1.0 - np.power(beta, samples_per_cls))\n",
        "# weights = tensor(weights).cuda()\n",
        "# loss_func = CrossEntropyLossFlat(weight=weights, axis=1)"
      ],
      "execution_count": null,
      "outputs": []
    },
    {
      "cell_type": "code",
      "metadata": {
        "id": "8qXJ4IjPIZZk",
        "colab_type": "code",
        "colab": {}
      },
      "source": [
        "# unet_config??"
      ],
      "execution_count": null,
      "outputs": []
    },
    {
      "cell_type": "code",
      "metadata": {
        "id": "jzbmX9CXqixl",
        "colab_type": "code",
        "colab": {}
      },
      "source": [
        "metrics = [foreground_acc, Dice(), JaccardCoeff()]\n",
        "config = unet_config(self_attention=True, blur=True, act_cls=Mish)\n",
        "# config = unet_config(self_attention=True, blur=True)\n",
        "\n",
        "opt_func = ranger"
      ],
      "execution_count": null,
      "outputs": []
    },
    {
      "cell_type": "code",
      "metadata": {
        "id": "AekfyYiz8xtv",
        "colab_type": "code",
        "colab": {}
      },
      "source": [
        "# def getLearner(dls):\n",
        "#     return unet_learner(dls, resnet34, metrics=metrics, config=config,\n",
        "#                      loss_func=loss_func, \n",
        "#                      pretrained=True,                      \n",
        "#                      path=learner_path, \n",
        "#                      opt_func=opt_func, \n",
        "#                      wd=1e-1, \n",
        "#                      cbs=[ShowGraphCallback]).to_fp16()\n",
        "\n",
        "arch = partial(xresnet34, pretrained=False, c_in=3, act_cls=Mish, sa=True, n_out=2)\n",
        "\n",
        "def getLearner(dls):\n",
        "    return unet_learner(dls, arch, metrics=metrics, config=config,\n",
        "                     loss_func=loss_func, \n",
        "                     pretrained=False,                      \n",
        "                     path=learner_path, \n",
        "                     opt_func=opt_func, \n",
        "                     wd=1e-1, \n",
        "                     cbs=[ShowGraphCallback]).to_fp16()                     "
      ],
      "execution_count": null,
      "outputs": []
    },
    {
      "cell_type": "code",
      "metadata": {
        "colab_type": "code",
        "id": "NTShRTV9XT2W",
        "colab": {}
      },
      "source": [
        "learn = getLearner(dls)"
      ],
      "execution_count": null,
      "outputs": []
    },
    {
      "cell_type": "code",
      "metadata": {
        "colab_type": "code",
        "id": "HY9IHqJgUQDZ",
        "colab": {}
      },
      "source": [
        "learn.summary()"
      ],
      "execution_count": null,
      "outputs": []
    },
    {
      "cell_type": "markdown",
      "metadata": {
        "colab_type": "text",
        "id": "W8-ixE5MZ1Xi"
      },
      "source": [
        "# 7. Train"
      ]
    },
    {
      "cell_type": "markdown",
      "metadata": {
        "id": "DWooUfiLqknj",
        "colab_type": "text"
      },
      "source": [
        "เราจะใช้ Progressive Resizing ข้อมูลตัวอย่างที่ป้อนให้กับโมเดล เหมือนใน [Image Segmentation ep.1](https://www.bualabs.com/archives/835/image-segmentation-semantic-segmentation-camvid-machine-learning-unet-deep-learning-image-segmentation-ep-1/) เริ่มต้น จาก 128, 256, 512 ไปจนถึง 1024 ที่เป็นขนาดต้นฉบับ "
      ]
    },
    {
      "cell_type": "markdown",
      "metadata": {
        "colab_type": "text",
        "id": "dRw-kJnOZ3s9"
      },
      "source": [
        "## 7.1 Train 128"
      ]
    },
    {
      "cell_type": "code",
      "metadata": {
        "id": "fs2KK3o0a-zt",
        "colab_type": "code",
        "colab": {}
      },
      "source": [
        "# learn.freeze()"
      ],
      "execution_count": null,
      "outputs": []
    },
    {
      "cell_type": "code",
      "metadata": {
        "id": "9e6grQYCpez0",
        "colab_type": "code",
        "colab": {}
      },
      "source": [
        "# learn.lr_find()"
      ],
      "execution_count": null,
      "outputs": []
    },
    {
      "cell_type": "code",
      "metadata": {
        "id": "6RKPS18UrLM9",
        "colab_type": "code",
        "colab": {}
      },
      "source": [
        "# learn.fit_one_cycle(1, lr_max=slice(3e-3), pct_start=0.8)\n",
        "learn.fit_flat_cos(2, lr_max=slice(1e-2))"
      ],
      "execution_count": null,
      "outputs": []
    },
    {
      "cell_type": "code",
      "metadata": {
        "id": "3ys54kfbPaNM",
        "colab_type": "code",
        "colab": {}
      },
      "source": [
        "# learn.fit_one_cycle(10, lr_max=slice(3e-3), pct_start=0.8)\n",
        "learn.fit_flat_cos(6, lr_max=slice(6e-3))"
      ],
      "execution_count": null,
      "outputs": []
    },
    {
      "cell_type": "code",
      "metadata": {
        "id": "bcTl-o_bhLHT",
        "colab_type": "code",
        "colab": {}
      },
      "source": [
        "# learn.fit_one_cycle(10, lr_max=slice(3e-3), pct_start=0.8)\n",
        "learn.fit_flat_cos(4, lr_max=slice(3e-3))"
      ],
      "execution_count": null,
      "outputs": []
    },
    {
      "cell_type": "code",
      "metadata": {
        "id": "h2NSq0iP0H7I",
        "colab_type": "code",
        "colab": {}
      },
      "source": [
        "# learn.save('03c-unet-resnet34-128-1')"
      ],
      "execution_count": null,
      "outputs": []
    },
    {
      "cell_type": "code",
      "metadata": {
        "id": "AjQgKizYt_Wu",
        "colab_type": "code",
        "colab": {}
      },
      "source": [
        "# learn.load('03c-unet-resnet34-128-1');"
      ],
      "execution_count": null,
      "outputs": []
    },
    {
      "cell_type": "code",
      "metadata": {
        "id": "Qfe2NjpV2C0M",
        "colab_type": "code",
        "colab": {}
      },
      "source": [
        "# learn.unfreeze()"
      ],
      "execution_count": null,
      "outputs": []
    },
    {
      "cell_type": "code",
      "metadata": {
        "id": "8xdyQWRyThQJ",
        "colab_type": "code",
        "colab": {}
      },
      "source": [
        "# learn.lr_find()"
      ],
      "execution_count": null,
      "outputs": []
    },
    {
      "cell_type": "code",
      "metadata": {
        "colab_type": "code",
        "id": "zZ4MyG3_2Hq3",
        "colab": {}
      },
      "source": [
        "# learn.fit_flat_cos(2, lr=slice(1e-6, 1e-4))\n",
        "# learn.fit_one_cycle(4, lr_max=slice(1e-6, 1e-4), pct_start=0.7)"
      ],
      "execution_count": null,
      "outputs": []
    },
    {
      "cell_type": "code",
      "metadata": {
        "colab_type": "code",
        "id": "_oIaZgWf2Hq-",
        "colab": {}
      },
      "source": [
        "learn.save('03c-unet-resnet34-128-2')"
      ],
      "execution_count": null,
      "outputs": []
    },
    {
      "cell_type": "code",
      "metadata": {
        "colab_type": "code",
        "id": "YtOaCer1_Nwx",
        "colab": {}
      },
      "source": [
        "# learn.show_results(max_n=9, vmin=0, vmax=1, cmap='Reds', figsize=(12, 12))"
      ],
      "execution_count": null,
      "outputs": []
    },
    {
      "cell_type": "markdown",
      "metadata": {
        "colab_type": "text",
        "id": "wAT7pYRz4TC5"
      },
      "source": [
        "## 7.2 Increase Image size to 256"
      ]
    },
    {
      "cell_type": "code",
      "metadata": {
        "id": "YdBfEJLgcHz4",
        "colab_type": "code",
        "colab": {}
      },
      "source": [
        "learn = None\n",
        "dls = None\n",
        "gc.collect()\n",
        "torch.cuda.empty_cache()"
      ],
      "execution_count": null,
      "outputs": []
    },
    {
      "cell_type": "code",
      "metadata": {
        "colab_type": "code",
        "id": "p72G4ujm6Jes",
        "colab": {}
      },
      "source": [
        "bs = 32\n",
        "e = 2\n",
        "SZ = 224\n",
        "# path = data_path4\n",
        "path = data_path6"
      ],
      "execution_count": null,
      "outputs": []
    },
    {
      "cell_type": "code",
      "metadata": {
        "id": "U_J9ePol3a4J",
        "colab_type": "code",
        "colab": {}
      },
      "source": [
        "data = getDataBlock(SZ, e)"
      ],
      "execution_count": null,
      "outputs": []
    },
    {
      "cell_type": "code",
      "metadata": {
        "colab_type": "code",
        "id": "LMVljWbg5w3f",
        "colab": {}
      },
      "source": [
        "dls = data.dataloaders(path/'train', bs=bs)"
      ],
      "execution_count": null,
      "outputs": []
    },
    {
      "cell_type": "code",
      "metadata": {
        "id": "qvOwWOQ18ulw",
        "colab_type": "code",
        "colab": {}
      },
      "source": [
        "# dls.show_batch()"
      ],
      "execution_count": null,
      "outputs": []
    },
    {
      "cell_type": "code",
      "metadata": {
        "colab_type": "code",
        "id": "8OsmmpGk5w-6",
        "colab": {}
      },
      "source": [
        "learn = getLearner(dls)"
      ],
      "execution_count": null,
      "outputs": []
    },
    {
      "cell_type": "code",
      "metadata": {
        "id": "8i9CP0pdb-el",
        "colab_type": "code",
        "colab": {}
      },
      "source": [
        "learn.load('03c-unet-resnet34-128-2')\n",
        "learn.freeze()"
      ],
      "execution_count": null,
      "outputs": []
    },
    {
      "cell_type": "code",
      "metadata": {
        "id": "kDMIb2BD01UJ",
        "colab_type": "code",
        "colab": {}
      },
      "source": [
        "# learn.lr_find()"
      ],
      "execution_count": null,
      "outputs": []
    },
    {
      "cell_type": "code",
      "metadata": {
        "id": "ETzYKsB-ECva",
        "colab_type": "code",
        "colab": {}
      },
      "source": [
        "learn.fit_flat_cos(6, lr=slice(3e-4))\n",
        "# learn.fit_one_cycle(10, lr_max=slice(1e-3), pct_start=0.8)"
      ],
      "execution_count": null,
      "outputs": []
    },
    {
      "cell_type": "code",
      "metadata": {
        "colab_type": "code",
        "id": "yy0Phovw1AmR",
        "colab": {}
      },
      "source": [
        "learn.fit_flat_cos(4, lr=slice(1e-4))\n",
        "# learn.fit_one_cycle(10, lr_max=slice(1e-3), pct_start=0.8)"
      ],
      "execution_count": null,
      "outputs": []
    },
    {
      "cell_type": "code",
      "metadata": {
        "colab_type": "code",
        "id": "aF2WWs0M1AmZ",
        "colab": {}
      },
      "source": [
        "learn.save('03c-unet-resnet34-256-1')"
      ],
      "execution_count": null,
      "outputs": []
    },
    {
      "cell_type": "code",
      "metadata": {
        "colab_type": "code",
        "id": "Kad4RY_z1Amd",
        "colab": {}
      },
      "source": [
        "# learn.load('03c-unet-resnet34-256-1');"
      ],
      "execution_count": null,
      "outputs": []
    },
    {
      "cell_type": "code",
      "metadata": {
        "colab_type": "code",
        "id": "PjnelohR1Amt",
        "colab": {}
      },
      "source": [
        "learn.unfreeze()"
      ],
      "execution_count": null,
      "outputs": []
    },
    {
      "cell_type": "code",
      "metadata": {
        "id": "pTmuTqVgwCi4",
        "colab_type": "code",
        "colab": {}
      },
      "source": [
        "# learn.lr_find()"
      ],
      "execution_count": null,
      "outputs": []
    },
    {
      "cell_type": "code",
      "metadata": {
        "colab_type": "code",
        "id": "d7q1O-QU1Amx",
        "colab": {}
      },
      "source": [
        "learn.fit_flat_cos(4, lr=slice(1e-6, 1e-4))\n",
        "# learn.fit_one_cycle(4, lr_max=slice(1e-6, 1e-4), pct_start=0.7)"
      ],
      "execution_count": null,
      "outputs": []
    },
    {
      "cell_type": "code",
      "metadata": {
        "colab_type": "code",
        "id": "fHdTTEfK1Am0",
        "colab": {}
      },
      "source": [
        "learn.save('03c-unet-resnet34-256-2')"
      ],
      "execution_count": null,
      "outputs": []
    },
    {
      "cell_type": "code",
      "metadata": {
        "id": "zf6UJTQO0_m_",
        "colab_type": "code",
        "colab": {}
      },
      "source": [
        "# learn.load('03c-unet-resnet34-256-2');"
      ],
      "execution_count": null,
      "outputs": []
    },
    {
      "cell_type": "code",
      "metadata": {
        "colab_type": "code",
        "id": "itBsqT8u9LvL",
        "colab": {}
      },
      "source": [
        "# learn.show_results(max_n=9, vmin=0, vmax=1, cmap='Reds', figsize=(12, 12))"
      ],
      "execution_count": null,
      "outputs": []
    },
    {
      "cell_type": "markdown",
      "metadata": {
        "colab_type": "text",
        "id": "MEOK4-6ETki9"
      },
      "source": [
        "## 7.3 Increase Image size to 384"
      ]
    },
    {
      "cell_type": "code",
      "metadata": {
        "colab_type": "code",
        "id": "MybCauuhTkjI",
        "colab": {}
      },
      "source": [
        "learn = None\n",
        "dls = None\n",
        "gc.collect()\n",
        "torch.cuda.empty_cache()"
      ],
      "execution_count": null,
      "outputs": []
    },
    {
      "cell_type": "code",
      "metadata": {
        "colab_type": "code",
        "id": "7TuWRx2rTkjN",
        "colab": {}
      },
      "source": [
        "bs=14\n",
        "e=2\n",
        "SZ = 336\n",
        "path = data_path6"
      ],
      "execution_count": null,
      "outputs": []
    },
    {
      "cell_type": "code",
      "metadata": {
        "colab_type": "code",
        "id": "0XCwfQXxTkjQ",
        "colab": {}
      },
      "source": [
        "data = getDataBlock(SZ, e)"
      ],
      "execution_count": null,
      "outputs": []
    },
    {
      "cell_type": "code",
      "metadata": {
        "colab_type": "code",
        "id": "rUDC1GeETkjT",
        "colab": {}
      },
      "source": [
        "dls = data.dataloaders(path/'train', bs=bs)"
      ],
      "execution_count": null,
      "outputs": []
    },
    {
      "cell_type": "code",
      "metadata": {
        "colab_type": "code",
        "id": "RvM3a1ZpTkjV",
        "colab": {}
      },
      "source": [
        "# dls.show_batch()"
      ],
      "execution_count": null,
      "outputs": []
    },
    {
      "cell_type": "code",
      "metadata": {
        "colab_type": "code",
        "id": "HmvQUHfITkjY",
        "colab": {}
      },
      "source": [
        "learn = getLearner(dls)"
      ],
      "execution_count": null,
      "outputs": []
    },
    {
      "cell_type": "code",
      "metadata": {
        "colab_type": "code",
        "id": "DEXjjpVyTkjb",
        "colab": {}
      },
      "source": [
        "learn.load('03c-unet-resnet34-256-2')\n",
        "learn.freeze()"
      ],
      "execution_count": null,
      "outputs": []
    },
    {
      "cell_type": "code",
      "metadata": {
        "colab_type": "code",
        "id": "zOLAqKZVTkjd",
        "colab": {}
      },
      "source": [
        "# learn.lr_find()"
      ],
      "execution_count": null,
      "outputs": []
    },
    {
      "cell_type": "code",
      "metadata": {
        "colab_type": "code",
        "id": "laeTraVRTkji",
        "colab": {}
      },
      "source": [
        "learn.fit_flat_cos(6, lr=slice(1e-4))\n",
        "# learn.fit_one_cycle(8, lr_max=slice(3e-4), pct_start=0.8)"
      ],
      "execution_count": null,
      "outputs": []
    },
    {
      "cell_type": "code",
      "metadata": {
        "id": "GsCkpufUlCU5",
        "colab_type": "code",
        "colab": {}
      },
      "source": [
        "learn.fit_flat_cos(4, lr=slice(3e-5))\n",
        "# learn.fit_one_cycle(8, lr_max=slice(3e-4), pct_start=0.8)"
      ],
      "execution_count": null,
      "outputs": []
    },
    {
      "cell_type": "code",
      "metadata": {
        "colab_type": "code",
        "id": "hIPx3GuwTkjl",
        "colab": {}
      },
      "source": [
        "learn.save('03c-unet-resnet34-384-1')"
      ],
      "execution_count": null,
      "outputs": []
    },
    {
      "cell_type": "code",
      "metadata": {
        "colab_type": "code",
        "id": "QdHplZNNTkjo",
        "colab": {}
      },
      "source": [
        "# learn.load('03c-unet-resnet34-384-1');"
      ],
      "execution_count": null,
      "outputs": []
    },
    {
      "cell_type": "code",
      "metadata": {
        "colab_type": "code",
        "id": "LFlJFj2FTkjq",
        "colab": {}
      },
      "source": [
        "learn.unfreeze()"
      ],
      "execution_count": null,
      "outputs": []
    },
    {
      "cell_type": "code",
      "metadata": {
        "colab_type": "code",
        "id": "fdUMep7ZTkjt",
        "colab": {}
      },
      "source": [
        "# learn.lr_find()"
      ],
      "execution_count": null,
      "outputs": []
    },
    {
      "cell_type": "code",
      "metadata": {
        "colab_type": "code",
        "id": "beepYniPTkjv",
        "colab": {}
      },
      "source": [
        "learn.fit_flat_cos(4, lr=slice(3e-7, 3e-5))\n",
        "# learn.fit_one_cycle(2, lr_max=slice(1e-6, 1e-4), pct_start=0.7)"
      ],
      "execution_count": null,
      "outputs": []
    },
    {
      "cell_type": "code",
      "metadata": {
        "colab_type": "code",
        "id": "s6mNgeJVTkjy",
        "colab": {}
      },
      "source": [
        "learn.save('03c-unet-resnet34-384-2')"
      ],
      "execution_count": null,
      "outputs": []
    },
    {
      "cell_type": "code",
      "metadata": {
        "colab_type": "code",
        "id": "piewBAe_Tkj0",
        "colab": {}
      },
      "source": [
        "# learn.show_results(max_n=9, vmin=0, vmax=1, cmap='Reds', figsize=(12, 12))"
      ],
      "execution_count": null,
      "outputs": []
    },
    {
      "cell_type": "markdown",
      "metadata": {
        "colab_type": "text",
        "id": "N_dHlPpdG3qU"
      },
      "source": [
        "## 7.4 Increase Image size to 512 "
      ]
    },
    {
      "cell_type": "code",
      "metadata": {
        "id": "sj_OAB9RIlF-",
        "colab_type": "code",
        "colab": {}
      },
      "source": [
        "learn = None\n",
        "dls = None\n",
        "gc.collect()\n",
        "torch.cuda.empty_cache()"
      ],
      "execution_count": null,
      "outputs": []
    },
    {
      "cell_type": "code",
      "metadata": {
        "colab_type": "code",
        "id": "u6DBGizKG3qf",
        "colab": {}
      },
      "source": [
        "bs=17\n",
        "e=1\n",
        "SZ = 448\n",
        "path = data_path6"
      ],
      "execution_count": null,
      "outputs": []
    },
    {
      "cell_type": "code",
      "metadata": {
        "colab_type": "code",
        "id": "AgkhjN_MdNIq",
        "colab": {}
      },
      "source": [
        "data = getDataBlock(SZ, e)"
      ],
      "execution_count": null,
      "outputs": []
    },
    {
      "cell_type": "code",
      "metadata": {
        "colab_type": "code",
        "id": "fFefex37dNIw",
        "colab": {}
      },
      "source": [
        "dls = data.dataloaders(path/'train', bs=bs)"
      ],
      "execution_count": null,
      "outputs": []
    },
    {
      "cell_type": "code",
      "metadata": {
        "colab_type": "code",
        "id": "B2HZODwAdNI0",
        "colab": {}
      },
      "source": [
        "# dls.show_batch()"
      ],
      "execution_count": null,
      "outputs": []
    },
    {
      "cell_type": "code",
      "metadata": {
        "colab_type": "code",
        "id": "ukgN_di0dNJM",
        "colab": {}
      },
      "source": [
        "learn = getLearner(dls)"
      ],
      "execution_count": null,
      "outputs": []
    },
    {
      "cell_type": "code",
      "metadata": {
        "colab_type": "code",
        "id": "oXiJ6J-UdNJQ",
        "colab": {}
      },
      "source": [
        "learn.load('03c-unet-resnet34-384-2')\n",
        "learn.freeze()"
      ],
      "execution_count": null,
      "outputs": []
    },
    {
      "cell_type": "code",
      "metadata": {
        "colab_type": "code",
        "id": "QnTykW4JdNJU",
        "colab": {}
      },
      "source": [
        "# learn.lr_find()"
      ],
      "execution_count": null,
      "outputs": []
    },
    {
      "cell_type": "code",
      "metadata": {
        "colab_type": "code",
        "id": "7GTxPwH16ZCO",
        "colab": {}
      },
      "source": [
        "learn.fit_flat_cos(4, lr=slice(1e-4))\n",
        "# learn.fit_one_cycle(8, lr_max=slice(3e-4), pct_start=0.8)"
      ],
      "execution_count": null,
      "outputs": []
    },
    {
      "cell_type": "code",
      "metadata": {
        "colab_type": "code",
        "id": "sWx6f7-p6ZCc",
        "colab": {}
      },
      "source": [
        "learn.fit_flat_cos(6, lr=slice(3e-5))\n",
        "# learn.fit_one_cycle(8, lr_max=slice(3e-4), pct_start=0.8)"
      ],
      "execution_count": null,
      "outputs": []
    },
    {
      "cell_type": "code",
      "metadata": {
        "colab_type": "code",
        "id": "QXkBv_JfdNJd",
        "colab": {}
      },
      "source": [
        "learn.save('03c-unet-resnet34-512-1')"
      ],
      "execution_count": null,
      "outputs": []
    },
    {
      "cell_type": "code",
      "metadata": {
        "id": "PoCGosgDC6qF",
        "colab_type": "code",
        "colab": {}
      },
      "source": [
        "# learn.load('03c-unet-resnet34-512-1');"
      ],
      "execution_count": null,
      "outputs": []
    },
    {
      "cell_type": "code",
      "metadata": {
        "colab_type": "code",
        "id": "vnQC8ZpQdNJw",
        "colab": {}
      },
      "source": [
        "learn.unfreeze()"
      ],
      "execution_count": null,
      "outputs": []
    },
    {
      "cell_type": "code",
      "metadata": {
        "id": "mPxpdDFQ8jTC",
        "colab_type": "code",
        "colab": {}
      },
      "source": [
        "# learn.lr_find()"
      ],
      "execution_count": null,
      "outputs": []
    },
    {
      "cell_type": "code",
      "metadata": {
        "colab_type": "code",
        "id": "f_fQJ2XddNJz",
        "colab": {}
      },
      "source": [
        "learn.fit_flat_cos(2, lr=slice(3e-7, 3e-5))\n",
        "# learn.fit_one_cycle(2, lr_max=slice(3e-7, 3e-5), pct_start=0.7)"
      ],
      "execution_count": null,
      "outputs": []
    },
    {
      "cell_type": "code",
      "metadata": {
        "colab_type": "code",
        "id": "yCE7VaGfdNJ2",
        "colab": {}
      },
      "source": [
        "learn.save('03c-unet-resnet34-512-2')"
      ],
      "execution_count": null,
      "outputs": []
    },
    {
      "cell_type": "code",
      "metadata": {
        "colab_type": "code",
        "id": "T1VjdfvidNJ8",
        "colab": {}
      },
      "source": [
        "# learn.show_results(max_n=9, vmin=0, vmax=1, cmap='Reds', figsize=(12, 12))"
      ],
      "execution_count": null,
      "outputs": []
    },
    {
      "cell_type": "markdown",
      "metadata": {
        "colab_type": "text",
        "id": "Wxcd2CqdK_2J"
      },
      "source": [
        "## 7.5 Data Augmentation Annealing"
      ]
    },
    {
      "cell_type": "markdown",
      "metadata": {
        "id": "RM4fxbhzrKbV",
        "colab_type": "text"
      },
      "source": [
        "ก่อน Infer เราจะเทรนด้วยข้อมูลที่ไม่ได้ทำ [Data Augmentation](https://www.bualabs.com/archives/1170/what-is-data-augmentation-benefits-data-augmentaion-deep-learning-training-model-deep-neural-network-regularization-ep-1/) ตบท้าย"
      ]
    },
    {
      "cell_type": "code",
      "metadata": {
        "id": "Jse9p6eiIoCO",
        "colab_type": "code",
        "colab": {}
      },
      "source": [
        "learn = None\n",
        "dls = None\n",
        "gc.collect()\n",
        "torch.cuda.empty_cache()"
      ],
      "execution_count": null,
      "outputs": []
    },
    {
      "cell_type": "code",
      "metadata": {
        "colab_type": "code",
        "id": "hXwHx268Tr9Y",
        "colab": {}
      },
      "source": [
        "bs=17\n",
        "e=1\n",
        "SZ = 448\n",
        "path = data_path6"
      ],
      "execution_count": null,
      "outputs": []
    },
    {
      "cell_type": "code",
      "metadata": {
        "colab_type": "code",
        "id": "-DWvH6vCTr9Z",
        "colab": {}
      },
      "source": [
        "# path.ls()"
      ],
      "execution_count": null,
      "outputs": []
    },
    {
      "cell_type": "code",
      "metadata": {
        "id": "lrVPDPJ5OQoH",
        "colab_type": "code",
        "colab": {}
      },
      "source": [
        "# Resize??"
      ],
      "execution_count": null,
      "outputs": []
    },
    {
      "cell_type": "code",
      "metadata": {
        "id": "oih9x9bLeAGK",
        "colab_type": "code",
        "colab": {}
      },
      "source": [
        "data = DataBlock(blocks=(ImageBlock, MaskBlock(codes)),\n",
        "                  get_items = get_image_files,\n",
        "                  get_y = get_y,\n",
        "                  splitter=RandomSplitter(0.01), \n",
        "                  item_tfms=Resize(SZ), \n",
        "                  # item_tfms=Resize(SZ, method='squish'), \n",
        "                #   item_tfms=RandomResizedCrop(SZ, min_scale=0.9, ratio=(1, 1)), \n",
        "                  # batch_tfms=[EchoingTransform(e)])\n",
        "                  )                  "
      ],
      "execution_count": null,
      "outputs": []
    },
    {
      "cell_type": "code",
      "metadata": {
        "id": "4clnabNpeK87",
        "colab_type": "code",
        "colab": {}
      },
      "source": [
        "dls = data.dataloaders(path/'train', bs=bs)"
      ],
      "execution_count": null,
      "outputs": []
    },
    {
      "cell_type": "code",
      "metadata": {
        "id": "mtFH0dpASwQH",
        "colab_type": "code",
        "colab": {}
      },
      "source": [
        "# dls.show_batch()"
      ],
      "execution_count": null,
      "outputs": []
    },
    {
      "cell_type": "code",
      "metadata": {
        "colab_type": "code",
        "id": "_IkhnewKTr9c",
        "colab": {}
      },
      "source": [
        "learn = getLearner(dls)"
      ],
      "execution_count": null,
      "outputs": []
    },
    {
      "cell_type": "code",
      "metadata": {
        "colab_type": "code",
        "id": "5vXCfqYKTr9e",
        "colab": {}
      },
      "source": [
        "learn.load('03c-unet-resnet34-512-2');"
      ],
      "execution_count": null,
      "outputs": []
    },
    {
      "cell_type": "code",
      "metadata": {
        "id": "-kJfxrzvTr9g",
        "colab_type": "code",
        "colab": {}
      },
      "source": [
        "learn.unfreeze()"
      ],
      "execution_count": null,
      "outputs": []
    },
    {
      "cell_type": "code",
      "metadata": {
        "colab_type": "code",
        "id": "m9LfnUM7Tr9h",
        "colab": {}
      },
      "source": [
        "# learn.lr_find()"
      ],
      "execution_count": null,
      "outputs": []
    },
    {
      "cell_type": "code",
      "metadata": {
        "colab_type": "code",
        "id": "LvLCR5EVTr9k",
        "colab": {}
      },
      "source": [
        "learn.fit_flat_cos(2, lr=slice(3e-7, 3e-5))\n",
        "# learn.fit_one_cycle(2, lr_max=slice(3e-7, 3e-5), pct_start=0.7)\n",
        "# learn.fit_one_cycle(4, lr_max=slice(3e-7, 3e-5))"
      ],
      "execution_count": null,
      "outputs": []
    },
    {
      "cell_type": "code",
      "metadata": {
        "colab_type": "code",
        "id": "Axrsn_JYTr9m",
        "colab": {}
      },
      "source": [
        "learn.save('03c-unet-resnet34-512-3')"
      ],
      "execution_count": null,
      "outputs": []
    },
    {
      "cell_type": "code",
      "metadata": {
        "colab_type": "code",
        "id": "6IsIOjWQTr9o",
        "colab": {}
      },
      "source": [
        "# learn.load('03c-unet-resnet34-512-3');"
      ],
      "execution_count": null,
      "outputs": []
    },
    {
      "cell_type": "code",
      "metadata": {
        "id": "zauZirLmeS-C",
        "colab_type": "code",
        "colab": {}
      },
      "source": [
        "learn.show_results(max_n=9, vmin=0, vmax=1, cmap='Reds', figsize=(12, 12))"
      ],
      "execution_count": null,
      "outputs": []
    },
    {
      "cell_type": "markdown",
      "metadata": {
        "colab_type": "text",
        "id": "HYHi1hIMakZ1"
      },
      "source": [
        "# 8. Make a Prediction"
      ]
    },
    {
      "cell_type": "markdown",
      "metadata": {
        "id": "ePfci9bhreUk",
        "colab_type": "text"
      },
      "source": [
        "เทรนเสร็จแล้ว เราจะใช้โมเดลมาทำนายวินิจฉัย Pneumothorax หรือ ภาวะปอดรั่ว จากฟิล์ม X-Ray ใน Validation Set ที่เราแบ่งไว้ตอนแรก 20% ว่าจะตรงไหม"
      ]
    },
    {
      "cell_type": "code",
      "metadata": {
        "id": "dNeVJRTG4q4F",
        "colab_type": "code",
        "colab": {}
      },
      "source": [
        "gc.collect()\n",
        "torch.cuda.empty_cache()"
      ],
      "execution_count": null,
      "outputs": []
    },
    {
      "cell_type": "code",
      "metadata": {
        "colab_type": "code",
        "id": "6e6dyyCladId",
        "colab": {}
      },
      "source": [
        "# Predictions for the val set\n",
        "preds, ys = learn.get_preds()\n",
        "preds.shape, ys.shape"
      ],
      "execution_count": null,
      "outputs": []
    },
    {
      "cell_type": "code",
      "metadata": {
        "id": "FOVbDGuWBazf",
        "colab_type": "code",
        "colab": {}
      },
      "source": [
        "preds = preds[:,1,...]\n",
        "ys = ys.squeeze()"
      ],
      "execution_count": null,
      "outputs": []
    },
    {
      "cell_type": "code",
      "metadata": {
        "colab_type": "code",
        "id": "m8-g8oswYenE",
        "colab": {}
      },
      "source": [
        "preds.shape, ys.shape"
      ],
      "execution_count": null,
      "outputs": []
    },
    {
      "cell_type": "code",
      "metadata": {
        "colab_type": "code",
        "id": "pEQf6Qh0adRa",
        "colab": {}
      },
      "source": [
        "def dice_overall(preds, targs):\n",
        "    n = preds.shape[0]\n",
        "    preds = preds.view(n, -1)\n",
        "    targs = targs.view(n, -1)\n",
        "    intersect = (preds * targs).sum(-1).float()\n",
        "    union = (preds+targs).sum(-1).float()\n",
        "    u0 = union==0\n",
        "    intersect[u0] = 1\n",
        "    union[u0] = 2\n",
        "    return (2. * intersect / union)"
      ],
      "execution_count": null,
      "outputs": []
    },
    {
      "cell_type": "markdown",
      "metadata": {
        "id": "yquwj6xxr-uI",
        "colab_type": "text"
      },
      "source": [
        "หา Threshold ให้ได้ ค่า Dice ที่ดีที่สุด"
      ]
    },
    {
      "cell_type": "code",
      "metadata": {
        "colab_type": "code",
        "id": "MHRC0AQgadXv",
        "colab": {}
      },
      "source": [
        "# Find optimal threshold\n",
        "dices = []\n",
        "thrs = np.arange(0.01, 1, 0.01)\n",
        "for i in progress_bar(thrs):\n",
        "    preds_m = (preds>i).long()\n",
        "    dices.append(dice_overall(preds_m, ys).mean())\n",
        "dices = np.array(dices)"
      ],
      "execution_count": null,
      "outputs": []
    },
    {
      "cell_type": "code",
      "metadata": {
        "colab_type": "code",
        "id": "_JM8o1JBafMx",
        "colab": {}
      },
      "source": [
        "best_dice = dices.max()\n",
        "best_thr = thrs[dices.argmax()]\n",
        "\n",
        "plt.figure(figsize=(8,4))\n",
        "plt.plot(thrs, dices)\n",
        "plt.vlines(x=best_thr, ymin=dices.min(), ymax=dices.max())\n",
        "plt.text(best_thr+0.03, best_dice-0.01, f'DICE = {best_dice:.3f}', fontsize=14);\n",
        "plt.show()"
      ],
      "execution_count": null,
      "outputs": []
    },
    {
      "cell_type": "markdown",
      "metadata": {
        "id": "9O3FUURLsWsM",
        "colab_type": "text"
      },
      "source": [
        "ดูผลลัพธ์ในการวิจิฉัยภาวะปอดรั่ว (Pneumothorax) จะเห็นเป็น Image Segmentation เป็นสีเหลืองเขียว บริเวณปอดที่มีภาวะปอดรั่ว (Pneumothorax) เทียบกับ Label จากข้อมูลตัวอย่างใน Dataset\n",
        "\n",
        "จะเห็นว่าโมเดลของเราวินิจฉัยได้อย่างแม่นยำ "
      ]
    },
    {
      "cell_type": "code",
      "metadata": {
        "colab_type": "code",
        "id": "oye2Shq5afZ9",
        "colab": {}
      },
      "source": [
        "# Plot some samples\n",
        "rows = 5\n",
        "plot_idx = ys.sum((1,2)).sort(descending=True).indices[:rows]\n",
        "for idx in plot_idx:\n",
        "    fig, (ax0, ax1, ax2) = plt.subplots(ncols=3, figsize=(12, 4))\n",
        "    ax0.imshow(dls.valid_ds[idx][0])\n",
        "    ax1.imshow(ys[idx], vmin=0, vmax=1)\n",
        "    ax2.imshow(preds[idx], vmin=0, vmax=1)\n",
        "    ax1.set_title('Targets')\n",
        "    ax2.set_title('Predictions')"
      ],
      "execution_count": null,
      "outputs": []
    },
    {
      "cell_type": "markdown",
      "metadata": {
        "colab_type": "text",
        "id": "bwe7WZPEa7Qu"
      },
      "source": [
        "# 10. Submit Predictions to Kaggle"
      ]
    },
    {
      "cell_type": "markdown",
      "metadata": {
        "colab_type": "text",
        "id": "j4hFAHD-afmR"
      },
      "source": [
        "ส่งผลการวินิจฉัยฟิล์ม X-Ray ใน Test Set ไปให้ Kaggle ตรวจ"
      ]
    },
    {
      "cell_type": "code",
      "metadata": {
        "id": "sjySZm1NBhlv",
        "colab_type": "code",
        "colab": {}
      },
      "source": [
        "tst_fns = get_image_files(data_path_test)"
      ],
      "execution_count": null,
      "outputs": []
    },
    {
      "cell_type": "code",
      "metadata": {
        "id": "f_ysbSY9EmnZ",
        "colab_type": "code",
        "colab": {}
      },
      "source": [
        "dl = learn.dls.test_dl(tst_fns)"
      ],
      "execution_count": null,
      "outputs": []
    },
    {
      "cell_type": "code",
      "metadata": {
        "id": "6bcK6H_qGLO3",
        "colab_type": "code",
        "colab": {}
      },
      "source": [
        "# dl.show_batch()"
      ],
      "execution_count": null,
      "outputs": []
    },
    {
      "cell_type": "code",
      "metadata": {
        "id": "boSlaVPcADxX",
        "colab_type": "code",
        "colab": {}
      },
      "source": [
        "b = dl.one_batch()\n",
        "b[0][1]"
      ],
      "execution_count": null,
      "outputs": []
    },
    {
      "cell_type": "code",
      "metadata": {
        "id": "pjq-7PVOKmSf",
        "colab_type": "code",
        "colab": {}
      },
      "source": [
        "gc.collect()\n",
        "torch.cuda.empty_cache()"
      ],
      "execution_count": null,
      "outputs": []
    },
    {
      "cell_type": "code",
      "metadata": {
        "id": "T-krV2ESacfI",
        "colab_type": "code",
        "colab": {}
      },
      "source": [
        "# Predictions for test set\n",
        "preds, _ = learn.get_preds(dl=dl)\n",
        "preds = (preds[:,1,...]>best_thr).long().numpy()\n",
        "# print(preds.sum())"
      ],
      "execution_count": null,
      "outputs": []
    },
    {
      "cell_type": "code",
      "metadata": {
        "id": "eJmIqLHGB25U",
        "colab_type": "code",
        "colab": {}
      },
      "source": [
        "preds.shape"
      ],
      "execution_count": null,
      "outputs": []
    },
    {
      "cell_type": "code",
      "metadata": {
        "id": "6z9Q-oTACrL6",
        "colab_type": "code",
        "colab": {}
      },
      "source": [
        "# Plot some samples\n",
        "rows = 5\n",
        "plot_idx = np.arange(rows)\n",
        "for idx in plot_idx:\n",
        "    fig, (ax0, ax1) = plt.subplots(ncols=2, figsize=(8, 4))\n",
        "    ax0.imshow(dl.dataset[idx][0])\n",
        "    ax1.imshow(preds[idx], vmin=0, vmax=1)\n",
        "    ax1.set_title('Predictions')"
      ],
      "execution_count": null,
      "outputs": []
    },
    {
      "cell_type": "code",
      "metadata": {
        "id": "_Hkcx-MrDsVG",
        "colab_type": "code",
        "colab": {}
      },
      "source": [
        "# preds[1, 90:110, 110:130]"
      ],
      "execution_count": null,
      "outputs": []
    },
    {
      "cell_type": "code",
      "metadata": {
        "id": "NWTn1tjXEuIT",
        "colab_type": "code",
        "colab": {}
      },
      "source": [
        "# p = preds[1]\n",
        "# tst_im = PIL.Image.fromarray((p.T*255).astype(np.uint8)).resize((1024,1024), resample=PIL.Image.NEAREST)\n",
        "# tst_im = np.asarray(tst_im)\n",
        "# tst_im[240:260, 200:220]"
      ],
      "execution_count": null,
      "outputs": []
    },
    {
      "cell_type": "code",
      "metadata": {
        "id": "QnBJQaXvF_Cw",
        "colab_type": "code",
        "colab": {}
      },
      "source": [
        "# tst_msk = mask2rle(tst_im, 1024, 1024)\n",
        "# tst_msk"
      ],
      "execution_count": null,
      "outputs": []
    },
    {
      "cell_type": "markdown",
      "metadata": {
        "id": "GiADP4mW_Jhe",
        "colab_type": "text"
      },
      "source": [
        "แปลงจากรูป เป็น RLE เหมือนเดิม"
      ]
    },
    {
      "cell_type": "code",
      "metadata": {
        "id": "vomzb2kgjytR",
        "colab_type": "code",
        "colab": {}
      },
      "source": [
        "# # Generate rle encodings (images are first converted to the original size)\n",
        "def resize_mask2rle(p):\n",
        "    im = PIL.Image.fromarray((p.T*255).astype(np.uint8)).resize((1024,1024), resample=PIL.Image.NEAREST)\n",
        "    im = np.asarray(im)\n",
        "    return mask2rle(im, 1024, 1024)"
      ],
      "execution_count": null,
      "outputs": []
    },
    {
      "cell_type": "code",
      "metadata": {
        "colab_type": "code",
        "id": "NWG4XGi5af-l",
        "colab": {}
      },
      "source": [
        "### Serial Version\n",
        "rles = []\n",
        "for p in progress_bar(preds):\n",
        "    rles.append(resize_mask2rle(p))\n",
        "\n",
        "# ### Parallel Version\n",
        "# import multiprocessing as mp\n",
        "# # mp.cpu_count()\n",
        "# p=mp.Pool(4)                    \n",
        "# rles = p.map(resize_mask2rle, preds)"
      ],
      "execution_count": null,
      "outputs": []
    },
    {
      "cell_type": "markdown",
      "metadata": {
        "id": "uaZevKsW_fsx",
        "colab_type": "text"
      },
      "source": [
        "แปลงเป็น DataFrame ก่อน Save เป็นไฟล์ CSV"
      ]
    },
    {
      "cell_type": "code",
      "metadata": {
        "colab_type": "code",
        "id": "Rs9yJBgLagJ8",
        "colab": {}
      },
      "source": [
        "ids = [o.stem for o in dl.items]\n",
        "sub_df = pd.DataFrame({'ImageId': ids, 'EncodedPixels': rles})\n",
        "sub_df.loc[sub_df.EncodedPixels=='', 'EncodedPixels'] = '-1'\n",
        "sub_df.head()"
      ],
      "execution_count": null,
      "outputs": []
    },
    {
      "cell_type": "code",
      "metadata": {
        "colab_type": "code",
        "id": "rRaNDTjcauJU",
        "colab": {}
      },
      "source": [
        "sub_df.shape"
      ],
      "execution_count": null,
      "outputs": []
    },
    {
      "cell_type": "code",
      "metadata": {
        "colab_type": "code",
        "id": "uvtMu-R4a3CE",
        "colab": {}
      },
      "source": [
        "sub_df.to_csv('submission.csv', index=False)"
      ],
      "execution_count": null,
      "outputs": []
    },
    {
      "cell_type": "code",
      "metadata": {
        "id": "GjF0MBucZ-lW",
        "colab_type": "code",
        "colab": {}
      },
      "source": [
        "! kaggle competitions submit siim-acr-pneumothorax-segmentation -f {'submission.csv'} -m \"My submission CE min_scale0.7 Ranger 34\""
      ],
      "execution_count": null,
      "outputs": []
    },
    {
      "cell_type": "code",
      "metadata": {
        "id": "P1d6BM4NBW5U",
        "colab_type": "code",
        "colab": {}
      },
      "source": [
        "# Auto Play Audio file\n",
        "import IPython.display as ipd\n",
        "ipd.Audio(url=\"http://www.w3schools.com/html/horse.ogg\",\n",
        "                              autoplay=True) "
      ],
      "execution_count": null,
      "outputs": []
    },
    {
      "cell_type": "markdown",
      "metadata": {
        "id": "q1wGFX8m2XPm",
        "colab_type": "text"
      },
      "source": [
        "\n",
        "\n",
        "| Name           | Submitted    | Wait time | Execution time | Score   |\n",
        "|----------------|--------------|-----------|----------------|---------|\n",
        "| submission.csv | a day ago    | 0 seconds | 1 seconds      | 0.9060  |\n"
      ]
    },
    {
      "cell_type": "markdown",
      "metadata": {
        "id": "q2b1z-PL_5OR",
        "colab_type": "text"
      },
      "source": [
        "เราได้ Public Leaderboard 0.9060, Private Leaderboard 0.8104 อยู่ที่อันดับ 280 จาก 1475 ดังตารางด้านล่าง = Top 20%"
      ]
    },
    {
      "cell_type": "markdown",
      "metadata": {
        "id": "Zy-3oRUJy0oa",
        "colab_type": "text"
      },
      "source": [
        "| #   \t| Team Name      \t| Score  \t| Last \t|\n",
        "|-----\t|----------------\t|--------\t|------\t|\n",
        "| 278 \t| UWRad          \t| 0.8113 \t| 2mo  \t|\n",
        "| 279 \t| Mitul          \t| 0.8105 \t| 2mo  \t|\n",
        "| 280 \t| diCELLa        \t| 0.8096 \t| 2mo  \t|\n",
        "| 281 \t| lucaskg        \t| 0.8094 \t| 2mo  \t|\n",
        "| 282 \t| Insaf Ashrapov \t| 0.8091 \t| 2mo  \t|\n"
      ]
    },
    {
      "cell_type": "markdown",
      "metadata": {
        "id": "CYjRTOZS2YcH",
        "colab_type": "text"
      },
      "source": [
        "\n",
        "Top 10 ใน Private Leaderboard คือ อันดับที่ 147 จาก 1475 ทีม Dice = 0.8320 "
      ]
    },
    {
      "cell_type": "markdown",
      "metadata": {
        "id": "h-THOAoNtbNJ",
        "colab_type": "text"
      },
      "source": [
        "# สรุป"
      ]
    },
    {
      "cell_type": "markdown",
      "metadata": {
        "id": "WuU7Ve1wtauj",
        "colab_type": "text"
      },
      "source": [
        "* เราได้สร้าง AI วิจิฉัยภาวะปอดรั่ว (Pneumothorax) ที่ทำงานได้อย่าง อย่างแม่นยำพอสมควร ด้วยการเทรนโมเดล ด้วย GPU ไม่ถึง 24 ชั่วโมง\n",
        "* แทนที่จะใช้รูป PNG จาก Dataset ที่คนทำไว้ให้แล้ว เราสามารถแปลงไฟล์เองจากไฟล์ DICOM ต้นฉบับ เลือก Window ข้อมูลที่เราต้องการ เพื่อปรับปรุ่งความแม่นยำให้มากขึ้น\n",
        "* เราสามารถเพิ่มความซับซ้อนของโมเดล, รูปขนาดใหญ่ขึ้น, Loss Function, Multi-Head และใช้ GPU รุ่นใหม่ขึ้นในการเทรน ให้ได้ผลลัพธ์ที่แม่นยำมากขึ้น รวดเร็วขึ้นไปอีก\n",
        "* เราสามารถประยุกต์ใช้โมเดลนี้ กับโรคที่คล้าย ๆ กันอีกหลายโรค ที่ต้องวินิจฉัยโดย Radiologist (แพทย์รังสีวิทยา) อ่านฟิล์ม X-Ray"
      ]
    },
    {
      "cell_type": "markdown",
      "metadata": {
        "colab_type": "text",
        "id": "D2Q2fi5RXT6-"
      },
      "source": [
        "# Credit"
      ]
    },
    {
      "cell_type": "markdown",
      "metadata": {
        "colab_type": "text",
        "id": "OkeIgX03XT_g"
      },
      "source": [
        "* https://www.kaggle.com/c/siim-acr-pneumothorax-segmentation/\n",
        "* https://siim.org/\n",
        "* https://www.bualabs.com/archives/2856/ai-diagnose-pneumothorax-read-chest-x-ray-radiograph-image-collapsed-lung-radiologist-triage-patient-classification-segment-medical-image-segmentation-ep-2/\n",
        "* https://www.bualabs.com/archives/835/image-segmentation-semantic-segmentation-camvid-machine-learning-unet-deep-learning-image-segmentation-ep-1/\n",
        "* https://en.wikipedia.org/wiki/Pneumothorax\n",
        "* https://www.kaggle.com/schlerp/getting-to-know-dicom-and-the-data/\n",
        "* https://www.kaggle.com/jesperdramsch/intro-chest-xray-dicom-viz-u-nets-full-data\n",
        "* https://www.kaggle.com/jesperdramsch/siim-acr-pneumothorax-segmentation-data\n",
        "* https://www.kaggle.com/iafoss/hypercolumns-pneumothorax-fastai-0-831-lb\n",
        "* https://www.kaggle.com/iafoss/siimacr-pneumothorax-segmentation-data-128\n",
        "* https://www.kaggle.com/iafoss/siimacr-pneumothorax-segmentation-data-256\n",
        "* https://www.kaggle.com/iafoss/siimacr-pneumothorax-segmentation-data-512\n",
        "* https://www.kaggle.com/iafoss/siimacr-pneumothorax-segmentation-data-1024\n",
        "* https://www.kaggle.com/mnpinto/pneumothorax-fastai-u-net\n",
        "* https://www.kaggle.com/c/rsna-pneumonia-detection-challenge\n",
        "* https://www.kaggle.com/meaninglesslives/unet-with-efficientnet-encoder-in-keras\n",
        "* https://pydicom.github.io/pydicom/stable/getting_started.html\n",
        "* https://docs.python.org/2/library/glob.html\n",
        "* https://arxiv.org/abs/1505.04597\n",
        "* https://stackoverflow.com/questions/48750199/google-colaboratory-misleading-information-about-its-gpu-only-5-ram-available\n",
        "* https://github.com/muellerzr/Practical-Deep-Learning-for-Coders-2.0/blob/master/Computer%20Vision/04_Segmentation.ipynb\n",
        "* https://kornia.readthedocs.io/en/latest/_modules/kornia/losses/focal.html\n",
        "* https://arxiv.org/abs/1901.05555"
      ]
    },
    {
      "cell_type": "code",
      "metadata": {
        "id": "6GTyjtg1116b",
        "colab_type": "code",
        "colab": {}
      },
      "source": [
        ""
      ],
      "execution_count": null,
      "outputs": []
    }
  ]
}