{
  "nbformat": 4,
  "nbformat_minor": 0,
  "metadata": {
    "accelerator": "GPU",
    "colab": {
      "name": "03b-image-segmentation-siim-acr-pneumothorax-segmentation.ipynb",
      "provenance": [],
      "toc_visible": true
    },
    "kernelspec": {
      "display_name": "Python 3",
      "language": "python",
      "name": "python3"
    },
    "language_info": {
      "codemirror_mode": {
        "name": "ipython",
        "version": 3
      },
      "file_extension": ".py",
      "mimetype": "text/x-python",
      "name": "python",
      "nbconvert_exporter": "python",
      "pygments_lexer": "ipython3",
      "version": "3.7.3"
    }
  },
  "cells": [
    {
      "cell_type": "markdown",
      "metadata": {
        "colab_type": "text",
        "id": "vWywWSJfI28W"
      },
      "source": [
        "สมมติว่าอยู่ดี ๆ เราก็หายใจลำบาก หอบตัวโยน โดยไม่มีสาเหตุ ไม่มีอาการล่วงหน้าใด ๆ หรือว่าเราจะเป็น ภาวะปอดรั่ว  เราจะมาใช้ AI ช่วยวินิจฉัยเรื่องนี้กัน\n",
        "\n",
        "Pneumothorax หรือ ภาวะปอดรั่ว คือการที่มีอากาศรั่วไหลเข้าไปอยู่ในช่องระหว่างปอด และ ผนังอกด้านใน ทำให้เบียดเนื้อปอดให้ขยายตัวได้ไม่เต็มที่ ปอดทำงานได้ไม่ดี ส่งผลต่อการหายใจ ภาวะปอดรั่วนี้ต้องได้รับการดูแลจากแพทย์โดยด่วน หากปล่อยไว้จะเป็นอันตรายถึงแก่ชีวิตได้\n",
        "\n",
        "Pneumothorax หรือ ภาวะปอดรั่ว  เป็นภาวะที่พบได้ในอุบัติเหตุที่มีการกระแทกบริเวณหน้าอก มีลมซึมเข้ามาจากภายนอกทรวงอก หรือเกิดขึ้นเองจากการติดเชื้อภายใน โรคเกี่ยวกับปอด หอบหืด มะเร็งปอด etc. \n",
        "\n",
        "Pneumothorax หรือ ภาวะปอดรั่ว มักจะถูกวินิจฉัยโดย Radiologist (แพทย์รังสีวิทยา) อ่านฟิล์ม X-Ray แต่บางครั้งก็เป็นการยากที่จะยืนยันภาวะปอดรั่ว \n",
        "\n",
        "AI วิจิฉัยภาวะปอดรั่ว (Pneumothorax) อย่างแม่นยำ จะเป็นประโยชน์อย่างมาก ในการช่วยคัดแยกผู้ป่วย ในสถานพยาบาล จัดลำดับความสำคัญตามอาการมากน้อย หรือช่วยในการวินิจฉัยเบื้องต้น สำหรับบุคลากรทางการแพทย์ที่ไม่ใช่ Radiologist (แพทย์รังสีวิทยา)\n"
      ]
    },
    {
      "cell_type": "code",
      "metadata": {
        "colab_type": "code",
        "id": "nI307p9nRcIg",
        "colab": {}
      },
      "source": [
        "# Github URL\n",
        "# https://github.com/gnoparus/bualabs/blob/master/nbs/03b-image-segmentation-siim-acr-pneumothorax-segmentation.ipynb"
      ],
      "execution_count": 0,
      "outputs": []
    },
    {
      "cell_type": "markdown",
      "metadata": {
        "colab_type": "text",
        "id": "Y7QjHJiKRD9N"
      },
      "source": [
        "# 0. Install"
      ]
    },
    {
      "cell_type": "code",
      "metadata": {
        "id": "ipk-J8p-Yna_",
        "colab_type": "code",
        "colab": {
          "base_uri": "https://localhost:8080/"
        },
        "outputId": "beef950a-9a0a-4414-cc4c-858150a1a8af"
      },
      "source": [
        "! nvidia-smi"
      ],
      "execution_count": 2,
      "outputs": [
        {
          "output_type": "stream",
          "text": [
            "Thu May 28 14:12:02 2020       \n",
            "+-----------------------------------------------------------------------------+\n",
            "| NVIDIA-SMI 440.82       Driver Version: 418.67       CUDA Version: 10.1     |\n",
            "|-------------------------------+----------------------+----------------------+\n",
            "| GPU  Name        Persistence-M| Bus-Id        Disp.A | Volatile Uncorr. ECC |\n",
            "| Fan  Temp  Perf  Pwr:Usage/Cap|         Memory-Usage | GPU-Util  Compute M. |\n",
            "|===============================+======================+======================|\n",
            "|   0  Tesla P100-PCIE...  Off  | 00000000:00:04.0 Off |                    0 |\n",
            "| N/A   36C    P0    26W / 250W |      0MiB / 16280MiB |      0%      Default |\n",
            "+-------------------------------+----------------------+----------------------+\n",
            "                                                                               \n",
            "+-----------------------------------------------------------------------------+\n",
            "| Processes:                                                       GPU Memory |\n",
            "|  GPU       PID   Type   Process name                             Usage      |\n",
            "|=============================================================================|\n",
            "|  No running processes found                                                 |\n",
            "+-----------------------------------------------------------------------------+\n"
          ],
          "name": "stdout"
        }
      ]
    },
    {
      "cell_type": "markdown",
      "metadata": {
        "colab_type": "text",
        "id": "_qxIXpQqTmzD"
      },
      "source": [
        "เราจะต้อง Install kaggle เพื่อ Download Dataset"
      ]
    },
    {
      "cell_type": "code",
      "metadata": {
        "colab_type": "code",
        "id": "rnpSo4UOwmES",
        "colab": {}
      },
      "source": [
        "# # Colab\n",
        "# ! curl -s https://course.fast.ai/setup/colab | bash\n",
        "\n",
        "# ! pip install kaggle --upgrade -q\n",
        "# ! pip install pydicom -q\n",
        "# ! pip install kornia -q"
      ],
      "execution_count": 0,
      "outputs": []
    },
    {
      "cell_type": "markdown",
      "metadata": {
        "colab_type": "text",
        "id": "nYwRXpixQlx9"
      },
      "source": [
        "เช็ค [GPU](https://www.bualabs.com/archives/1426/why-gpu-require-train-deep-learning-compare-cpu-vs-gpu-deep-neural-network-hardware-ep-2/) Memory ใน Colab"
      ]
    },
    {
      "cell_type": "code",
      "metadata": {
        "colab_type": "code",
        "id": "BXVCJLFbQz5K",
        "colab": {}
      },
      "source": [
        "# # memory footprint support libraries/code\n",
        "# !ln -sf /opt/bin/nvidia-smi /usr/bin/nvidia-smi\n",
        "# !pip install gputil\n",
        "# !pip install psutil\n",
        "# !pip install humanize\n",
        "# import psutil\n",
        "# import humanize\n",
        "# import os\n",
        "# import GPUtil as GPU\n",
        "\n",
        "# GPUs = GPU.getGPUs()\n",
        "# # XXX: only one GPU on Colab and isn’t guaranteed\n",
        "# gpu = GPUs[0]\n",
        "# def printm():\n",
        "#  process = psutil.Process(os.getpid())\n",
        "#  print(\"Gen RAM Free: \" + humanize.naturalsize( psutil.virtual_memory().available ), \" | Proc size: \" + humanize.naturalsize( process.memory_info().rss))\n",
        "#  print(\"GPU RAM Free: {0:.0f}MB | Used: {1:.0f}MB | Util {2:3.0f}% | Total {3:.0f}MB\".format(gpu.memoryFree, gpu.memoryUsed, gpu.memoryUtil*100, gpu.memoryTotal))\n",
        "# printm() "
      ],
      "execution_count": 0,
      "outputs": []
    },
    {
      "cell_type": "markdown",
      "metadata": {
        "id": "u30Cu2E1fffq",
        "colab_type": "text"
      },
      "source": [
        "สำหรับ Clear Memory"
      ]
    },
    {
      "cell_type": "code",
      "metadata": {
        "colab_type": "code",
        "id": "Gvz-vbuCQyAJ",
        "colab": {}
      },
      "source": [
        "# !kill -9 -1"
      ],
      "execution_count": 0,
      "outputs": []
    },
    {
      "cell_type": "markdown",
      "metadata": {
        "colab_type": "text",
        "id": "eIhjYw2SRB31"
      },
      "source": [
        "# 1. Import Library"
      ]
    },
    {
      "cell_type": "markdown",
      "metadata": {
        "colab_type": "text",
        "id": "EYelaC8QUiuP"
      },
      "source": [
        "Import pydicom สำหรับเปิดไฟล์ภาพเอ็กซ์เรย์ DICOM นามสกุล dcm และ Libray อื่น ๆ ที่เราต้องการใช้"
      ]
    },
    {
      "cell_type": "code",
      "metadata": {
        "colab_type": "code",
        "id": "mQfGtLVJwJL8",
        "colab": {}
      },
      "source": [
        "import math\n",
        "import numpy as np\n",
        "import pandas as pd\n",
        "\n",
        "import os\n",
        "import glob\n",
        "\n",
        "import pydicom\n",
        "\n",
        "from pathlib import Path\n",
        "from matplotlib import cm\n",
        "from matplotlib import pyplot as plt\n",
        "\n",
        "import fastai\n",
        "from fastai.vision import *\n",
        "\n",
        "from kornia.losses import focal"
      ],
      "execution_count": 0,
      "outputs": []
    },
    {
      "cell_type": "code",
      "metadata": {
        "colab_type": "code",
        "id": "-ouzAduh6sLw",
        "outputId": "7bb60a92-38de-4249-8d2f-c64be62690cf",
        "colab": {
          "base_uri": "https://localhost:8080/"
        }
      },
      "source": [
        "fastai.__version__"
      ],
      "execution_count": 7,
      "outputs": [
        {
          "output_type": "execute_result",
          "data": {
            "text/plain": [
              "'1.0.61'"
            ]
          },
          "metadata": {
            "tags": []
          },
          "execution_count": 7
        }
      ]
    },
    {
      "cell_type": "markdown",
      "metadata": {
        "colab_type": "text",
        "id": "hZBm5maPRLmi"
      },
      "source": [
        "# 2. เตรียม Path สำหรับดาวน์โหลดข้อมูล"
      ]
    },
    {
      "cell_type": "markdown",
      "metadata": {
        "colab_type": "text",
        "id": "9DBiIhGYT6VU"
      },
      "source": [
        "กำหนด path ของ Config File และ Dataset ว่าจะอยู่ใน Google Drive ถ้าเราใช้ [Google Colab](https://www.bualabs.com/archives/1687/what-is-colab-open-jupyter-notebook-in-github-on-google-colab-create-open-in-colab-button-colab-ep-1/) หรือ อยู่ใน HOME ถ้าเราใช้ VM ธรรมดา และกำหนด Environment Variable ไปยังโฟลเดอร์ที่เก็บ kaggle.json"
      ]
    },
    {
      "cell_type": "markdown",
      "metadata": {
        "colab_type": "text",
        "id": "3xwILAZXUBx-"
      },
      "source": [
        "ในกรณีใช้ Colab ให้ Mount Google Drive เพื่อดึง Config File มาจาก Google Drive ส่วนตัวของเรา เมื่อเรารัน Cell ด้านล่างจะมีลิงค์ปรากฎขึ้นมาให้เรา Login กด Approve แล้ว Copy Authorization Code มาใส่ในช่องด้านล่าง แล้วกด Enter"
      ]
    },
    {
      "cell_type": "markdown",
      "metadata": {
        "id": "6g0fCwF8f0Lu",
        "colab_type": "text"
      },
      "source": [
        "ในเคสนี้เราจะดึงข้อมูลจากหลาย Dataset เนื่องจากเราจะใช้การเทรนแบบ Progressive Resizing ใช้รูปหลายขนาดในการเทรน "
      ]
    },
    {
      "cell_type": "code",
      "metadata": {
        "colab_type": "code",
        "id": "N7_7Mxaw8jfO",
        "colab": {
          "base_uri": "https://localhost:8080/"
        },
        "outputId": "49407315-f9a0-4b2f-8b93-77f6a9400ae8"
      },
      "source": [
        "dataset = 'siim-acr-pneumothorax-segmentation'\n",
        "dataset2 = 'jesperdramsch/siim-acr-pneumothorax-segmentation-data'\n",
        "dataset3 = 'iafoss/siimacr-pneumothorax-segmentation-data-128'\n",
        "dataset4 = 'iafoss/siimacr-pneumothorax-segmentation-data-256'\n",
        "dataset5 = 'iafoss/siimacr-pneumothorax-segmentation-data-512'\n",
        "dataset6 = 'iafoss/siimacr-pneumothorax-segmentation-data-1024'\n",
        "dataset_test = 'ivanzhovannik/siim_stage2_png'\n",
        "\n",
        "# Google Colab\n",
        "config_path = Path('/content/drive')\n",
        "data_path_base = Path('/content/datasets/')\n",
        "\n",
        "data_path = data_path_base/dataset\n",
        "data_path2 = data_path_base/dataset2\n",
        "data_path3 = data_path_base/dataset3\n",
        "data_path4 = data_path_base/dataset4\n",
        "data_path5 = data_path_base/dataset5\n",
        "data_path6 = data_path_base/dataset6\n",
        "data_path_test = data_path_base/dataset_test\n",
        "\n",
        "from google.colab import drive\n",
        "drive.mount(str(config_path))\n",
        "os.environ['KAGGLE_CONFIG_DIR'] = f\"{config_path}/My Drive/.kaggle\"\n",
        "\n",
        "# # VM\n",
        "# config_path = Path(os.getenv(\"HOME\"))\n",
        "# data_path = config_path/\"datasets\"/dataset\n",
        "# data_path2 = config_path/\"datasets\"/dataset2\n",
        "# data_path3 = config_path/\"datasets\"/dataset3\n",
        "# data_path4 = config_path/\"datasets\"/dataset4\n",
        "# data_path5 = config_path/\"datasets\"/dataset5\n",
        "# data_path6 = config_path/\"datasets\"/dataset6\n",
        "# data_path_test = config_path/\"datasets\"/dataset_test\n",
        "\n",
        "# data_path.mkdir(parents=True, exist_ok=True)\n",
        "# os.environ['KAGGLE_CONFIG_DIR'] = f\"{config_path}/.kaggle\""
      ],
      "execution_count": 8,
      "outputs": [
        {
          "output_type": "stream",
          "text": [
            "Drive already mounted at /content/drive; to attempt to forcibly remount, call drive.mount(\"/content/drive\", force_remount=True).\n"
          ],
          "name": "stdout"
        }
      ]
    },
    {
      "cell_type": "markdown",
      "metadata": {
        "colab_type": "text",
        "id": "fjX_JnMaRRaM"
      },
      "source": [
        "# 3. Dataset"
      ]
    },
    {
      "cell_type": "markdown",
      "metadata": {
        "colab_type": "text",
        "id": "MhsZxRECNHv_"
      },
      "source": [
        "ในเคสนี้ เราจะ Download ข้อมูล Dataset ที่เกี่ยวข้องทั้งหมดมาเก็บไว้ แบ่งเป็นรูปฟิล์ม X-Ray ขนาดต่าง ๆ ข้อมูลต้นฉบับ ข้อมูล Test Set, etc."
      ]
    },
    {
      "cell_type": "markdown",
      "metadata": {
        "colab_type": "text",
        "id": "Mtf3SFWCUYpu"
      },
      "source": [
        "Dataset เราจะดึงจาก Kaggle วิธี Download kaggle.json ให้ดูจาก ep ที่แล้ว\n",
        "\n",
        "เมื่อได้ kaggle.json มาแล้ว ในกรณีใช้ Google Colab ให้นำมาใส่ไว้ในโฟลเดอร์ My Drive/.kaggle ใน Google Drive ของเรา เป็น My Drive/.kaggle/kaggle.json ถ้าใช้ VM ให้ใส่ใน HOME/.kaggle/\n",
        "\n",
        "สั่งดาวน์โหลด Dataset จาก Kaggle พร้อมทั้ง unzip ไว้ใน data_path"
      ]
    },
    {
      "cell_type": "code",
      "metadata": {
        "colab_type": "code",
        "id": "DWVg-d8V4kRq",
        "colab": {}
      },
      "source": [
        "# !kaggle competitions download -c {dataset} -p \"{data_path}\"\n",
        "# !kaggle datasets download {dataset2} -p \"{data_path2}\" --unzip\n",
        "# !kaggle datasets download {dataset3} -p \"{data_path3}\" --unzip\n",
        "# !kaggle datasets download {dataset4} -p \"{data_path4}\" --unzip\n",
        "# !kaggle datasets download {dataset5} -p \"{data_path5}\" --unzip\n",
        "# !kaggle datasets download {dataset6} -p \"{data_path6}\" --unzip\n",
        "# !kaggle datasets download {dataset_test} -p \"{data_path_test}\" --unzip"
      ],
      "execution_count": 0,
      "outputs": []
    },
    {
      "cell_type": "markdown",
      "metadata": {
        "id": "EDFVn8bAhS12",
        "colab_type": "text"
      },
      "source": [
        "Unzip ไฟล์ที่ดาวน์โหลดจาก Kaggle Competition"
      ]
    },
    {
      "cell_type": "code",
      "metadata": {
        "colab_type": "code",
        "id": "6h-wCah2MIGV",
        "colab": {}
      },
      "source": [
        "# ! unzip -q {data_path}/siim-acr-pneumothorax-segmentation.zip -d {data_path}\n",
        "# ! unzip -q {data_path}/stage_2_images.zip -d {data_path}/stage_2_images\n",
        "# ! unzip -q {data_path}/stage_2_train.csv.zip -d {data_path}"
      ],
      "execution_count": 0,
      "outputs": []
    },
    {
      "cell_type": "markdown",
      "metadata": {
        "colab_type": "text",
        "id": "0fG8KJ3U6zpr"
      },
      "source": [
        "Import ฟังก์ชันสำหรับแปลงข้อมูล Label ที่อยู่ในรูปแบบ Run-length encoding (RLE) to Mask ที่ให้มากับ Dataset"
      ]
    },
    {
      "cell_type": "code",
      "metadata": {
        "colab_type": "code",
        "id": "pFujJZV2Ll_3",
        "colab": {}
      },
      "source": [
        "import sys\n",
        "sys.path.insert(0, str(data_path))\n",
        "\n",
        "from mask_functions import *"
      ],
      "execution_count": 0,
      "outputs": []
    },
    {
      "cell_type": "markdown",
      "metadata": {
        "colab_type": "text",
        "id": "-9a3w3CN4Zbr"
      },
      "source": [
        "# 4. Data"
      ]
    },
    {
      "cell_type": "markdown",
      "metadata": {
        "colab_type": "text",
        "id": "a0_3gwnTXGrj"
      },
      "source": [
        "## 4.1 DICOM Image"
      ]
    },
    {
      "cell_type": "markdown",
      "metadata": {
        "colab_type": "text",
        "id": "swuLfdY9O66A"
      },
      "source": [
        "เปิดดูข้อมูลฟิล์มเอ็กซ์เรย์"
      ]
    },
    {
      "cell_type": "code",
      "metadata": {
        "colab_type": "code",
        "id": "Z2Trpv1kOt33",
        "colab": {}
      },
      "source": [
        "def show_dcm_info(dataset):\n",
        "    print(\"Filename.........:\", file_path)\n",
        "    print(\"Storage type.....:\", dataset.SOPClassUID)\n",
        "    print()\n",
        "\n",
        "    pat_name = dataset.PatientName\n",
        "    display_name = pat_name.family_name + \", \" + pat_name.given_name\n",
        "    print(\"Patient's name......:\", display_name)\n",
        "    print(\"Patient id..........:\", dataset.PatientID)\n",
        "    print(\"Patient's Age.......:\", dataset.PatientAge)\n",
        "    print(\"Patient's Sex.......:\", dataset.PatientSex)\n",
        "    print(\"Modality............:\", dataset.Modality)\n",
        "    print(\"Body Part Examined..:\", dataset.BodyPartExamined)\n",
        "    print(\"View Position.......:\", dataset.ViewPosition)\n",
        "    \n",
        "    if 'PixelData' in dataset:\n",
        "        rows = int(dataset.Rows)\n",
        "        cols = int(dataset.Columns)\n",
        "        print(\"Image size.......: {rows:d} x {cols:d}, {size:d} bytes\".format(\n",
        "            rows=rows, cols=cols, size=len(dataset.PixelData)))\n",
        "        if 'PixelSpacing' in dataset:\n",
        "            print(\"Pixel spacing....:\", dataset.PixelSpacing)\n",
        "\n",
        "def plot_pixel_array(dataset, figsize=(10,10)):\n",
        "    plt.figure(figsize=figsize)\n",
        "    plt.imshow(dataset.pixel_array, cmap=plt.cm.bone)\n",
        "    plt.show()\n"
      ],
      "execution_count": 0,
      "outputs": []
    },
    {
      "cell_type": "markdown",
      "metadata": {
        "id": "G5rjEqiYhuFq",
        "colab_type": "text"
      },
      "source": [
        "วนลูปเปิดดูไฟล์ DICOM ที่จะมีทั้งรูป และ Metadata ข้อมูลประกอบ อยู่ในไฟล์เดียวกัน"
      ]
    },
    {
      "cell_type": "code",
      "metadata": {
        "colab_type": "code",
        "id": "AfarZadkOwNz",
        "colab": {}
      },
      "source": [
        "for file_path in glob.glob(str(data_path2/'pneumothorax/dicom-images-train/*/*/*.dcm')):\n",
        "    dataset = pydicom.dcmread(file_path)\n",
        "    show_dcm_info(dataset)\n",
        "    plot_pixel_array(dataset)\n",
        "    break # Comment this out to see all"
      ],
      "execution_count": 0,
      "outputs": []
    },
    {
      "cell_type": "markdown",
      "metadata": {
        "id": "mwCYVzoWh8h8",
        "colab_type": "text"
      },
      "source": [
        "ลองดูทีละหลาย ๆ ไฟล์"
      ]
    },
    {
      "cell_type": "code",
      "metadata": {
        "colab_type": "code",
        "id": "fbGL9jZLOwXs",
        "colab": {}
      },
      "source": [
        "start = 22   # Starting index of images\n",
        "num_img = 3 # Total number of images to show\n",
        "\n",
        "fig, ax = plt.subplots(nrows=1, ncols=num_img, sharey=True, figsize=(num_img*5,5))\n",
        "for q, file_path in enumerate(glob.glob(str(data_path2/'pneumothorax/dicom-images-train/*/*/*.dcm'))[start:start+num_img]):\n",
        "    dataset = pydicom.dcmread(file_path)\n",
        "    #show_dcm_info(dataset)\n",
        "    \n",
        "    ax[q].imshow(dataset.pixel_array, cmap=plt.cm.bone)\n"
      ],
      "execution_count": 0,
      "outputs": []
    },
    {
      "cell_type": "markdown",
      "metadata": {
        "id": "psyOQ8_UiBxt",
        "colab_type": "text"
      },
      "source": [
        "ดู Label ที่มาในรูปแบบ Run-length encoding (RLE) ดังที่เห็นใน Column EncodedPixels \n",
        "\n",
        "-1 หมายถึง ปอดปกติ"
      ]
    },
    {
      "cell_type": "code",
      "metadata": {
        "colab_type": "code",
        "id": "cWDjbLB5Owcb",
        "colab": {}
      },
      "source": [
        "df = pd.read_csv(data_path2/'train-rle.csv', index_col=0)\n",
        "df.head()"
      ],
      "execution_count": 0,
      "outputs": []
    },
    {
      "cell_type": "code",
      "metadata": {
        "colab_type": "code",
        "id": "eV4hRTe8dyYH",
        "colab": {}
      },
      "source": [
        "df.shape"
      ],
      "execution_count": 0,
      "outputs": []
    },
    {
      "cell_type": "markdown",
      "metadata": {
        "colab_type": "text",
        "id": "jaIocGLj5-Av"
      },
      "source": [
        "## 4.2 Mask"
      ]
    },
    {
      "cell_type": "markdown",
      "metadata": {
        "id": "_mIVIKnriN_h",
        "colab_type": "text"
      },
      "source": [
        "ใช้ฟังก์ชันที่ได้มา แปลง RLE เป็น Mask ขนาด 1024 x 1024"
      ]
    },
    {
      "cell_type": "code",
      "metadata": {
        "colab_type": "code",
        "id": "gLgzxl9_O08d",
        "colab": {}
      },
      "source": [
        "mask = rle2mask(df.loc['1.2.276.0.7230010.3.1.4.8323329.4904.1517875185.355709'][0].strip(), 1024, 1024).T\n",
        "# a = mask.sum(axis=1)\n",
        "# a = mask.sum(axis=0)\n",
        "# a.argmax()\n",
        "\n",
        "mask[105:115, 300:310]"
      ],
      "execution_count": 0,
      "outputs": []
    },
    {
      "cell_type": "markdown",
      "metadata": {
        "id": "8eiK1tZFidtV",
        "colab_type": "text"
      },
      "source": [
        "เพื่อให้เห็นชัด ๆ เราจะแปลงเป็น Transparent ไว้สำหรับ Overlay กับภาพฟิล์ม X-Ray"
      ]
    },
    {
      "cell_type": "code",
      "metadata": {
        "colab_type": "code",
        "id": "mGI0ZX9fO1Cn",
        "colab": {}
      },
      "source": [
        "mask_rgba = mask/255\n",
        "mask_rgba = np.repeat(mask_rgba[:, :, np.newaxis], 4, axis=2)\n",
        "mask_rgba[:, :, [1,2]] = 0\n",
        "mask_rgba[:, :, 3] = mask_rgba[:, :, 3]*0.7\n",
        "\n",
        "mask_rgba[105:115, 300:310, 0]"
      ],
      "execution_count": 0,
      "outputs": []
    },
    {
      "cell_type": "markdown",
      "metadata": {
        "id": "UiQf9yo4ioAc",
        "colab_type": "text"
      },
      "source": [
        "ลองแสดง Mask เป็นรูป"
      ]
    },
    {
      "cell_type": "code",
      "metadata": {
        "colab_type": "code",
        "id": "Ygi-i9xFO1IH",
        "colab": {}
      },
      "source": [
        "plt.imshow(mask_rgba)"
      ],
      "execution_count": 0,
      "outputs": []
    },
    {
      "cell_type": "markdown",
      "metadata": {
        "colab_type": "text",
        "id": "BpydhwJ46I5x"
      },
      "source": [
        "## 4.3 DICOM Image and Mask"
      ]
    },
    {
      "cell_type": "markdown",
      "metadata": {
        "id": "pD79l8iyi5nj",
        "colab_type": "text"
      },
      "source": [
        "แสดงฟิล์ม X-Ray พร้อมระบายสี Pneumothorax ด้วย Mask สีแดง"
      ]
    },
    {
      "cell_type": "code",
      "metadata": {
        "colab_type": "code",
        "id": "iSyA7jchOwhG",
        "colab": {}
      },
      "source": [
        "start = 44   # Starting index of images\n",
        "num_img = 3 # Total number of images to show"
      ],
      "execution_count": 0,
      "outputs": []
    },
    {
      "cell_type": "code",
      "metadata": {
        "colab_type": "code",
        "id": "UfLQT7GTX5XN",
        "colab": {}
      },
      "source": [
        "fig, ax = plt.subplots(nrows=1, ncols=num_img, sharey=True, figsize=(num_img*5,5))\n",
        "for q, file_path in enumerate(glob.glob(str(data_path2/'pneumothorax/dicom-images-train/*/*/*.dcm'))[start:start+num_img]):\n",
        "    dataset = pydicom.dcmread(file_path)\n",
        "    print(file_path.split('/')[-1])\n",
        "    ax[q].imshow(dataset.pixel_array, cmap=plt.cm.bone)\n",
        "    fn = file_path.split('/')[-1][:-4]\n",
        "    rle = df.loc[fn][0].strip()\n",
        "    # print(rle)\n",
        "    if rle != '-1':\n",
        "        print('See Marker')\n",
        "        mask = rle2mask(rle, 1024, 1024).T\n",
        "        ax[q].set_title('See Marker')\n",
        "#         # Normal Mask\n",
        "#         ax[q].imshow(mask, alpha=0.3, cmap=\"rainbow\")\n",
        "        \n",
        "        # Make alpha mask\n",
        "        mask_rgba = mask/255\n",
        "        mask_rgba = np.repeat(mask_rgba[:, :, np.newaxis], 4, axis=2)\n",
        "        mask_rgba[:, :, [1,2]] = 0\n",
        "        mask_rgba[:, :, 3] = mask_rgba[:, :, 3]*0.4\n",
        "\n",
        "        ax[q].imshow(mask_rgba)\n",
        "    else:\n",
        "        print('Nothing to see')\n",
        "        ax[q].set_title('Nothing to see')\n"
      ],
      "execution_count": 0,
      "outputs": []
    },
    {
      "cell_type": "markdown",
      "metadata": {
        "colab_type": "text",
        "id": "9KZpQn4a5QZW"
      },
      "source": [
        "# 5. Data Pipeline"
      ]
    },
    {
      "cell_type": "markdown",
      "metadata": {
        "colab_type": "text",
        "id": "pb3NsWGw6_y6"
      },
      "source": [
        "เมื่อเราได้รูปด้านบนมาแล้ว เพื่อความสำดวก เราจะแปลงทั้งหมดเป็นไฟล์รูป .png เนื่องจาก Lossless แล้ว Resize เป็นขนาดต่าง ๆ ใส่ไว้ใน Folder ที่กำหนด ซึ่งมีคนทำไว้ให้เราแล้ว เราก็ไป Download มาใน Dataset 3, 4, 5, 6"
      ]
    },
    {
      "cell_type": "markdown",
      "metadata": {
        "id": "H_U2VKEgjiDO",
        "colab_type": "text"
      },
      "source": [
        "กำหนด [Batch Size](https://www.bualabs.com/archives/729/what-is-batch-size-in-deep-neural-networks-how-to-adjust-machine-learning-model-accuracy-deep-learning-hyperparameter-tuning-ep-2/), ขนาดของรูปที่จะเทรน และ Path ที่เก็บรูป"
      ]
    },
    {
      "cell_type": "code",
      "metadata": {
        "colab_type": "code",
        "id": "18K7usf0QCwz",
        "colab": {}
      },
      "source": [
        "bs=128\n",
        "\n",
        "SZ = 128\n",
        "path = data_path3"
      ],
      "execution_count": 0,
      "outputs": []
    },
    {
      "cell_type": "markdown",
      "metadata": {
        "id": "C8OW-G_ejvn-",
        "colab_type": "text"
      },
      "source": [
        "ประกาศ Class และฟังก์ชัน ที่ใช้ใน [Data Pipeline](https://www.bualabs.com/archives/2693/data-block-api-data-pipeline-machine-learning-supervised-learning-preprocessing-ep-5/) ในงาน [Semantic Segmentation](https://www.bualabs.com/archives/835/image-segmentation-semantic-segmentation-camvid-machine-learning-unet-deep-learning-image-segmentation-ep-1/)"
      ]
    },
    {
      "cell_type": "code",
      "metadata": {
        "colab_type": "code",
        "id": "kkvzVgFWXTmK",
        "colab": {}
      },
      "source": [
        "# Setting div=True in open_mask\n",
        "class SegmentationLabelList(SegmentationLabelList):\n",
        "    def open(self, fn): return open_mask(fn, div=True)\n",
        "    \n",
        "class SegmentationItemList(SegmentationItemList):\n",
        "    _label_cls = SegmentationLabelList\n",
        "\n",
        "# Setting transformations on masks to False on test set\n",
        "def transform(self, tfms:Optional[Tuple[TfmList,TfmList]]=(None,None), **kwargs):\n",
        "    if not tfms: tfms=(None,None)\n",
        "    assert is_listy(tfms) and len(tfms) == 2\n",
        "    self.train.transform(tfms[0], **kwargs)\n",
        "    self.valid.transform(tfms[1], **kwargs)\n",
        "    kwargs['tfm_y'] = False # Test data has no labels\n",
        "    if self.test: self.test.transform(tfms[1], **kwargs)\n",
        "    return self\n",
        "fastai.data_block.ItemLists.transform = transform"
      ],
      "execution_count": 0,
      "outputs": []
    },
    {
      "cell_type": "markdown",
      "metadata": {
        "id": "n2x6lWPckBEC",
        "colab_type": "text"
      },
      "source": [
        "ใช้ [DataBlock API](https://www.bualabs.com/archives/2693/data-block-api-data-pipeline-machine-learning-supervised-learning-preprocessing-ep-5/) สร้าง [DataBunch](https://www.bualabs.com/archives/2318/databunch-learner-refactor-neural-network-training-loop-neural-network-ep-9/) เตรียมส่งให้ Model สำหรับเทรน โดย [Train/Validation Split](https://www.bualabs.com/archives/532/what-is-training-set-why-train-test-split-training-set-validation-set-test-set/) 80/20, แต่ละ Pixel เป็น Binary Classification 0/1 , ทำ [Data Augmentation](https://www.bualabs.com/archives/1170/what-is-data-augmentation-benefits-data-augmentaion-deep-learning-training-model-deep-neural-network-regularization-ep-1/) ทุกอย่างยกเว้น Flip Vertical แล้ว [Normalize](https://www.bualabs.com/archives/2100/what-is-normalization-feature-scaling-rescaling-normalization-standardization-feedforward-train-machine-learning-preprocessing-ep-2/) ด้วย imagenet_stats"
      ]
    },
    {
      "cell_type": "code",
      "metadata": {
        "colab_type": "code",
        "id": "QZLPJZvxXTtF",
        "colab": {}
      },
      "source": [
        "# Create databunch\n",
        "data = (SegmentationItemList.from_folder(path=path/'train')#[:500]\n",
        "        .split_by_rand_pct(0.2, seed=1234)\n",
        "        .label_from_func(lambda x : str(x).replace('train', 'masks'), classes=[0, 1])\n",
        "        .add_test((data_path_test).ls(), label=None)\n",
        "        .transform(get_transforms(), size=SZ, tfm_y=True)\n",
        "        .databunch(path=Path('.'), bs=bs)\n",
        "        .normalize(imagenet_stats))"
      ],
      "execution_count": 0,
      "outputs": []
    },
    {
      "cell_type": "markdown",
      "metadata": {
        "id": "sNtqQFMYl9Uw",
        "colab_type": "text"
      },
      "source": [
        "ได้ Traing Set และ Validation Set จำนวนดังนี้"
      ]
    },
    {
      "cell_type": "code",
      "metadata": {
        "colab_type": "code",
        "id": "v4XxAU6gYsSR",
        "colab": {}
      },
      "source": [
        "len(data.train_ds), len(data.valid_ds)"
      ],
      "execution_count": 0,
      "outputs": []
    },
    {
      "cell_type": "markdown",
      "metadata": {
        "id": "a-k0mmFfmETs",
        "colab_type": "text"
      },
      "source": [
        "ดูข้อมูล 1 Batch "
      ]
    },
    {
      "cell_type": "code",
      "metadata": {
        "colab_type": "code",
        "id": "bKYUtAISXTx6",
        "colab": {}
      },
      "source": [
        "# data.show_batch(rows=3, figsize=(12, 12))"
      ],
      "execution_count": 0,
      "outputs": []
    },
    {
      "cell_type": "markdown",
      "metadata": {
        "colab_type": "text",
        "id": "lGlyq8S9ZxY_"
      },
      "source": [
        "# 6. Model"
      ]
    },
    {
      "cell_type": "markdown",
      "metadata": {
        "colab_type": "text",
        "id": "sH8rxch_hvCt"
      },
      "source": [
        "## 6.1 Dice Metric"
      ]
    },
    {
      "cell_type": "markdown",
      "metadata": {
        "id": "g5hlFnzsh0Fb",
        "colab_type": "text"
      },
      "source": [
        "Dice หรือ Sørensen–Dice coefficient เป็นการคำนวนสถิติที่ใช้วัดค่าความเหมือนกัน ของ 2 ข้อมูลตัวอย่าง ดังสมการด้านล่าง รายละเอียดเพิ่มเติมใน ep [Metrics / Confusion Matrix](https://www.bualabs.com/archives/1968/what-is-metrics-confusion-matrix-accuracy-precision-recall-f1-score-difference-metrics-ep-1/)"
      ]
    },
    {
      "cell_type": "markdown",
      "metadata": {
        "id": "rFo68XOoCg_F",
        "colab_type": "text"
      },
      "source": [
        "$$DSC =  \\frac{2 |X \\cap Y|}{|X|+ |Y|} = \\frac{2 TP}{2 TP + FP + FN} $$"
      ]
    },
    {
      "cell_type": "markdown",
      "metadata": {
        "colab_type": "text",
        "id": "Fdgtw2pNhmkU"
      },
      "source": [
        "## 6.2 U-Net and ResNet50"
      ]
    },
    {
      "cell_type": "markdown",
      "metadata": {
        "id": "v1HTNYN4h0op",
        "colab_type": "text"
      },
      "source": [
        "เราจะใช้ [Model Architecture](https://www.bualabs.com/archives/2703/how-to-read-model-convolutional-neural-network-shape-activation-map-model-architecture-convnet-ep-7/) เหมือน ep ที่แล้ว คือ U-Net และ ResNet50 แปลงโมเดลเป็นแบบ Mixed Precision Training และใช้ [Focal Loss](https://www.bualabs.com/archives/4227/what-is-focal-loss-loss-function-ep-4/) แทน Cross Entropy Loss ตามปกติ"
      ]
    },
    {
      "cell_type": "code",
      "metadata": {
        "id": "f-9kt9c6eAft",
        "colab_type": "code",
        "colab": {}
      },
      "source": [
        "class CustomFocalLoss(focal.FocalLoss):\n",
        "    def __init__(self, alpha: float, gamma: float = 2.0,\n",
        "                 reduction: str = 'none') -> None:\n",
        "        super(CustomFocalLoss, self).__init__(alpha, gamma, reduction)\n",
        "\n",
        "    def activation(self, out): return F.softmax(out, dim=-1)\n",
        "    def decodes(self, out):    return out.argmax(dim=-1)\n",
        "    def forward(  # type: ignore\n",
        "            self,\n",
        "            input: torch.Tensor,\n",
        "            target: torch.Tensor) -> torch.Tensor:        \n",
        "        return super().forward(input, target.squeeze(1))    "
      ],
      "execution_count": 0,
      "outputs": []
    },
    {
      "cell_type": "code",
      "metadata": {
        "id": "ohl98QVceB1D",
        "colab_type": "code",
        "colab": {}
      },
      "source": [
        "kwargs = {\"alpha\": 0.5, \"gamma\": 2.0, \"reduction\": 'mean'}\n",
        "loss_func = CustomFocalLoss(**kwargs)"
      ],
      "execution_count": 0,
      "outputs": []
    },
    {
      "cell_type": "code",
      "metadata": {
        "colab_type": "code",
        "id": "NTShRTV9XT2W",
        "colab": {}
      },
      "source": [
        "learn = unet_learner(data, models.resnet50, metrics=[dice], self_attention=True, \n",
        "                     blur=True, norm_type=NormType.Weight, \n",
        "                     loss_func=loss_func, \n",
        "                     callback_fns=ShowGraph).to_fp16()"
      ],
      "execution_count": 0,
      "outputs": []
    },
    {
      "cell_type": "code",
      "metadata": {
        "colab_type": "code",
        "id": "HY9IHqJgUQDZ",
        "colab": {}
      },
      "source": [
        "# learn.summary()"
      ],
      "execution_count": 0,
      "outputs": []
    },
    {
      "cell_type": "markdown",
      "metadata": {
        "colab_type": "text",
        "id": "W8-ixE5MZ1Xi"
      },
      "source": [
        "# 7. Train"
      ]
    },
    {
      "cell_type": "markdown",
      "metadata": {
        "id": "DWooUfiLqknj",
        "colab_type": "text"
      },
      "source": [
        "เราจะใช้ Progressive Resizing ข้อมูลตัวอย่างที่ป้อนให้กับโมเดล เหมือนใน [Image Segmentation ep.1](https://www.bualabs.com/archives/835/image-segmentation-semantic-segmentation-camvid-machine-learning-unet-deep-learning-image-segmentation-ep-1/) เริ่มต้น จาก 128, 256, 512 ไปจนถึง 1024 ที่เป็นขนาดต้นฉบับ "
      ]
    },
    {
      "cell_type": "code",
      "metadata": {
        "colab_type": "code",
        "id": "5IXJ2h4O_Ohg",
        "colab": {}
      },
      "source": [
        "# learn.lr_find()\n",
        "# learn.recorder.plot(suggestion=True, skip_last=1)"
      ],
      "execution_count": 0,
      "outputs": []
    },
    {
      "cell_type": "markdown",
      "metadata": {
        "colab_type": "text",
        "id": "dRw-kJnOZ3s9"
      },
      "source": [
        "## 7.1 Train Last Layer"
      ]
    },
    {
      "cell_type": "code",
      "metadata": {
        "colab_type": "code",
        "id": "BuCrDNttY1NG",
        "colab": {}
      },
      "source": [
        "lr = 1e-3"
      ],
      "execution_count": 0,
      "outputs": []
    },
    {
      "cell_type": "code",
      "metadata": {
        "colab_type": "code",
        "id": "OgsqTdzO_OYp",
        "colab": {}
      },
      "source": [
        "learn.fit_one_cycle(3, max_lr=lr, wd=1e-3, pct_start=0.8)"
      ],
      "execution_count": 0,
      "outputs": []
    },
    {
      "cell_type": "code",
      "metadata": {
        "colab_type": "code",
        "id": "uFJwDA1i_OVw",
        "colab": {}
      },
      "source": [
        "learn.save('03b-unet-resnet50-128-1')"
      ],
      "execution_count": 0,
      "outputs": []
    },
    {
      "cell_type": "code",
      "metadata": {
        "colab_type": "code",
        "id": "hWyVWfdL_OPr",
        "colab": {}
      },
      "source": [
        "learn.load('03b-unet-resnet50-128-1');"
      ],
      "execution_count": 0,
      "outputs": []
    },
    {
      "cell_type": "code",
      "metadata": {
        "colab_type": "code",
        "id": "xERFNK-55kIn",
        "colab": {}
      },
      "source": [
        "# learn.show_results(rows=4, figsize=(8, 16))"
      ],
      "execution_count": 0,
      "outputs": []
    },
    {
      "cell_type": "markdown",
      "metadata": {
        "colab_type": "text",
        "id": "b3KJFnWe_OMn"
      },
      "source": [
        "## 7.2 Unfreeze and Train Whole Model"
      ]
    },
    {
      "cell_type": "code",
      "metadata": {
        "colab_type": "code",
        "id": "SrqX3GTR_OJq",
        "colab": {}
      },
      "source": [
        "learn.unfreeze()"
      ],
      "execution_count": 0,
      "outputs": []
    },
    {
      "cell_type": "code",
      "metadata": {
        "colab_type": "code",
        "id": "TpT5cOFhWYfC",
        "colab": {}
      },
      "source": [
        "# learn.lr_find()\n",
        "# learn.recorder.plot(suggestion=True, skip_last=0)"
      ],
      "execution_count": 0,
      "outputs": []
    },
    {
      "cell_type": "code",
      "metadata": {
        "colab_type": "code",
        "id": "zjHZ5zJs_N9q",
        "colab": {}
      },
      "source": [
        "lr = slice(3e-6, 3e-4)"
      ],
      "execution_count": 0,
      "outputs": []
    },
    {
      "cell_type": "code",
      "metadata": {
        "colab_type": "code",
        "id": "eiwaBqRa_N4h",
        "colab": {}
      },
      "source": [
        "learn.fit_one_cycle(9, max_lr=lr, wd=1e-3, pct_start=0.7)"
      ],
      "execution_count": 0,
      "outputs": []
    },
    {
      "cell_type": "code",
      "metadata": {
        "colab_type": "code",
        "id": "X4fRGlFD4AxZ",
        "colab": {}
      },
      "source": [
        "learn.save('03b-unet-resnet50-128-2')"
      ],
      "execution_count": 0,
      "outputs": []
    },
    {
      "cell_type": "code",
      "metadata": {
        "colab_type": "code",
        "id": "rbzhguEe4Axn",
        "colab": {}
      },
      "source": [
        "learn.load('03b-unet-resnet50-128-2');"
      ],
      "execution_count": 0,
      "outputs": []
    },
    {
      "cell_type": "code",
      "metadata": {
        "colab_type": "code",
        "id": "YtOaCer1_Nwx",
        "colab": {}
      },
      "source": [
        "# learn.show_results(rows=4, figsize=(8, 16))"
      ],
      "execution_count": 0,
      "outputs": []
    },
    {
      "cell_type": "markdown",
      "metadata": {
        "colab_type": "text",
        "id": "wAT7pYRz4TC5"
      },
      "source": [
        "## 7.3 Increase Image size to 256 and Train Last Layer"
      ]
    },
    {
      "cell_type": "code",
      "metadata": {
        "colab_type": "code",
        "id": "RX80ADty4TLn",
        "colab": {}
      },
      "source": [
        "learn.destroy()\n",
        "gc.collect()"
      ],
      "execution_count": 0,
      "outputs": []
    },
    {
      "cell_type": "code",
      "metadata": {
        "colab_type": "code",
        "id": "p72G4ujm6Jes",
        "colab": {}
      },
      "source": [
        "bs=32\n",
        "\n",
        "SZ = 256\n",
        "path = data_path4"
      ],
      "execution_count": 0,
      "outputs": []
    },
    {
      "cell_type": "markdown",
      "metadata": {
        "id": "u7HwiLa3HqAR",
        "colab_type": "text"
      },
      "source": [
        "คราวนี้ เราจะ Normalize ด้วยข้อมูล 1 Batch จาก Dataset ของเราเอง แทนที่จะใช้ imagenet_stats"
      ]
    },
    {
      "cell_type": "code",
      "metadata": {
        "colab_type": "code",
        "id": "LMVljWbg5w3f",
        "colab": {}
      },
      "source": [
        "# Create databunch\n",
        "data = (SegmentationItemList.from_folder(path=path/'train')#[:500]\n",
        "        .split_by_rand_pct(0.2, seed=1234)\n",
        "        .label_from_func(lambda x : str(x).replace('train', 'masks'), classes=[0, 1])\n",
        "        .add_test((data_path_test).ls(), label=None)\n",
        "        .transform(get_transforms(), size=SZ, tfm_y=True)\n",
        "        .databunch(path=Path('.'), bs=bs)\n",
        "        .normalize())"
      ],
      "execution_count": 0,
      "outputs": []
    },
    {
      "cell_type": "code",
      "metadata": {
        "colab_type": "code",
        "id": "8OsmmpGk5w-6",
        "colab": {}
      },
      "source": [
        "learn = unet_learner(data, models.resnet50, metrics=[dice], \n",
        "                     self_attention=True, blur=True, norm_type=NormType.Weight, \n",
        "                     loss_func=loss_func, \n",
        "                     callback_fns=ShowGraph).to_fp16()"
      ],
      "execution_count": 0,
      "outputs": []
    },
    {
      "cell_type": "code",
      "metadata": {
        "colab_type": "code",
        "id": "xdlzbBtl5xFb",
        "colab": {}
      },
      "source": [
        "learn.load('03b-unet-resnet50-128-2')\n",
        "learn.freeze()"
      ],
      "execution_count": 0,
      "outputs": []
    },
    {
      "cell_type": "code",
      "metadata": {
        "colab_type": "code",
        "id": "D-xd-TZG6rXN",
        "colab": {}
      },
      "source": [
        "# learn.lr_find()\n",
        "# learn.recorder.plot(suggestion=True, skip_last=1)"
      ],
      "execution_count": 0,
      "outputs": []
    },
    {
      "cell_type": "code",
      "metadata": {
        "colab_type": "code",
        "id": "ZrwtdkGn6rXl",
        "colab": {}
      },
      "source": [
        "lr = 3e-4"
      ],
      "execution_count": 0,
      "outputs": []
    },
    {
      "cell_type": "code",
      "metadata": {
        "colab_type": "code",
        "id": "2UC5zsdu6rXq",
        "colab": {}
      },
      "source": [
        "learn.fit_one_cycle(4, max_lr=lr, wd=1e-3, pct_start=0.8)"
      ],
      "execution_count": 0,
      "outputs": []
    },
    {
      "cell_type": "code",
      "metadata": {
        "colab_type": "code",
        "id": "9x3nF2Sr9Luf",
        "colab": {}
      },
      "source": [
        "learn.save('03b-unet-resnet50-256-1')"
      ],
      "execution_count": 0,
      "outputs": []
    },
    {
      "cell_type": "code",
      "metadata": {
        "colab_type": "code",
        "id": "oys3Mk6s9Luq",
        "colab": {}
      },
      "source": [
        "learn.load('03b-unet-resnet50-256-1');"
      ],
      "execution_count": 0,
      "outputs": []
    },
    {
      "cell_type": "code",
      "metadata": {
        "colab_type": "code",
        "id": "KehlQU4m9Lut",
        "colab": {}
      },
      "source": [
        "# learn.show_results(rows=4, figsize=(8, 16))"
      ],
      "execution_count": 0,
      "outputs": []
    },
    {
      "cell_type": "markdown",
      "metadata": {
        "colab_type": "text",
        "id": "1lUBz37m9Luw"
      },
      "source": [
        "## 7.4 Unfreeze and Train Whole Model with 256"
      ]
    },
    {
      "cell_type": "code",
      "metadata": {
        "colab_type": "code",
        "id": "iJXg74gS9Lux",
        "colab": {}
      },
      "source": [
        "learn.unfreeze()"
      ],
      "execution_count": 0,
      "outputs": []
    },
    {
      "cell_type": "code",
      "metadata": {
        "colab_type": "code",
        "id": "DleVJTWr9Lu0",
        "colab": {}
      },
      "source": [
        "# learn.lr_find()\n",
        "# learn.recorder.plot(suggestion=True, skip_last=0)"
      ],
      "execution_count": 0,
      "outputs": []
    },
    {
      "cell_type": "code",
      "metadata": {
        "colab_type": "code",
        "id": "of5OSDXG9Lu-",
        "colab": {}
      },
      "source": [
        "lr = slice(3e-6, 1e-4)"
      ],
      "execution_count": 0,
      "outputs": []
    },
    {
      "cell_type": "code",
      "metadata": {
        "colab_type": "code",
        "id": "uDTdQums9LvC",
        "colab": {}
      },
      "source": [
        "learn.fit_one_cycle(10, max_lr=lr, wd=1e-3, pct_start=0.7)"
      ],
      "execution_count": 0,
      "outputs": []
    },
    {
      "cell_type": "code",
      "metadata": {
        "colab_type": "code",
        "id": "hEPBLnAb9LvF",
        "colab": {}
      },
      "source": [
        "learn.save('03b-unet-resnet50-256-2')"
      ],
      "execution_count": 0,
      "outputs": []
    },
    {
      "cell_type": "code",
      "metadata": {
        "colab_type": "code",
        "id": "YH7MLxzQ9LvI",
        "colab": {}
      },
      "source": [
        "learn.load('03b-unet-resnet50-256-2');"
      ],
      "execution_count": 0,
      "outputs": []
    },
    {
      "cell_type": "code",
      "metadata": {
        "colab_type": "code",
        "id": "itBsqT8u9LvL",
        "colab": {}
      },
      "source": [
        "# learn.show_results(rows=4, figsize=(8, 16))"
      ],
      "execution_count": 0,
      "outputs": []
    },
    {
      "cell_type": "markdown",
      "metadata": {
        "colab_type": "text",
        "id": "N_dHlPpdG3qU"
      },
      "source": [
        "## 7.5 Increase Image size to 512 and Train Last Layer"
      ]
    },
    {
      "cell_type": "code",
      "metadata": {
        "colab_type": "code",
        "id": "XKSomhGzG3qb",
        "colab": {}
      },
      "source": [
        "learn.destroy()\n",
        "gc.collect()"
      ],
      "execution_count": 0,
      "outputs": []
    },
    {
      "cell_type": "code",
      "metadata": {
        "colab_type": "code",
        "id": "u6DBGizKG3qf",
        "colab": {}
      },
      "source": [
        "bs=8\n",
        "\n",
        "SZ = 512\n",
        "path = data_path5"
      ],
      "execution_count": 0,
      "outputs": []
    },
    {
      "cell_type": "code",
      "metadata": {
        "colab_type": "code",
        "id": "WS4MizcSHoDI",
        "colab": {}
      },
      "source": [
        "# path.ls()"
      ],
      "execution_count": 0,
      "outputs": []
    },
    {
      "cell_type": "code",
      "metadata": {
        "colab_type": "code",
        "id": "ljb5IPHnG3qh",
        "colab": {}
      },
      "source": [
        "# Create databunch\n",
        "data = (SegmentationItemList.from_folder(path=path/'train')#[:100]\n",
        "        .split_by_rand_pct(0.2, seed=1234)\n",
        "        .label_from_func(lambda x : str(x).replace('train', 'masks'), classes=[0, 1])\n",
        "        .add_test((data_path_test).ls(), label=None)\n",
        "        .transform(get_transforms(), size=SZ, tfm_y=True)\n",
        "        .databunch(path=Path('.'), bs=bs)\n",
        "        .normalize())        "
      ],
      "execution_count": 0,
      "outputs": []
    },
    {
      "cell_type": "code",
      "metadata": {
        "colab_type": "code",
        "id": "qTd3LdV1G3qk",
        "colab": {}
      },
      "source": [
        "learn = unet_learner(data, models.resnet50, metrics=[dice], \n",
        "                     self_attention=True, blur=True, norm_type=NormType.Weight, \n",
        "                     loss_func=loss_func, \n",
        "                     callback_fns=ShowGraph).to_fp16()"
      ],
      "execution_count": 0,
      "outputs": []
    },
    {
      "cell_type": "code",
      "metadata": {
        "colab_type": "code",
        "id": "ymR3MIFSG3qm",
        "colab": {}
      },
      "source": [
        "learn.load('03b-unet-resnet50-256-2')\n",
        "learn.freeze()"
      ],
      "execution_count": 0,
      "outputs": []
    },
    {
      "cell_type": "code",
      "metadata": {
        "colab_type": "code",
        "id": "d6n2TERlG3qp",
        "colab": {}
      },
      "source": [
        "# learn.lr_find()\n",
        "# learn.recorder.plot(suggestion=True, skip_last=1)"
      ],
      "execution_count": 0,
      "outputs": []
    },
    {
      "cell_type": "code",
      "metadata": {
        "colab_type": "code",
        "id": "waxMPLwPG3qr",
        "colab": {}
      },
      "source": [
        "lr = 3e-4"
      ],
      "execution_count": 0,
      "outputs": []
    },
    {
      "cell_type": "code",
      "metadata": {
        "colab_type": "code",
        "id": "-7bgvhRbG3qu",
        "colab": {}
      },
      "source": [
        "learn.fit_one_cycle(4, max_lr=lr, wd=1e-3, pct_start=0.8)"
      ],
      "execution_count": 0,
      "outputs": []
    },
    {
      "cell_type": "code",
      "metadata": {
        "colab_type": "code",
        "id": "RFT5egD_G3qx",
        "colab": {}
      },
      "source": [
        "learn.save('03b-unet-resnet50-512-1')"
      ],
      "execution_count": 0,
      "outputs": []
    },
    {
      "cell_type": "code",
      "metadata": {
        "colab_type": "code",
        "id": "m4F0560eG3qz",
        "colab": {}
      },
      "source": [
        "learn.load('03b-unet-resnet50-512-1');"
      ],
      "execution_count": 0,
      "outputs": []
    },
    {
      "cell_type": "code",
      "metadata": {
        "colab_type": "code",
        "id": "L595CZ-PG3q2",
        "colab": {}
      },
      "source": [
        "# learn.show_results(rows=4, figsize=(8, 16))"
      ],
      "execution_count": 0,
      "outputs": []
    },
    {
      "cell_type": "markdown",
      "metadata": {
        "colab_type": "text",
        "id": "VxOPfcQWG3q4"
      },
      "source": [
        "## 7.6 Unfreeze and Train Whole Model with 512"
      ]
    },
    {
      "cell_type": "code",
      "metadata": {
        "colab_type": "code",
        "id": "9NTFzX9LG3q5",
        "colab": {}
      },
      "source": [
        "learn.unfreeze()"
      ],
      "execution_count": 0,
      "outputs": []
    },
    {
      "cell_type": "code",
      "metadata": {
        "colab_type": "code",
        "id": "Ib5qG6DtG3q8",
        "colab": {}
      },
      "source": [
        "# learn.lr_find()\n",
        "# learn.recorder.plot(suggestion=True, skip_last=0)"
      ],
      "execution_count": 0,
      "outputs": []
    },
    {
      "cell_type": "code",
      "metadata": {
        "colab_type": "code",
        "id": "f9UDuGkYG3q_",
        "colab": {}
      },
      "source": [
        "lr = slice(3e-6, 1e-4)"
      ],
      "execution_count": 0,
      "outputs": []
    },
    {
      "cell_type": "code",
      "metadata": {
        "colab_type": "code",
        "id": "v6-kvg2_G3rC",
        "colab": {}
      },
      "source": [
        "learn.fit_one_cycle(10, max_lr=lr, wd=1e-3, pct_start=0.7)"
      ],
      "execution_count": 0,
      "outputs": []
    },
    {
      "cell_type": "code",
      "metadata": {
        "colab_type": "code",
        "id": "Q2aKGsBsG3rH",
        "colab": {}
      },
      "source": [
        "learn.save('03b-unet-resnet50-512-2')"
      ],
      "execution_count": 0,
      "outputs": []
    },
    {
      "cell_type": "code",
      "metadata": {
        "colab_type": "code",
        "id": "aSi2cGaKG3rM",
        "colab": {}
      },
      "source": [
        "learn.load('03b-unet-resnet50-512-2');"
      ],
      "execution_count": 0,
      "outputs": []
    },
    {
      "cell_type": "code",
      "metadata": {
        "colab_type": "code",
        "id": "RD0G2SAnG3rP",
        "colab": {}
      },
      "source": [
        "# learn.show_results(rows=4, figsize=(8, 16))"
      ],
      "execution_count": 0,
      "outputs": []
    },
    {
      "cell_type": "markdown",
      "metadata": {
        "colab_type": "text",
        "id": "Wxcd2CqdK_2J"
      },
      "source": [
        "## 7.7 Data Augmentation Annealing"
      ]
    },
    {
      "cell_type": "markdown",
      "metadata": {
        "id": "RM4fxbhzrKbV",
        "colab_type": "text"
      },
      "source": [
        "ก่อน Infer เราจะเทรนด้วยข้อมูลที่ไม่ได้ทำ [Data Augmentation](https://www.bualabs.com/archives/1170/what-is-data-augmentation-benefits-data-augmentaion-deep-learning-training-model-deep-neural-network-regularization-ep-1/) ตบท้าย"
      ]
    },
    {
      "cell_type": "code",
      "metadata": {
        "colab_type": "code",
        "id": "6WVB9LkWTr9S",
        "colab": {}
      },
      "source": [
        "learn.destroy()\n",
        "gc.collect()"
      ],
      "execution_count": 0,
      "outputs": []
    },
    {
      "cell_type": "code",
      "metadata": {
        "colab_type": "code",
        "id": "hXwHx268Tr9Y",
        "colab": {}
      },
      "source": [
        "bs=8\n",
        "\n",
        "SZ = 512\n",
        "path = data_path5"
      ],
      "execution_count": 0,
      "outputs": []
    },
    {
      "cell_type": "code",
      "metadata": {
        "colab_type": "code",
        "id": "-DWvH6vCTr9Z",
        "colab": {}
      },
      "source": [
        "# path.ls()"
      ],
      "execution_count": 0,
      "outputs": []
    },
    {
      "cell_type": "code",
      "metadata": {
        "colab_type": "code",
        "id": "mVRrwKjoTr9a",
        "colab": {}
      },
      "source": [
        "transform_none = [[], []]\n",
        "# Create databunch\n",
        "data = (SegmentationItemList.from_folder(path=path/'train')#[:500]\n",
        "        .split_by_rand_pct(0.01, seed=1234)\n",
        "        .label_from_func(lambda x : str(x).replace('train', 'masks'), classes=[0, 1])\n",
        "        .add_test((data_path_test).ls(), label=None)\n",
        "        .transform(transform_none, size=SZ, tfm_y=True)\n",
        "        .databunch(path=Path('.'), bs=bs)\n",
        "        .normalize())"
      ],
      "execution_count": 0,
      "outputs": []
    },
    {
      "cell_type": "code",
      "metadata": {
        "colab_type": "code",
        "id": "_IkhnewKTr9c",
        "colab": {}
      },
      "source": [
        "learn = unet_learner(data, models.resnet50, metrics=[dice], \n",
        "                     self_attention=True, blur=True, norm_type=NormType.Weight, \n",
        "                     loss_func=loss_func, \n",
        "                     callback_fns=ShowGraph).to_fp16()"
      ],
      "execution_count": 0,
      "outputs": []
    },
    {
      "cell_type": "code",
      "metadata": {
        "colab_type": "code",
        "id": "5vXCfqYKTr9e",
        "colab": {}
      },
      "source": [
        "learn.load('03b-unet-resnet50-512-2');\n"
      ],
      "execution_count": 0,
      "outputs": []
    },
    {
      "cell_type": "code",
      "metadata": {
        "id": "-kJfxrzvTr9g",
        "colab_type": "code",
        "colab": {}
      },
      "source": [
        "learn.unfreeze()"
      ],
      "execution_count": 0,
      "outputs": []
    },
    {
      "cell_type": "code",
      "metadata": {
        "colab_type": "code",
        "id": "m9LfnUM7Tr9h",
        "colab": {}
      },
      "source": [
        "# learn.lr_find()\n",
        "# learn.recorder.plot(suggestion=True, skip_last=1)"
      ],
      "execution_count": 0,
      "outputs": []
    },
    {
      "cell_type": "code",
      "metadata": {
        "colab_type": "code",
        "id": "5W8HlOXhTr9j",
        "colab": {}
      },
      "source": [
        "lr = slice(3e-6, 1e-4)"
      ],
      "execution_count": 0,
      "outputs": []
    },
    {
      "cell_type": "code",
      "metadata": {
        "colab_type": "code",
        "id": "LvLCR5EVTr9k",
        "colab": {}
      },
      "source": [
        "learn.fit_one_cycle(6, max_lr=lr, wd=1e-3, pct_start=0.7)"
      ],
      "execution_count": 0,
      "outputs": []
    },
    {
      "cell_type": "code",
      "metadata": {
        "colab_type": "code",
        "id": "Axrsn_JYTr9m",
        "colab": {}
      },
      "source": [
        "learn.save('03b-unet-resnet50-512-3')"
      ],
      "execution_count": 0,
      "outputs": []
    },
    {
      "cell_type": "code",
      "metadata": {
        "colab_type": "code",
        "id": "6IsIOjWQTr9o",
        "colab": {}
      },
      "source": [
        "learn.load('03b-unet-resnet50-512-3');"
      ],
      "execution_count": 0,
      "outputs": []
    },
    {
      "cell_type": "code",
      "metadata": {
        "colab_type": "code",
        "id": "5LmQnh15Tr9p",
        "colab": {}
      },
      "source": [
        "# learn.show_results(rows=4, figsize=(8, 16))"
      ],
      "execution_count": 0,
      "outputs": []
    },
    {
      "cell_type": "markdown",
      "metadata": {
        "colab_type": "text",
        "id": "HYHi1hIMakZ1"
      },
      "source": [
        "# 8. Make a Prediction"
      ]
    },
    {
      "cell_type": "markdown",
      "metadata": {
        "id": "ePfci9bhreUk",
        "colab_type": "text"
      },
      "source": [
        "เทรนเสร็จแล้ว เราจะใช้โมเดลมาทำนายวินิจฉัย Pneumothorax หรือ ภาวะปอดรั่ว จากฟิล์ม X-Ray ใน Validation Set ที่เราแบ่งไว้ตอนแรก 20% ว่าจะตรงไหม"
      ]
    },
    {
      "cell_type": "code",
      "metadata": {
        "colab_type": "code",
        "id": "6e6dyyCladId",
        "colab": {}
      },
      "source": [
        "# Predictions for the validation set\n",
        "preds, ys = learn.get_preds()\n",
        "preds = preds[:,1,...]\n",
        "ys = ys.squeeze()"
      ],
      "execution_count": 0,
      "outputs": []
    },
    {
      "cell_type": "code",
      "metadata": {
        "colab_type": "code",
        "id": "m8-g8oswYenE",
        "colab": {}
      },
      "source": [
        "preds.shape, ys.shape"
      ],
      "execution_count": 0,
      "outputs": []
    },
    {
      "cell_type": "code",
      "metadata": {
        "colab_type": "code",
        "id": "pEQf6Qh0adRa",
        "colab": {}
      },
      "source": [
        "def dice_overall(preds, targs):\n",
        "    n = preds.shape[0]\n",
        "    preds = preds.view(n, -1)\n",
        "    targs = targs.view(n, -1)\n",
        "    intersect = (preds * targs).sum(-1).float()\n",
        "    union = (preds+targs).sum(-1).float()\n",
        "    u0 = union==0\n",
        "    intersect[u0] = 1\n",
        "    union[u0] = 2\n",
        "    return (2. * intersect / union)"
      ],
      "execution_count": 0,
      "outputs": []
    },
    {
      "cell_type": "markdown",
      "metadata": {
        "id": "yquwj6xxr-uI",
        "colab_type": "text"
      },
      "source": [
        "หา Threshold ให้ได้ ค่า Dice ที่ดีที่สุด"
      ]
    },
    {
      "cell_type": "code",
      "metadata": {
        "colab_type": "code",
        "id": "MHRC0AQgadXv",
        "colab": {}
      },
      "source": [
        "# Find optimal threshold\n",
        "dices = []\n",
        "thrs = np.arange(0.01, 1, 0.01)\n",
        "for i in progress_bar(thrs):\n",
        "    preds_m = (preds>i).long()\n",
        "    dices.append(dice_overall(preds_m, ys).mean())\n",
        "dices = np.array(dices)"
      ],
      "execution_count": 0,
      "outputs": []
    },
    {
      "cell_type": "code",
      "metadata": {
        "colab_type": "code",
        "id": "_JM8o1JBafMx",
        "colab": {}
      },
      "source": [
        "best_dice = dices.max()\n",
        "best_thr = thrs[dices.argmax()]\n",
        "\n",
        "plt.figure(figsize=(8,4))\n",
        "plt.plot(thrs, dices)\n",
        "plt.vlines(x=best_thr, ymin=dices.min(), ymax=dices.max())\n",
        "plt.text(best_thr+0.03, best_dice-0.01, f'DICE = {best_dice:.3f}', fontsize=14);\n",
        "plt.show()"
      ],
      "execution_count": 0,
      "outputs": []
    },
    {
      "cell_type": "markdown",
      "metadata": {
        "id": "9O3FUURLsWsM",
        "colab_type": "text"
      },
      "source": [
        "ดูผลลัพธ์ในการวิจิฉัยภาวะปอดรั่ว (Pneumothorax) จะเห็นเป็น Image Segmentation เป็นสีเหลืองเขียว บริเวณปอดที่มีภาวะปอดรั่ว (Pneumothorax) เทียบกับ Label จากข้อมูลตัวอย่างใน Dataset\n",
        "\n",
        "จะเห็นว่าโมเดลของเราวินิจฉัยได้อย่างแม่นยำ "
      ]
    },
    {
      "cell_type": "code",
      "metadata": {
        "colab_type": "code",
        "id": "oye2Shq5afZ9",
        "colab": {}
      },
      "source": [
        "# Plot some samples\n",
        "rows = 5\n",
        "plot_idx = ys.sum((1,2)).sort(descending=True).indices[:rows]\n",
        "for idx in plot_idx:\n",
        "    fig, (ax0, ax1, ax2) = plt.subplots(ncols=3, figsize=(12, 4))\n",
        "    ax0.imshow(data.valid_ds[idx][0].data.numpy().transpose(1,2,0))\n",
        "    ax1.imshow(ys[idx], vmin=0, vmax=1)\n",
        "    ax2.imshow(preds[idx], vmin=0, vmax=1)\n",
        "    ax1.set_title('Targets')\n",
        "    ax2.set_title('Predictions')"
      ],
      "execution_count": 0,
      "outputs": []
    },
    {
      "cell_type": "markdown",
      "metadata": {
        "colab_type": "text",
        "id": "bwe7WZPEa7Qu"
      },
      "source": [
        "# 10. Submit Predictions to Kaggle"
      ]
    },
    {
      "cell_type": "markdown",
      "metadata": {
        "colab_type": "text",
        "id": "j4hFAHD-afmR"
      },
      "source": [
        "ส่งผลการวินิจฉัยฟิล์ม X-Ray ใน Test Set ไปให้ Kaggle ตรวจ"
      ]
    },
    {
      "cell_type": "code",
      "metadata": {
        "colab_type": "code",
        "id": "_IKgpP5Rafx_",
        "colab": {}
      },
      "source": [
        "# Predictions for test set\n",
        "preds, _ = learn.get_preds(ds_type=DatasetType.Test)\n",
        "preds = (preds[:,1,...]>best_thr).long().numpy()\n",
        "print(preds.sum())"
      ],
      "execution_count": 0,
      "outputs": []
    },
    {
      "cell_type": "code",
      "metadata": {
        "colab_type": "code",
        "id": "NWG4XGi5af-l",
        "colab": {}
      },
      "source": [
        "# Generate rle encodings (images are first converted to the original size)\n",
        "rles = []\n",
        "for p in progress_bar(preds):\n",
        "    im = PIL.Image.fromarray((p.T*255).astype(np.uint8)).resize((1024,1024))\n",
        "    im = np.asarray(im)\n",
        "    rles.append(mask2rle(im, 1024, 1024))"
      ],
      "execution_count": 0,
      "outputs": []
    },
    {
      "cell_type": "markdown",
      "metadata": {
        "id": "GiADP4mW_Jhe",
        "colab_type": "text"
      },
      "source": [
        "แปลงจากรูป เป็น RLE เหมือนเดิม"
      ]
    },
    {
      "cell_type": "code",
      "metadata": {
        "colab_type": "code",
        "id": "Rs9yJBgLagJ8",
        "colab": {}
      },
      "source": [
        "ids = [o.stem for o in data.test_ds.items]\n",
        "sub_df = pd.DataFrame({'ImageId': ids, 'EncodedPixels': rles})\n",
        "sub_df.loc[sub_df.EncodedPixels=='', 'EncodedPixels'] = '-1'\n",
        "sub_df.head()"
      ],
      "execution_count": 0,
      "outputs": []
    },
    {
      "cell_type": "code",
      "metadata": {
        "colab_type": "code",
        "id": "rRaNDTjcauJU",
        "colab": {}
      },
      "source": [
        "sub_df.shape"
      ],
      "execution_count": 0,
      "outputs": []
    },
    {
      "cell_type": "code",
      "metadata": {
        "colab_type": "code",
        "id": "uvtMu-R4a3CE",
        "colab": {}
      },
      "source": [
        "sub_df.to_csv('submission.csv', index=False)"
      ],
      "execution_count": 0,
      "outputs": []
    },
    {
      "cell_type": "code",
      "metadata": {
        "colab_type": "code",
        "id": "MH8eXgO7a3Nn",
        "colab": {}
      },
      "source": [
        "! kaggle competitions submit siim-acr-pneumothorax-segmentation -f {'submission.csv'} -m \"My submission Focal Loss 01\""
      ],
      "execution_count": 0,
      "outputs": []
    },
    {
      "cell_type": "markdown",
      "metadata": {
        "id": "q1wGFX8m2XPm",
        "colab_type": "text"
      },
      "source": [
        "\n",
        "\n",
        "| Name           | Submitted    | Wait time | Execution time | Score   |\n",
        "|----------------|--------------|-----------|----------------|---------|\n",
        "| submission.csv | a day ago    | 0 seconds | 1 seconds      | 0.9060  |\n"
      ]
    },
    {
      "cell_type": "markdown",
      "metadata": {
        "id": "q2b1z-PL_5OR",
        "colab_type": "text"
      },
      "source": [
        "เราได้ Public Leaderboard 0.9060, Private Leaderboard 0.8104 อยู่ที่อันดับ 280 จาก 1475 ดังตารางด้านล่าง = Top 20%"
      ]
    },
    {
      "cell_type": "markdown",
      "metadata": {
        "id": "Zy-3oRUJy0oa",
        "colab_type": "text"
      },
      "source": [
        "| #   \t| Team Name      \t| Score  \t| Last \t|\n",
        "|-----\t|----------------\t|--------\t|------\t|\n",
        "| 278 \t| UWRad          \t| 0.8113 \t| 2mo  \t|\n",
        "| 279 \t| Mitul          \t| 0.8105 \t| 2mo  \t|\n",
        "| 280 \t| diCELLa        \t| 0.8096 \t| 2mo  \t|\n",
        "| 281 \t| lucaskg        \t| 0.8094 \t| 2mo  \t|\n",
        "| 282 \t| Insaf Ashrapov \t| 0.8091 \t| 2mo  \t|\n"
      ]
    },
    {
      "cell_type": "markdown",
      "metadata": {
        "id": "CYjRTOZS2YcH",
        "colab_type": "text"
      },
      "source": [
        "\n",
        "Top 10 ใน Private Leaderboard คือ อันดับที่ 147 จาก 1475 ทีม Dice = 0.8320 "
      ]
    },
    {
      "cell_type": "markdown",
      "metadata": {
        "id": "h-THOAoNtbNJ",
        "colab_type": "text"
      },
      "source": [
        "# สรุป"
      ]
    },
    {
      "cell_type": "markdown",
      "metadata": {
        "id": "WuU7Ve1wtauj",
        "colab_type": "text"
      },
      "source": [
        "* เราได้สร้าง AI วิจิฉัยภาวะปอดรั่ว (Pneumothorax) ที่ทำงานได้อย่าง อย่างแม่นยำพอสมควร ด้วยการเทรนโมเดล ด้วย GPU ไม่ถึง 24 ชั่วโมง\n",
        "* แทนที่จะใช้รูป PNG จาก Dataset ที่คนทำไว้ให้แล้ว เราสามารถแปลงไฟล์เองจากไฟล์ DICOM ต้นฉบับ เลือก Window ข้อมูลที่เราต้องการ เพื่อปรับปรุ่งความแม่นยำให้มากขึ้น\n",
        "* เราสามารถเพิ่มความซับซ้อนของโมเดล, รูปขนาดใหญ่ขึ้น, Loss Function, Multi-Head และใช้ GPU รุ่นใหม่ขึ้นในการเทรน ให้ได้ผลลัพธ์ที่แม่นยำมากขึ้น รวดเร็วขึ้นไปอีก\n",
        "* เราสามารถประยุกต์ใช้โมเดลนี้ กับโรคที่คล้าย ๆ กันอีกหลายโรค ที่ต้องวินิจฉัยโดย Radiologist (แพทย์รังสีวิทยา) อ่านฟิล์ม X-Ray"
      ]
    },
    {
      "cell_type": "markdown",
      "metadata": {
        "colab_type": "text",
        "id": "D2Q2fi5RXT6-"
      },
      "source": [
        "# Credit"
      ]
    },
    {
      "cell_type": "markdown",
      "metadata": {
        "colab_type": "text",
        "id": "OkeIgX03XT_g"
      },
      "source": [
        "* https://www.kaggle.com/c/siim-acr-pneumothorax-segmentation/\n",
        "* https://siim.org/\n",
        "* https://www.bualabs.com/archives/835/image-segmentation-semantic-segmentation-camvid-machine-learning-unet-deep-learning-image-segmentation-ep-1/\n",
        "* https://en.wikipedia.org/wiki/Pneumothorax\n",
        "* https://www.kaggle.com/schlerp/getting-to-know-dicom-and-the-data/\n",
        "* https://www.kaggle.com/jesperdramsch/intro-chest-xray-dicom-viz-u-nets-full-data\n",
        "* https://www.kaggle.com/jesperdramsch/siim-acr-pneumothorax-segmentation-data\n",
        "* https://www.kaggle.com/iafoss/hypercolumns-pneumothorax-fastai-0-831-lb\n",
        "* https://www.kaggle.com/iafoss/siimacr-pneumothorax-segmentation-data-128\n",
        "* https://www.kaggle.com/iafoss/siimacr-pneumothorax-segmentation-data-256\n",
        "* https://www.kaggle.com/iafoss/siimacr-pneumothorax-segmentation-data-512\n",
        "* https://www.kaggle.com/iafoss/siimacr-pneumothorax-segmentation-data-1024\n",
        "* https://www.kaggle.com/mnpinto/pneumothorax-fastai-u-net\n",
        "* https://www.kaggle.com/c/rsna-pneumonia-detection-challenge\n",
        "* https://www.kaggle.com/meaninglesslives/unet-with-efficientnet-encoder-in-keras\n",
        "* https://pydicom.github.io/pydicom/stable/getting_started.html\n",
        "* https://docs.python.org/2/library/glob.html\n",
        "* https://arxiv.org/abs/1505.04597\n",
        "* https://stackoverflow.com/questions/48750199/google-colaboratory-misleading-information-about-its-gpu-only-5-ram-available\n",
        "\n",
        "\n"
      ]
    },
    {
      "cell_type": "code",
      "metadata": {
        "colab_type": "code",
        "id": "3F1Ci5EfraPj",
        "colab": {}
      },
      "source": [
        ""
      ],
      "execution_count": 0,
      "outputs": []
    }
  ]
}